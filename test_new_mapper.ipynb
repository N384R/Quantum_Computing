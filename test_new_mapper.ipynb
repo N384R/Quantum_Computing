{
 "cells": [
  {
   "cell_type": "markdown",
   "metadata": {},
   "source": [
    "**1. Fermionic Operator**"
   ]
  },
  {
   "cell_type": "code",
   "execution_count": 1,
   "metadata": {},
   "outputs": [
    {
     "name": "stdout",
     "output_type": "stream",
     "text": [
      "[(-1.02, (a₁†, a₂, a₃†, a₄))]\n",
      "[(1.27, (a₁†, a₂, a₃†, a₄))]\n",
      "[(-1.01, (a₁, a₂†, a₃, a₄†))]\n",
      "+ (0.250000) a₁†a₂a₃†a₄\n",
      "- (1.010000) a₁a₂†a₃a₄†\n",
      "\n",
      "{(a₁†, a₂, a₃†, a₄): 0.25, (a₁, a₂†, a₃, a₄†): -1.01}\n"
     ]
    }
   ],
   "source": [
    "from jqc.new_mapper.fermion import FermionicOp\n",
    "\n",
    "fo1 = FermionicOp(-1.02, '1^ 2 3^ 4')\n",
    "fo2 = FermionicOp(+1.27, '1^ 2 3^ 4')\n",
    "fo3 = FermionicOp(-1.01, '1 2^ 3 4^')\n",
    "\n",
    "fo4 = fo1 + fo2 + fo3\n",
    "\n",
    "print(fo4)\n",
    "print(fo4.objects)"
   ]
  },
  {
   "cell_type": "code",
   "execution_count": 1,
   "metadata": {},
   "outputs": [
    {
     "name": "stdout",
     "output_type": "stream",
     "text": [
      "dirac_sort\n",
      "+ (1.020000) a₁†a₂†a₃†a₅a₄a₃\n",
      "\n"
     ]
    }
   ],
   "source": [
    "from jqc.new_mapper.fermion import FermionicOp\n",
    "\n",
    "fo = FermionicOp(-1.02, '3^ 2^ 3 1^ 4 5')\n",
    "\n",
    "print(fo)"
   ]
  },
  {
   "cell_type": "code",
   "execution_count": 2,
   "metadata": {},
   "outputs": [
    {
     "name": "stdout",
     "output_type": "stream",
     "text": [
      "+ (1.020000) a₂†a₂\n",
      "- (1.020000) a₁†a₂†a₂a₁\n",
      "\n"
     ]
    }
   ],
   "source": [
    "from jqc.new_mapper.fermion import FermionicOp\n",
    "\n",
    "fo = FermionicOp(1.02, '1 2^ 2 1^')\n",
    "\n",
    "print(fo)"
   ]
  },
  {
   "cell_type": "code",
   "execution_count": 1,
   "metadata": {},
   "outputs": [
    {
     "name": "stdout",
     "output_type": "stream",
     "text": [
      "{(): 1.0, (a₂†, a₂): -1.0, (a₁†, a₁): -1.0, (a₁†, a₂†, a₂, a₁): 3.0}\n"
     ]
    }
   ],
   "source": [
    "from jqc.new_mapper.fermion import FermionicOp\n",
    "\n",
    "fo1 = FermionicOp(1.00, '1 2 2^ 1^')\n",
    "fo2 = FermionicOp(2.00, '1^ 2^ 2 1')\n",
    "fo3 = fo1 + fo2\n",
    "\n",
    "print(f'Text:\\n{fo3}')\n",
    "print(f'Dict:\\n{fo3.objects}')"
   ]
  }
 ],
 "metadata": {
  "kernelspec": {
   "display_name": "base",
   "language": "python",
   "name": "python3"
  },
  "language_info": {
   "codemirror_mode": {
    "name": "ipython",
    "version": 3
   },
   "file_extension": ".py",
   "mimetype": "text/x-python",
   "name": "python",
   "nbconvert_exporter": "python",
   "pygments_lexer": "ipython3",
   "version": "3.11.7"
  }
 },
 "nbformat": 4,
 "nbformat_minor": 2
}
