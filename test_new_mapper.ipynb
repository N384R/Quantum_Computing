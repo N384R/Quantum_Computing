{
 "cells": [
  {
   "cell_type": "code",
   "execution_count": 1,
   "metadata": {},
   "outputs": [
    {
     "name": "stdout",
     "output_type": "stream",
     "text": [
      "(a₁†, a₂, a₃†, a₄)\n"
     ]
    }
   ],
   "source": [
    "\n",
    "from jqc.new_mapper.fermion import FermionString\n",
    "\n",
    "fo = FermionString('1.00 1^ 2 3^ 4')\n",
    "print(fo.operator)"
   ]
  },
  {
   "cell_type": "code",
   "execution_count": 1,
   "metadata": {},
   "outputs": [
    {
     "name": "stdout",
     "output_type": "stream",
     "text": [
      "- (2.0000000000000000) ZX + (2.0000000000000000)i ZY \n"
     ]
    }
   ],
   "source": [
    "from jqc.mapper.jordan_wigner import JordanWigner\n",
    "\n",
    "jw = JordanWigner(['-', ['4.00', '1^']])\n",
    "print(jw)"
   ]
  },
  {
   "cell_type": "code",
   "execution_count": 7,
   "metadata": {},
   "outputs": [
    {
     "name": "stdout",
     "output_type": "stream",
     "text": [
      "Output: ['+', ['2.54', '10^', '13^', '5', '4'], '-', ['1.32', '9^', '11^', '3', '0']]\n"
     ]
    }
   ],
   "source": [
    "from jqc.mapper.fermionic_sort import FermionicSort\n",
    "\n",
    "fo = FermionicSort('2.54 13^ 10^ 4 5 - 1.32 11^ 9^ 0 3')\n",
    "print('Output:', fo.operator)"
   ]
  }
 ],
 "metadata": {
  "kernelspec": {
   "display_name": "base",
   "language": "python",
   "name": "python3"
  },
  "language_info": {
   "codemirror_mode": {
    "name": "ipython",
    "version": 3
   },
   "file_extension": ".py",
   "mimetype": "text/x-python",
   "name": "python",
   "nbconvert_exporter": "python",
   "pygments_lexer": "ipython3",
   "version": "3.11.7"
  }
 },
 "nbformat": 4,
 "nbformat_minor": 2
}
