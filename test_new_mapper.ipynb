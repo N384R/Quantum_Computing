{
 "cells": [
  {
   "cell_type": "markdown",
   "metadata": {},
   "source": [
    "**1. Fermionic Operator**"
   ]
  },
  {
   "cell_type": "code",
   "execution_count": 6,
   "metadata": {},
   "outputs": [
    {
     "name": "stdout",
     "output_type": "stream",
     "text": [
      "+ (0.250000) a₁†a₃†a₄a₂\n",
      "- (1.010000) a₂†a₄†a₃a₁\n",
      "\n",
      "{(a₁†, a₃†, a₄, a₂): 0.25, (a₂†, a₄†, a₃, a₁): -1.01}\n"
     ]
    }
   ],
   "source": [
    "from jqc.new_mapper.fermion import FermionicOp\n",
    "\n",
    "fo1 = FermionicOp(-1.02, '1^ 2 3^ 4')\n",
    "fo2 = FermionicOp(+1.27, '1^ 2 3^ 4')\n",
    "fo3 = FermionicOp(-1.01, '1 2^ 3 4^')\n",
    "\n",
    "fo4 = fo1 + fo2 + fo3\n",
    "\n",
    "print(fo4)\n",
    "print(fo4.objects)"
   ]
  },
  {
   "cell_type": "code",
   "execution_count": 5,
   "metadata": {},
   "outputs": [
    {
     "name": "stdout",
     "output_type": "stream",
     "text": [
      "+ (1.020000) a₁†a₂†a₃†a₅a₄a₃\n",
      "\n"
     ]
    }
   ],
   "source": [
    "from jqc.new_mapper.fermion import FermionicOp\n",
    "\n",
    "fo = FermionicOp(-1.02, '3^ 2^ 3 1^ 4 5')\n",
    "\n",
    "print(fo)"
   ]
  },
  {
   "cell_type": "code",
   "execution_count": 4,
   "metadata": {},
   "outputs": [
    {
     "name": "stdout",
     "output_type": "stream",
     "text": [
      "+ (1.020000) a₂†a₂\n",
      "- (1.020000) a₁†a₂†a₂a₁\n",
      "\n"
     ]
    }
   ],
   "source": [
    "from jqc.new_mapper.fermion import FermionicOp\n",
    "\n",
    "fo = FermionicOp(1.02, '1 2^ 2 1^')\n",
    "\n",
    "print(fo)"
   ]
  },
  {
   "cell_type": "code",
   "execution_count": 1,
   "metadata": {},
   "outputs": [
    {
     "name": "stdout",
     "output_type": "stream",
     "text": [
      "Text:\n",
      "+ (1.050000) \n",
      "- (1.050000) a₂†a₂\n",
      "- (1.050000) a₁†a₁\n",
      "- (0.950000) a₁†a₂†a₂a₁\n",
      "\n",
      "Dict:\n",
      "{(): 1.05, (a₂†, a₂): -1.05, (a₁†, a₁): -1.05, (a₁†, a₂†, a₂, a₁): -0.95}\n"
     ]
    }
   ],
   "source": [
    "from jqc.new_mapper.fermion import FermionicOp\n",
    "\n",
    "fo1 = FermionicOp(1.05, '1 2 2^ 1^')\n",
    "fo2 = FermionicOp(2.00, '1^ 2^ 2 1')\n",
    "fo3 = fo1 - fo2\n",
    "\n",
    "print(f'Text:\\n{fo3}')\n",
    "print(f'Dict:\\n{fo3.objects}')"
   ]
  },
  {
   "cell_type": "markdown",
   "metadata": {},
   "source": [
    "**2. Pauli Operator**"
   ]
  },
  {
   "cell_type": "code",
   "execution_count": 2,
   "metadata": {},
   "outputs": [
    {
     "name": "stdout",
     "output_type": "stream",
     "text": [
      "-iY\n"
     ]
    }
   ],
   "source": [
    "from jqc.new_mapper.pauli import Pauli\n",
    "\n",
    "pauli1 = Pauli('iX')\n",
    "pauli2 = Pauli('-iZ')\n",
    "\n",
    "pauli3 = pauli1 * pauli2\n",
    "\n",
    "print(pauli3)"
   ]
  },
  {
   "cell_type": "code",
   "execution_count": 3,
   "metadata": {},
   "outputs": [
    {
     "name": "stdout",
     "output_type": "stream",
     "text": [
      "+ (0.000000+1.000000j) III\n",
      "\n",
      "{(I, I, I): 1j}\n"
     ]
    }
   ],
   "source": [
    "from jqc.new_mapper.pauli import PauliOp\n",
    "\n",
    "ps1 = PauliOp(1.00, 'iX Y Z')\n",
    "ps2 = PauliOp(1.00, 'X Y Z')\n",
    "\n",
    "ps3 = ps1 * ps2\n",
    "\n",
    "print(ps3)\n",
    "print(ps3.objects)"
   ]
  },
  {
   "cell_type": "code",
   "execution_count": 1,
   "metadata": {},
   "outputs": [
    {
     "name": "stdout",
     "output_type": "stream",
     "text": [
      "ps4:\n",
      "+ ( 1.000000) ZZ\n",
      "+ ( 1.000000) XX\n",
      "\n",
      "\n",
      "ps5:\n",
      "+ ( 2.000000) II\n",
      "+ (-2.000000) YY\n",
      "\n",
      "\n"
     ]
    }
   ],
   "source": [
    "from jqc.new_mapper.pauli import PauliOp\n",
    "\n",
    "ps1 = PauliOp(1.00, 'Z Z')\n",
    "ps2 = PauliOp(1.00, 'X X')\n",
    "ps3 = PauliOp(1.00, 'Y Y')\n",
    "\n",
    "ps4 = ps1 + ps2\n",
    "print(f'ps4:\\n{ps4}\\n')\n",
    "\n",
    "ps5 = ps4 * ps4\n",
    "print(f'ps5:\\n{ps5}\\n')"
   ]
  }
 ],
 "metadata": {
  "kernelspec": {
   "display_name": "base",
   "language": "python",
   "name": "python3"
  },
  "language_info": {
   "codemirror_mode": {
    "name": "ipython",
    "version": 3
   },
   "file_extension": ".py",
   "mimetype": "text/x-python",
   "name": "python",
   "nbconvert_exporter": "python",
   "pygments_lexer": "ipython3",
   "version": "3.11.7"
  }
 },
 "nbformat": 4,
 "nbformat_minor": 2
}
