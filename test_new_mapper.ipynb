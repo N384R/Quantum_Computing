{
 "cells": [
  {
   "cell_type": "markdown",
   "metadata": {},
   "source": [
    "**1. Fermionic Operator**"
   ]
  },
  {
   "cell_type": "code",
   "execution_count": 1,
   "metadata": {},
   "outputs": [
    {
     "name": "stdout",
     "output_type": "stream",
     "text": [
      "- (1.020000) a₀†a₀†a₀a₀\n",
      "\n"
     ]
    }
   ],
   "source": [
    "from jqc.mapper.fermion import FermionicOp\n",
    "\n",
    "fo1 = FermionicOp(-1.02, '0^ 0^ 0 0')\n",
    "\n",
    "print(fo1)"
   ]
  },
  {
   "cell_type": "code",
   "execution_count": 5,
   "metadata": {},
   "outputs": [
    {
     "name": "stdout",
     "output_type": "stream",
     "text": [
      "+ (1.020000) a₁†a₂†a₃†a₅a₄a₃\n",
      "\n"
     ]
    }
   ],
   "source": [
    "from jqc.mapper.fermion import FermionicOp\n",
    "\n",
    "fo = FermionicOp(-1.02, '3^ 2^ 3 1^ 4 5')\n",
    "\n",
    "print(fo)"
   ]
  },
  {
   "cell_type": "code",
   "execution_count": 4,
   "metadata": {},
   "outputs": [
    {
     "name": "stdout",
     "output_type": "stream",
     "text": [
      "+ (1.020000) a₂†a₂\n",
      "- (1.020000) a₁†a₂†a₂a₁\n",
      "\n"
     ]
    }
   ],
   "source": [
    "from jqc.mapper.fermion import FermionicOp\n",
    "\n",
    "fo = FermionicOp(1.02, '1 2^ 2 1^')\n",
    "\n",
    "print(fo)"
   ]
  },
  {
   "cell_type": "code",
   "execution_count": 1,
   "metadata": {},
   "outputs": [
    {
     "name": "stdout",
     "output_type": "stream",
     "text": [
      "Text:\n",
      "+ (1.050000) \n",
      "- (1.050000) a₂†a₂\n",
      "- (1.050000) a₁†a₁\n",
      "- (0.950000) a₁†a₂†a₂a₁\n",
      "\n",
      "Dict:\n",
      "{(): 1.05, (a₂†, a₂): -1.05, (a₁†, a₁): -1.05, (a₁†, a₂†, a₂, a₁): -0.95}\n"
     ]
    }
   ],
   "source": [
    "from jqc.mapper.fermion import FermionicOp\n",
    "\n",
    "fo1 = FermionicOp(1.05, '1 2 2^ 1^')\n",
    "fo2 = FermionicOp(2.00, '1^ 2^ 2 1')\n",
    "fo3 = fo1 - fo2\n",
    "\n",
    "print(f'Text:\\n{fo3}')\n",
    "print(f'Dict:\\n{fo3.objects}')"
   ]
  },
  {
   "cell_type": "code",
   "execution_count": 5,
   "metadata": {},
   "outputs": [
    {
     "name": "stdout",
     "output_type": "stream",
     "text": [
      "+ (+ 0.928106 + 0.000000 i) IIII\n",
      "+ (+ 0.461214 + 0.000000 i) ZIII\n",
      "+ (+ 0.461214 + 0.000000 i) IIZI\n",
      "+ (+ 0.170597 + 0.000000 i) ZIZI\n",
      "+ (+ 0.466893 + 0.000000 i) IZII\n",
      "+ (+ 0.122933 + 0.000000 i) ZZII\n",
      "+ (+ 0.167683 + 0.000000 i) IZZI\n",
      "+ (+ 0.466893 + 0.000000 i) IIIZ\n",
      "+ (+ 0.167683 + 0.000000 i) ZIIZ\n",
      "+ (+ 0.122933 + 0.000000 i) IIZZ\n",
      "+ (+ 0.044750 + 0.000000 i) YYXX\n",
      "+ (+ 0.044750 + 0.000000 i) YYYY\n",
      "+ (+ 0.044750 + 0.000000 i) XXXX\n",
      "+ (+ 0.044750 + 0.000000 i) XXYY\n",
      "+ (+ 0.176276 + 0.000000 i) IZIZ\n",
      "\n"
     ]
    }
   ],
   "source": [
    "from itertools import product\n",
    "import numpy as np\n",
    "from jqc.mapper.fermion import FermionicOp\n",
    "\n",
    "second_q = FermionicOp()\n",
    "\n",
    "two_elec =np.array([[[[6.82389533e-01, 0.00000000e+00],\n",
    "                      [0.00000000e+00, 6.70732778e-01]],\n",
    "                     [[0.00000000e+00, 1.79000576e-01],\n",
    "                      [1.79000576e-01, 0.00000000e+00]]],\n",
    "                    [[[0.00000000e+00, 1.79000576e-01],\n",
    "                      [1.79000576e-01, 0.00000000e+00]],\n",
    "                     [[6.70732778e-01, 0.00000000e+00],\n",
    "                      [0.00000000e+00, 7.05105632e-01]]]])\n",
    "\n",
    "for i, j, k, l in product(range(2), repeat=4):\n",
    "    coeff = two_elec[i, j, k, l] / 2\n",
    "    if coeff == 0:\n",
    "        continue\n",
    "    second_q += FermionicOp(coeff, f'{k}^ {j}^ {i} {l}') + \\\n",
    "                FermionicOp(coeff, f'{k}^ {j+2}^ {i+2} {l}') + \\\n",
    "                FermionicOp(coeff, f'{k+2}^ {j}^ {i} {l+2}') + \\\n",
    "                FermionicOp(coeff, f'{k+2}^ {j+2}^ {i+2} {l+2}')\n",
    "\n",
    "print(second_q.jordan_wigner)"
   ]
  },
  {
   "cell_type": "code",
   "execution_count": 8,
   "metadata": {},
   "outputs": [
    {
     "name": "stdout",
     "output_type": "stream",
     "text": [
      "+ (1.000000) a₀†a₁†a₁a₀\n",
      "\n",
      "+ (+ 0.250000 + 0.000000 i) II\n",
      "+ (+ 0.250000 + 0.000000 i) ZI\n",
      "+ (+ 0.250000 + 0.000000 i) IZ\n",
      "+ (+ 0.250000 + 0.000000 i) ZZ\n",
      "\n"
     ]
    }
   ],
   "source": [
    "from itertools import product\n",
    "import numpy as np\n",
    "from jqc.mapper.fermion import FermionicOp\n",
    "\n",
    "second_q = FermionicOp(1.00, '0^ 0 1^ 1')\n",
    "print(second_q)\n",
    "print(second_q.jordan_wigner)"
   ]
  },
  {
   "cell_type": "code",
   "execution_count": 11,
   "metadata": {},
   "outputs": [
    {
     "name": "stdout",
     "output_type": "stream",
     "text": [
      "+ 1.000000 0^ 0 1^ 1\n",
      "+ 1.0000000000000000 a₀† a₁† a₁ a₀\n",
      "+ (0.250000000000000) II - (0.250000000000000) ZI - (0.250000000000000) IZ + (0.250000000000000) ZZ \n"
     ]
    }
   ],
   "source": [
    "from itertools import product\n",
    "import numpy as np\n",
    "from legacy.mapper.jordan_wigner import JordanWignerMapper\n",
    "\n",
    "second_q = f'+ {1.:.06f} {0}^ {0} {1}^ {1}'\n",
    "print(second_q)\n",
    "print(JordanWignerMapper(second_q))"
   ]
  },
  {
   "cell_type": "code",
   "execution_count": 4,
   "metadata": {},
   "outputs": [
    {
     "name": "stdout",
     "output_type": "stream",
     "text": [
      "+ 0.3411950000000000 a₀† a₀† a₀ a₀ + 0.4917320000000000 a₀† a₁† a₁ a₀ + 0.0895000000000000 a₁† a₁† a₀ a₀ + 0.0895000000000000 a₀† a₀† a₁ a₁ + 0.3525530000000000 a₁† a₁† a₁ a₁\n",
      "+ (0.122933000000000) II - (0.122933000000000) ZI - (0.122933000000000) IZ + (0.122933000000000) ZZ \n"
     ]
    }
   ],
   "source": [
    "from itertools import product\n",
    "import numpy as np\n",
    "from legacy.mapper.jordan_wigner import JordanWignerMapper\n",
    "\n",
    "second_q = ''\n",
    "\n",
    "two_elec =np.array([[[[6.82389533e-01, 0.00000000e+00],\n",
    "                      [0.00000000e+00, 6.70732778e-01]],\n",
    "                     [[0.00000000e+00, 1.79000576e-01],\n",
    "                      [1.79000576e-01, 0.00000000e+00]]],\n",
    "                    [[[0.00000000e+00, 1.79000576e-01],\n",
    "                      [1.79000576e-01, 0.00000000e+00]],\n",
    "                     [[6.70732778e-01, 0.00000000e+00],\n",
    "                      [0.00000000e+00, 7.05105632e-01]]]])\n",
    "\n",
    "def sign(val):\n",
    "    return '-' if val < 0 else '+'\n",
    "\n",
    "for i, j, k, l in product(range(2), repeat=4):\n",
    "    coeff = two_elec[i, j, k, l] / 2\n",
    "    if coeff == 0:\n",
    "        continue\n",
    "    second_q += f'{sign(coeff)} {abs(coeff):.06f} {k}^ {j}^ {i} {l}' + '\\n'\n",
    "    second_q += f'{sign(coeff)} {abs(coeff):.06f} {k}^ {j+2}^ {i+2} {l}' + '\\n'\n",
    "    second_q += f'{sign(coeff)} {abs(coeff):.06f} {k+2}^ {j}^ {i} {l+2}' + '\\n'\n",
    "    second_q += f'{sign(coeff)} {abs(coeff):.06f} {k+2}^ {j+2}^ {i+2} {l+2}' + '\\n'\n",
    "\n",
    "jw = JordanWignerMapper(second_q)\n",
    "\n",
    "print(jw)"
   ]
  },
  {
   "cell_type": "markdown",
   "metadata": {},
   "source": [
    "**2. Pauli Operator**"
   ]
  },
  {
   "cell_type": "code",
   "execution_count": 2,
   "metadata": {},
   "outputs": [
    {
     "name": "stdout",
     "output_type": "stream",
     "text": [
      "-iY\n"
     ]
    }
   ],
   "source": [
    "from jqc.mapper.pauli import Pauli\n",
    "\n",
    "pauli1 = Pauli('iX')\n",
    "pauli2 = Pauli('-iZ')\n",
    "\n",
    "pauli3 = pauli1 * pauli2\n",
    "\n",
    "print(pauli3)"
   ]
  },
  {
   "cell_type": "code",
   "execution_count": 3,
   "metadata": {},
   "outputs": [
    {
     "name": "stdout",
     "output_type": "stream",
     "text": [
      "+ (0.000000+1.000000j) III\n",
      "\n",
      "{(I, I, I): 1j}\n"
     ]
    }
   ],
   "source": [
    "from jqc.mapper.pauli import PauliOp\n",
    "\n",
    "ps1 = PauliOp(1.00, 'iX Y Z')\n",
    "ps2 = PauliOp(1.00, 'X Y Z')\n",
    "\n",
    "ps3 = ps1 * ps2\n",
    "\n",
    "print(ps3)\n",
    "print(ps3.objects)"
   ]
  },
  {
   "cell_type": "code",
   "execution_count": 1,
   "metadata": {},
   "outputs": [
    {
     "name": "stdout",
     "output_type": "stream",
     "text": [
      "ps4:\n",
      "+ ( 1.000000) ZZ\n",
      "+ ( 1.000000) XX\n",
      "\n",
      "\n",
      "ps5:\n",
      "+ ( 2.000000) II\n",
      "+ (-2.000000) YY\n",
      "\n",
      "\n"
     ]
    }
   ],
   "source": [
    "from jqc.mapper.pauli import PauliOp\n",
    "\n",
    "ps1 = PauliOp(1.00, 'Z Z')\n",
    "ps2 = PauliOp(1.00, 'X X')\n",
    "ps3 = PauliOp(1.00, 'Y Y')\n",
    "\n",
    "ps4 = ps1 + ps2\n",
    "print(f'ps4:\\n{ps4}\\n')\n",
    "\n",
    "ps5 = ps4 * ps4\n",
    "print(f'ps5:\\n{ps5}\\n')"
   ]
  },
  {
   "cell_type": "markdown",
   "metadata": {},
   "source": [
    "**3. Jordan Wigner Transformation**"
   ]
  },
  {
   "cell_type": "code",
   "execution_count": 1,
   "metadata": {},
   "outputs": [
    {
     "name": "stdout",
     "output_type": "stream",
     "text": [
      "+ (1.020000) a₁†a₀\n",
      "- (1.020000) a₀†a₁\n",
      "\n",
      "+ (+ 0.000000 + 0.510000 i) YX\n",
      "+ (+ 0.000000 - 0.510000 i) XY\n",
      "\n"
     ]
    }
   ],
   "source": [
    "from jqc.mapper.fermion import FermionicOp\n",
    "\n",
    "fo1 = FermionicOp(1.02, '1^ 0') - FermionicOp(1.02, '0^ 1')\n",
    "\n",
    "print(fo1)\n",
    "\n",
    "po1 = fo1.jordan_wigner\n",
    "print(po1)"
   ]
  },
  {
   "cell_type": "code",
   "execution_count": null,
   "metadata": {},
   "outputs": [],
   "source": [
    "from jqc.new_mapper.fermion import FermionicOp\n",
    "from jqc.new_mapper.pauli import PauliOp\n",
    "\n",
    "fo1 = FermionicOp(1.02, '1^ 0') - FermionicOp(1.02, '0^ 1')"
   ]
  }
 ],
 "metadata": {
  "kernelspec": {
   "display_name": "base",
   "language": "python",
   "name": "python3"
  },
  "language_info": {
   "codemirror_mode": {
    "name": "ipython",
    "version": 3
   },
   "file_extension": ".py",
   "mimetype": "text/x-python",
   "name": "python",
   "nbconvert_exporter": "python",
   "pygments_lexer": "ipython3",
   "version": "3.11.7"
  }
 },
 "nbformat": 4,
 "nbformat_minor": 2
}
