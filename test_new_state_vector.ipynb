{
 "cells": [
  {
   "cell_type": "code",
   "execution_count": 2,
   "metadata": {},
   "outputs": [
    {
     "name": "stdout",
     "output_type": "stream",
     "text": [
      "(I, I, I, I)\n",
      "(Z, I, I, I)\n",
      "(I, I, Z, I)\n",
      "(I, Z, I, I)\n",
      "(I, I, I, Z)\n",
      "(Z, I, Z, I)\n",
      "(Z, Z, I, I)\n",
      "(I, Z, Z, I)\n",
      "(Z, I, I, Z)\n",
      "(I, I, Z, Z)\n",
      "(Y, Y, X, X)\n",
      "(Y, Y, Y, Y)\n",
      "(X, X, X, X)\n",
      "(X, X, Y, Y)\n",
      "(I, Z, I, Z)\n"
     ]
    }
   ],
   "source": [
    "from qiskit import QuantumCircuit\n",
    "from pyscf import gto\n",
    "from jqc.vqe.profile import Profile\n",
    "from jqc.measure.hamiltonian import hamiltonian\n",
    "from jqc.simulator.new_state_vector import StateVector\n",
    "\n",
    "mol = gto.M(atom='H 0 0 0; H 0 0 0.74', basis='sto-3g')\n",
    "profile = Profile(mol)\n",
    "hamiltonian = hamiltonian(profile)\n",
    "\n",
    "qc = QuantumCircuit(4)\n",
    "qc.h(0)\n",
    "qc.cx(0, 1)\n",
    "\n",
    "statevector = StateVector.measure(qc, hamiltonian)\n",
    "\n"
   ]
  },
  {
   "cell_type": "code",
   "execution_count": 19,
   "metadata": {},
   "outputs": [
    {
     "name": "stdout",
     "output_type": "stream",
     "text": [
      "[0.70710678+0.j 0.        +0.j 0.        +0.j 0.70710678+0.j\n",
      " 0.        +0.j 0.        +0.j 0.        +0.j 0.        +0.j\n",
      " 0.        +0.j 0.        +0.j 0.        +0.j 0.        +0.j\n",
      " 0.        +0.j 0.        +0.j 0.        +0.j 0.        +0.j]\n",
      "[ 0.70710678+0.j  0.        +0.j -0.        +0.j -0.70710678+0.j\n",
      "  0.        +0.j  0.        +0.j -0.        +0.j -0.        +0.j\n",
      "  0.        +0.j  0.        +0.j -0.        +0.j -0.        +0.j\n",
      "  0.        +0.j  0.        +0.j -0.        +0.j -0.        +0.j]\n"
     ]
    }
   ],
   "source": [
    "import numpy as np\n",
    "from scipy.sparse import csr_matrix\n",
    "from qiskit import QuantumCircuit\n",
    "from qiskit.quantum_info import Statevector\n",
    "from pyscf import gto\n",
    "from jqc.vqe.profile import Profile\n",
    "from jqc.measure.hamiltonian import hamiltonian\n",
    "from jqc.simulator.state_vector import StateVector\n",
    "\n",
    "def op_x(state_vector, idx):\n",
    "    result = np.zeros_like(state_vector)\n",
    "    non_zero_idx = np.nonzero(state_vector)[0]\n",
    "    for i, in non_zero_idx:\n",
    "        new_i = i ^ (1 << idx)\n",
    "        result[new_i] = value\n",
    "    return result\n",
    "\n",
    "def op_y(state_vector, idx):\n",
    "    result = np.zeros_like(state_vector)\n",
    "    for i, value in enumerate(state_vector):\n",
    "        new_i = i ^ (1 << idx)\n",
    "        if (i >> idx) & 1 == 0:\n",
    "            result[new_i] = -1j * value\n",
    "        else:\n",
    "            result[new_i] = 1j * value\n",
    "    return result\n",
    "\n",
    "def op_z(state_vector, idx):\n",
    "    result = np.copy(state_vector)\n",
    "    for i, _ in enumerate(state_vector):\n",
    "        if (i >> idx) & 1:\n",
    "            result[i] *= -1\n",
    "    return result\n",
    "\n",
    "def dict_to_array(sv_dict):\n",
    "    nqubits = len(list(sv_dict.keys())[0])\n",
    "    sv_array = np.zeros(2**nqubits, dtype=complex)\n",
    "    for bit, amplitude in sv_dict.items():\n",
    "        idx = int(bit, 2)\n",
    "        sv_array[idx] = amplitude\n",
    "    return sv_array\n",
    "\n",
    "qc = QuantumCircuit(4)\n",
    "qc.h(0)\n",
    "qc.cx(0, 1)\n",
    "\n",
    "state_vector = Statevector.from_instruction(qc).data\n",
    "sparse_sv = csr_matrix(state_vector)\n",
    "state_vector2 = op_z(state_vector, 1)\n",
    "\n",
    "print(state_vector)\n",
    "print(state_vector2)\n",
    "\n",
    "# measure = sv1.conj().T @ sv2\n",
    "\n",
    "# print(measure)\n"
   ]
  }
 ],
 "metadata": {
  "kernelspec": {
   "display_name": "base",
   "language": "python",
   "name": "python3"
  },
  "language_info": {
   "codemirror_mode": {
    "name": "ipython",
    "version": 3
   },
   "file_extension": ".py",
   "mimetype": "text/x-python",
   "name": "python",
   "nbconvert_exporter": "python",
   "pygments_lexer": "ipython3",
   "version": "3.11.7"
  }
 },
 "nbformat": 4,
 "nbformat_minor": 2
}
