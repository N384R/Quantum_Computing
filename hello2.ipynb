{
 "cells": [
  {
   "cell_type": "code",
   "execution_count": 1,
   "metadata": {},
   "outputs": [
    {
     "name": "stdout",
     "output_type": "stream",
     "text": [
      "-1.8918539658846627\n",
      "Completed\n",
      "Energy: -1.8941507995888263\n",
      "\n",
      "-1.8928703639577544\n",
      "Completed\n",
      "Energy: -1.8938942097303384\n",
      "\n"
     ]
    }
   ],
   "source": [
    "from pyscf import gto\n",
    "from qiskit import QuantumCircuit\n",
    "from qc_practice import simulator\n",
    "from qc_practice.measure.hamiltonian import hamiltonian, pyscf_luncher\n",
    "from qc_practice.measure.measure import measure\n",
    "from qc_practice.simulator import QASM\n",
    "from qc_practice.ansatz import UCCSD\n",
    "from qc_practice.profile import Profile\n",
    "\n",
    "# Define the molecule\n",
    "mol = gto.M(atom = 'H 0 0 0; H 0 0 0.7', basis = 'sto-3g')\n",
    "\n",
    "info = pyscf_luncher(mol)\n",
    "h_pauli = hamiltonian(info)\n",
    "ansatz = UCCSD()\n",
    "simulator = QASM()\n",
    "profile = Profile()\n",
    "profile.num_elec = info['num_elec']\n",
    "profile.num_orb = info['num_orb']\n",
    "\n",
    "# Define the quantum circuit\n",
    "qc = QuantumCircuit(profile.num_orb*2, profile.num_orb*2)\n",
    "for i in range(profile.num_elec//2):\n",
    "    qc.x(i)\n",
    "    qc.x(i + profile.num_elec)\n",
    "\n",
    "def calculation(coeff):\n",
    "    qc = QuantumCircuit(profile.num_orb*2, profile.num_orb*2)\n",
    "    for i in range(profile.num_elec//2):\n",
    "        qc.x(i)\n",
    "        qc.x(i + profile.num_elec)\n",
    "\n",
    "    ansatz.mapping(profile, coeff)\n",
    "    ansatz.ansatz(qc, profile, coeff)\n",
    "\n",
    "    energy = measure(qc, h_pauli, simulator, parallel=True)\n",
    "    print(energy, end='\\r', flush=True)\n",
    "    return energy\n",
    "\n",
    "for i in range(2):\n",
    "    coeff = ansatz.generate_coeff(profile)\n",
    "    optimized = ansatz.call_optimizer(calculation, coeff, 'powell')\n",
    "\n",
    "    print('\\nCompleted')\n",
    "    print(f'Energy: {optimized.fun}\\n')"
   ]
  },
  {
   "cell_type": "code",
   "execution_count": 4,
   "metadata": {},
   "outputs": [
    {
     "name": "stdout",
     "output_type": "stream",
     "text": [
      "-1.8924828506552829\n",
      "Completed\n",
      "Energy: -1.8936743559965366\n",
      "\n",
      "-1.8905097432295404\n",
      "Completed\n",
      "Energy: -1.89482817827052\n",
      "\n"
     ]
    }
   ],
   "source": [
    "class Test:\n",
    "    def __init__(self):\n",
    "        mol = gto.M(atom = 'H 0 0 0; H 0 0 0.7', basis = 'sto-3g')\n",
    "\n",
    "        self.h_pauli = hamiltonian(mol)\n",
    "        self.ansatz = UCCSD()\n",
    "        self.simulator = QASM()\n",
    "        self.profile = Profile()\n",
    "        self.profile.num_elec = info['num_elec']\n",
    "        self.profile.num_orb = info['num_orb']\n",
    "\n",
    "    def calculation(self, coeff):\n",
    "        qc = QuantumCircuit(profile.num_orb*2, profile.num_orb*2)\n",
    "        for i in range(profile.num_elec//2):\n",
    "            qc.x(i)\n",
    "            qc.x(i + profile.num_elec)\n",
    "\n",
    "        ansatz.mapping(profile, coeff)\n",
    "        ansatz.ansatz(qc, profile, coeff)\n",
    "\n",
    "        energy = measure(qc, self.h_pauli, self.simulator, parallel=True)\n",
    "        print(energy, end='\\r', flush=True)\n",
    "        return energy\n",
    "    \n",
    "    def run(self, coeff):\n",
    "        for i in range(2):\n",
    "            coeff2 = coeff.copy()\n",
    "            optimized = ansatz.call_optimizer(calculation, coeff2, 'powell')\n",
    "\n",
    "            print('\\nCompleted')\n",
    "            print(f'Energy: {optimized.fun}\\n')\n",
    "    \n",
    "\n",
    "\n",
    "test = Test()\n",
    "coeff = ansatz.generate_coeff(profile)\n",
    "\n",
    "test.run(coeff)"
   ]
  },
  {
   "cell_type": "code",
   "execution_count": 1,
   "metadata": {},
   "outputs": [
    {
     "name": "stdout",
     "output_type": "stream",
     "text": [
      "Iteration: 319, Energy: -1.8922732829\r"
     ]
    },
    {
     "data": {
      "text/plain": [
       "[Singlet_0, Singlet_1]"
      ]
     },
     "execution_count": 1,
     "metadata": {},
     "output_type": "execute_result"
    }
   ],
   "source": [
    "from pyscf import gto\n",
    "from qc_practice import VQE, VQD\n",
    "from qc_practice.ansatz import UCCSD\n",
    "from qc_practice.simulator import QASM\n",
    "\n",
    "mol = gto.M(atom = 'H 0 0 0; H 0 0 0.7', basis = 'sto-3g')\n",
    "vqe = VQD(mol)\n",
    "vqe.ansatz = UCCSD()\n",
    "vqe.simulator = QASM()\n",
    "vqe.parallel = True\n",
    "vqe.run()\n"
   ]
  },
  {
   "cell_type": "code",
   "execution_count": 2,
   "metadata": {},
   "outputs": [
    {
     "ename": "ImportError",
     "evalue": "cannot import name 'VQD' from 'qc_practice.vqe' (/home/juu8242/GitHub/Quantum_Computing/qc_practice/vqe.py)",
     "output_type": "error",
     "traceback": [
      "\u001b[0;31m---------------------------------------------------------------------------\u001b[0m",
      "\u001b[0;31mImportError\u001b[0m                               Traceback (most recent call last)",
      "Cell \u001b[0;32mIn[2], line 2\u001b[0m\n\u001b[1;32m      1\u001b[0m \u001b[38;5;28;01mfrom\u001b[39;00m \u001b[38;5;21;01mpyscf\u001b[39;00m \u001b[38;5;28;01mimport\u001b[39;00m gto\n\u001b[0;32m----> 2\u001b[0m \u001b[38;5;28;01mfrom\u001b[39;00m \u001b[38;5;21;01mqc_practice\u001b[39;00m\u001b[38;5;21;01m.\u001b[39;00m\u001b[38;5;21;01mvqe\u001b[39;00m \u001b[38;5;28;01mimport\u001b[39;00m VQE, VQD\n\u001b[1;32m      3\u001b[0m \u001b[38;5;28;01mfrom\u001b[39;00m \u001b[38;5;21;01mqc_practice\u001b[39;00m\u001b[38;5;21;01m.\u001b[39;00m\u001b[38;5;21;01mansatz\u001b[39;00m \u001b[38;5;28;01mimport\u001b[39;00m UCCSD\n\u001b[1;32m      4\u001b[0m \u001b[38;5;28;01mfrom\u001b[39;00m \u001b[38;5;21;01mqc_practice\u001b[39;00m\u001b[38;5;21;01m.\u001b[39;00m\u001b[38;5;21;01msimulator\u001b[39;00m \u001b[38;5;28;01mimport\u001b[39;00m QASM\n",
      "\u001b[0;31mImportError\u001b[0m: cannot import name 'VQD' from 'qc_practice.vqe' (/home/juu8242/GitHub/Quantum_Computing/qc_practice/vqe.py)"
     ]
    }
   ],
   "source": [
    "from pyscf import gto\n",
    "from qc_practice import VQE, VQD\n",
    "from qc_practice.ansatz import UCCSD\n",
    "from qc_practice.simulator import QASM\n",
    "\n",
    "mol = gto.M(atom = 'H 0 0 0; H 0 0 0.7', basis = 'sto-3g')\n",
    "vqe = VQD(mol)\n",
    "vqe.ansatz = UCCSD()\n",
    "vqe.simulator = QASM()\n",
    "vqe.parallel = True\n",
    "\n",
    "vqe.run()\n"
   ]
  }
 ],
 "metadata": {
  "kernelspec": {
   "display_name": "base",
   "language": "python",
   "name": "python3"
  },
  "language_info": {
   "codemirror_mode": {
    "name": "ipython",
    "version": 3
   },
   "file_extension": ".py",
   "mimetype": "text/x-python",
   "name": "python",
   "nbconvert_exporter": "python",
   "pygments_lexer": "ipython3",
   "version": "3.11.7"
  }
 },
 "nbformat": 4,
 "nbformat_minor": 2
}
