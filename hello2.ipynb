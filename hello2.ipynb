{
 "cells": [
  {
   "cell_type": "code",
   "execution_count": 3,
   "metadata": {},
   "outputs": [
    {
     "name": "stdout",
     "output_type": "stream",
     "text": [
      "-1.8742213104529815\r"
     ]
    },
    {
     "name": "stdout",
     "output_type": "stream",
     "text": [
      "-1.8922836488993027\n",
      "Completed\n",
      "Energy: -1.8927578903839728\n",
      "\n",
      "-1.8923546500124169\n",
      "Completed\n",
      "Energy: -1.8941311210043206\n",
      "\n"
     ]
    }
   ],
   "source": [
    "from pyscf import gto\n",
    "from qiskit import QuantumCircuit\n",
    "from qc_practice.measure.hamiltonian import hamiltonian\n",
    "from qc_practice.measure.measure import measure\n",
    "from qc_practice.simulator import QASM\n",
    "from qc_practice.ansatz import UCCSD\n",
    "from qc_practice.profile import Profile\n",
    "\n",
    "# Define the molecule\n",
    "mol = gto.M(atom = 'H 0 0 0; H 0 0 0.7', basis = 'sto-3g')\n",
    "\n",
    "profile = Profile(mol)\n",
    "h_pauli = hamiltonian(profile)\n",
    "ansatz = UCCSD()\n",
    "simulator = QASM()\n",
    "\n",
    "# Define the quantum circuit\n",
    "qc = QuantumCircuit(profile.num_orb*2, profile.num_orb*2)\n",
    "for i in range(profile.num_elec//2):\n",
    "    qc.x(i)\n",
    "    qc.x(i + profile.num_elec)\n",
    "\n",
    "def calculation(coeff):\n",
    "    qc = QuantumCircuit(profile.num_orb*2, profile.num_orb*2)\n",
    "    for i in range(profile.num_elec//2):\n",
    "        qc.x(i)\n",
    "        qc.x(i + profile.num_elec)\n",
    "\n",
    "    ansatz.mapping(profile, coeff)\n",
    "    ansatz.ansatz(qc, profile, coeff)\n",
    "\n",
    "    energy = measure(qc, h_pauli, simulator, parallel=True)\n",
    "    print(energy, end='\\r', flush=True)\n",
    "    return energy\n",
    "\n",
    "for i in range(2):\n",
    "    coeff = ansatz.generate_coeff(profile)\n",
    "    optimized = ansatz.call_optimizer(calculation, coeff, 'powell')\n",
    "\n",
    "    print('\\nCompleted')\n",
    "    print(f'Energy: {optimized.fun}\\n')"
   ]
  },
  {
   "cell_type": "code",
   "execution_count": 3,
   "metadata": {},
   "outputs": [
    {
     "name": "stdout",
     "output_type": "stream",
     "text": [
      "-1.8899180550070542\n",
      "Completed\n",
      "Energy: -1.8936745962418327\n",
      "\n",
      "-1.8914242043953138\n",
      "Completed\n",
      "Energy: -1.8922571186475206\n",
      "\n"
     ]
    }
   ],
   "source": [
    "from pyscf import gto\n",
    "from qiskit import QuantumCircuit\n",
    "from qc_practice.measure.hamiltonian import hamiltonian\n",
    "from qc_practice.measure.measure import measure\n",
    "from qc_practice.simulator import QASM\n",
    "from qc_practice.ansatz import UCCSD\n",
    "from qc_practice.profile import Profile\n",
    "\n",
    "class Test:\n",
    "    def __init__(self):\n",
    "        mol = gto.M(atom = 'H 0 0 0; H 0 0 0.7', basis = 'sto-3g')\n",
    "        profile = Profile(mol)\n",
    "        self.h_pauli = hamiltonian(profile)\n",
    "        self.ansatz = UCCSD()\n",
    "        self.simulator = QASM()\n",
    "\n",
    "    def calculation(self, coeff):\n",
    "        qc = QuantumCircuit(profile.num_orb*2, profile.num_orb*2)\n",
    "        for i in range(profile.num_elec//2):\n",
    "            qc.x(i)\n",
    "            qc.x(i + profile.num_elec)\n",
    "\n",
    "        self.ansatz.mapping(profile, coeff)\n",
    "        self.ansatz.ansatz(qc, profile, coeff)\n",
    "\n",
    "        energy = measure(qc, self.h_pauli, self.simulator, parallel=True)\n",
    "        print(energy, end='\\r', flush=True)\n",
    "        return energy\n",
    "    \n",
    "    def run(self, coeff):\n",
    "        for i in range(2):\n",
    "            coeff2 = coeff.copy()\n",
    "            optimized = self.ansatz.call_optimizer(self.calculation, coeff2, 'powell')\n",
    "\n",
    "            print('\\nCompleted')\n",
    "            print(f'Energy: {optimized.fun}\\n')\n",
    "    \n",
    "\n",
    "mol = gto.M(atom = 'H 0 0 0; H 0 0 0.7', basis = 'sto-3g')\n",
    "profile = Profile(mol)\n",
    "\n",
    "test = Test()\n",
    "coeff = UCCSD().generate_coeff(profile)\n",
    "\n",
    "test.run(coeff)"
   ]
  },
  {
   "cell_type": "code",
   "execution_count": 4,
   "metadata": {},
   "outputs": [
    {
     "name": "stdout",
     "output_type": "stream",
     "text": [
      "-1.8906723097586481\n",
      "Completed\n",
      "Energy: -1.8939275945585046\n",
      "\n",
      "-1.8909907360366975\n",
      "Completed\n",
      "Energy: -1.893113896432391\n",
      "\n"
     ]
    }
   ],
   "source": [
    "mol = gto.M(atom = 'H 0 0 0; H 0 0 0.7', basis = 'sto-3g')\n",
    "profile = Profile(mol)\n",
    "\n",
    "test = Test()\n",
    "coeff = UCCSD().generate_coeff(profile)\n",
    "\n",
    "test.run(coeff)"
   ]
  },
  {
   "cell_type": "code",
   "execution_count": 1,
   "metadata": {},
   "outputs": [
    {
     "name": "stdout",
     "output_type": "stream",
     "text": [
      "\n",
      "Starting VQD Calculation\n",
      "\n",
      "Ansatz: UCCSD\n",
      "Simulator: QASM\n",
      "Optimizer: powell\n",
      "nstates: 2\n",
      "\n",
      "State 0:\n",
      "Iteration: 264, Converged!!         \n",
      "Total Energy: -1.138421368\n",
      "\n",
      "State 1:\n",
      "Iteration: 1, Energy: -1.116749383\r"
     ]
    }
   ],
   "source": [
    "from pyscf import gto\n",
    "from qc_practice import VQE, VQD\n",
    "from qc_practice.ansatz import UCCSD\n",
    "from qc_practice.simulator import QASM\n",
    "\n",
    "mol = gto.M(atom = 'H 0 0 0; H 0 0 0.7', basis = 'sto-3g')\n",
    "vqe = VQD(mol)\n",
    "vqe.ansatz = UCCSD()\n",
    "vqe.simulator = QASM()\n",
    "vqe.parallel = True\n",
    "vqe.run()\n"
   ]
  },
  {
   "cell_type": "code",
   "execution_count": 2,
   "metadata": {},
   "outputs": [
    {
     "name": "stdout",
     "output_type": "stream",
     "text": [
      "\n",
      "Starting VQD Calculation\n",
      "\n",
      "Ansatz: UCCSD\n",
      "Simulator: QASM\n",
      "Optimizer: powell\n",
      "nstates: 2\n",
      "\n",
      "State 0:\n",
      "Iteration: 146, Energy: -1.135641598\r"
     ]
    },
    {
     "ename": "KeyboardInterrupt",
     "evalue": "",
     "output_type": "error",
     "traceback": [
      "\u001b[0;31m---------------------------------------------------------------------------\u001b[0m",
      "\u001b[0;31mKeyboardInterrupt\u001b[0m                         Traceback (most recent call last)",
      "Cell \u001b[0;32mIn[2], line 12\u001b[0m\n\u001b[1;32m      9\u001b[0m vqe\u001b[38;5;241m.\u001b[39msimulator \u001b[38;5;241m=\u001b[39m QASM()\n\u001b[1;32m     10\u001b[0m vqe\u001b[38;5;241m.\u001b[39mparallel \u001b[38;5;241m=\u001b[39m \u001b[38;5;28;01mFalse\u001b[39;00m\n\u001b[0;32m---> 12\u001b[0m vqe\u001b[38;5;241m.\u001b[39mrun()\n",
      "File \u001b[0;32m~/GitHub/Quantum_Computing/qc_practice/vqd.py:50\u001b[0m, in \u001b[0;36mVQD.general_output.<locals>.wrapper\u001b[0;34m(self, *args, **kwargs)\u001b[0m\n\u001b[1;32m     48\u001b[0m \u001b[38;5;28mprint\u001b[39m(\u001b[38;5;124mf\u001b[39m\u001b[38;5;124m'\u001b[39m\u001b[38;5;124mOptimizer: \u001b[39m\u001b[38;5;132;01m{\u001b[39;00m\u001b[38;5;28mself\u001b[39m\u001b[38;5;241m.\u001b[39moptimizer\u001b[38;5;132;01m}\u001b[39;00m\u001b[38;5;124m'\u001b[39m)\n\u001b[1;32m     49\u001b[0m \u001b[38;5;28mprint\u001b[39m(\u001b[38;5;124mf\u001b[39m\u001b[38;5;124m'\u001b[39m\u001b[38;5;124mnstates: \u001b[39m\u001b[38;5;132;01m{\u001b[39;00m\u001b[38;5;28mself\u001b[39m\u001b[38;5;241m.\u001b[39mnstates\u001b[38;5;132;01m}\u001b[39;00m\u001b[38;5;130;01m\\n\u001b[39;00m\u001b[38;5;124m'\u001b[39m)\n\u001b[0;32m---> 50\u001b[0m result \u001b[38;5;241m=\u001b[39m func(\u001b[38;5;28mself\u001b[39m, \u001b[38;5;241m*\u001b[39margs, \u001b[38;5;241m*\u001b[39m\u001b[38;5;241m*\u001b[39mkwargs)\n\u001b[1;32m     51\u001b[0m \u001b[38;5;28mprint\u001b[39m(\u001b[38;5;124m'\u001b[39m\u001b[38;5;124mFinal State Energies:\u001b[39m\u001b[38;5;124m'\u001b[39m)\n\u001b[1;32m     52\u001b[0m \u001b[38;5;28;01mfor\u001b[39;00m i, state \u001b[38;5;129;01min\u001b[39;00m \u001b[38;5;28menumerate\u001b[39m(\u001b[38;5;28mself\u001b[39m\u001b[38;5;241m.\u001b[39mprofile):\n",
      "File \u001b[0;32m~/GitHub/Quantum_Computing/qc_practice/vqd.py:64\u001b[0m, in \u001b[0;36mVQD.run\u001b[0;34m(self)\u001b[0m\n\u001b[1;32m     62\u001b[0m     \u001b[38;5;28mself\u001b[39m\u001b[38;5;241m.\u001b[39mprofile\u001b[38;5;241m.\u001b[39mstate \u001b[38;5;241m=\u001b[39m i\n\u001b[1;32m     63\u001b[0m     \u001b[38;5;28mself\u001b[39m\u001b[38;5;241m.\u001b[39m_config[\u001b[38;5;124m'\u001b[39m\u001b[38;5;124miteration\u001b[39m\u001b[38;5;124m'\u001b[39m] \u001b[38;5;241m=\u001b[39m \u001b[38;5;241m0\u001b[39m\n\u001b[0;32m---> 64\u001b[0m     \u001b[38;5;28msuper\u001b[39m()\u001b[38;5;241m.\u001b[39m_run()\n\u001b[1;32m     65\u001b[0m     \u001b[38;5;28mself\u001b[39m\u001b[38;5;241m.\u001b[39m_profiles\u001b[38;5;241m.\u001b[39mupdate(\u001b[38;5;28mself\u001b[39m\u001b[38;5;241m.\u001b[39mprofile)\n\u001b[1;32m     66\u001b[0m \u001b[38;5;28mself\u001b[39m\u001b[38;5;241m.\u001b[39mprofile \u001b[38;5;241m=\u001b[39m \u001b[38;5;28mself\u001b[39m\u001b[38;5;241m.\u001b[39m_profiles  \u001b[38;5;66;03m#type: ignore\u001b[39;00m\n",
      "File \u001b[0;32m~/GitHub/Quantum_Computing/qc_practice/vqe.py:140\u001b[0m, in \u001b[0;36mVQE.normal_output.<locals>.wrapper\u001b[0;34m(self, *args, **kwargs)\u001b[0m\n\u001b[1;32m    138\u001b[0m \u001b[38;5;28;01mdef\u001b[39;00m \u001b[38;5;21mwrapper\u001b[39m(\u001b[38;5;28mself\u001b[39m, \u001b[38;5;241m*\u001b[39margs, \u001b[38;5;241m*\u001b[39m\u001b[38;5;241m*\u001b[39mkwargs):\n\u001b[1;32m    139\u001b[0m     \u001b[38;5;28mprint\u001b[39m(\u001b[38;5;124mf\u001b[39m\u001b[38;5;124m'\u001b[39m\u001b[38;5;124mState \u001b[39m\u001b[38;5;132;01m{\u001b[39;00m\u001b[38;5;28mself\u001b[39m\u001b[38;5;241m.\u001b[39mprofile\u001b[38;5;241m.\u001b[39mstate\u001b[38;5;132;01m}\u001b[39;00m\u001b[38;5;124m:\u001b[39m\u001b[38;5;124m'\u001b[39m)\n\u001b[0;32m--> 140\u001b[0m     result \u001b[38;5;241m=\u001b[39m func(\u001b[38;5;28mself\u001b[39m, \u001b[38;5;241m*\u001b[39margs, \u001b[38;5;241m*\u001b[39m\u001b[38;5;241m*\u001b[39mkwargs)\n\u001b[1;32m    141\u001b[0m     \u001b[38;5;28mprint\u001b[39m(\u001b[38;5;124mf\u001b[39m\u001b[38;5;124m\"\u001b[39m\u001b[38;5;124mIteration: \u001b[39m\u001b[38;5;132;01m{\u001b[39;00m\u001b[38;5;28mself\u001b[39m\u001b[38;5;241m.\u001b[39miteration()\u001b[38;5;132;01m}\u001b[39;00m\u001b[38;5;124m, Converged!!         \u001b[39m\u001b[38;5;124m\"\u001b[39m)\n\u001b[1;32m    142\u001b[0m     \u001b[38;5;28mprint\u001b[39m(\u001b[38;5;124mf\u001b[39m\u001b[38;5;124m'\u001b[39m\u001b[38;5;124mTotal Energy: \u001b[39m\u001b[38;5;132;01m{\u001b[39;00mresult\u001b[38;5;241m.\u001b[39menergy_total()\u001b[38;5;132;01m:\u001b[39;00m\u001b[38;5;124m12.09f\u001b[39m\u001b[38;5;132;01m}\u001b[39;00m\u001b[38;5;130;01m\\n\u001b[39;00m\u001b[38;5;124m'\u001b[39m)\n",
      "File \u001b[0;32m~/GitHub/Quantum_Computing/qc_practice/vqe.py:149\u001b[0m, in \u001b[0;36mVQE._run\u001b[0;34m(self)\u001b[0m\n\u001b[1;32m    146\u001b[0m \u001b[38;5;129m@normal_output\u001b[39m\n\u001b[1;32m    147\u001b[0m \u001b[38;5;28;01mdef\u001b[39;00m \u001b[38;5;21m_run\u001b[39m(\u001b[38;5;28mself\u001b[39m):\n\u001b[1;32m    148\u001b[0m     coeff \u001b[38;5;241m=\u001b[39m \u001b[38;5;28mself\u001b[39m\u001b[38;5;241m.\u001b[39mansatz\u001b[38;5;241m.\u001b[39mgenerate_coeff(\u001b[38;5;28mself\u001b[39m\u001b[38;5;241m.\u001b[39mprofile)\n\u001b[0;32m--> 149\u001b[0m     optimized \u001b[38;5;241m=\u001b[39m \u001b[38;5;28mself\u001b[39m\u001b[38;5;241m.\u001b[39mansatz\u001b[38;5;241m.\u001b[39mcall_optimizer(\u001b[38;5;28mself\u001b[39m\u001b[38;5;241m.\u001b[39mbatch, coeff, \u001b[38;5;28mself\u001b[39m\u001b[38;5;241m.\u001b[39moptimizer)\n\u001b[1;32m    150\u001b[0m     \u001b[38;5;28mself\u001b[39m\u001b[38;5;241m.\u001b[39mprofile\u001b[38;5;241m.\u001b[39menergy_elec \u001b[38;5;241m=\u001b[39m optimized\u001b[38;5;241m.\u001b[39mfun\n\u001b[1;32m    151\u001b[0m     \u001b[38;5;28mself\u001b[39m\u001b[38;5;241m.\u001b[39mprofile\u001b[38;5;241m.\u001b[39mcoeff \u001b[38;5;241m=\u001b[39m optimized\u001b[38;5;241m.\u001b[39mx\n",
      "File \u001b[0;32m~/GitHub/Quantum_Computing/qc_practice/ansatz/uccsd.py:32\u001b[0m, in \u001b[0;36mUCCSD.call_optimizer\u001b[0;34m(func, coeff, method)\u001b[0m\n\u001b[1;32m     29\u001b[0m \u001b[38;5;129m@staticmethod\u001b[39m\n\u001b[1;32m     30\u001b[0m \u001b[38;5;28;01mdef\u001b[39;00m \u001b[38;5;21mcall_optimizer\u001b[39m(func, coeff, method):\n\u001b[1;32m     31\u001b[0m     \u001b[38;5;124m'\u001b[39m\u001b[38;5;124mOptimize the coefficients\u001b[39m\u001b[38;5;124m'\u001b[39m\n\u001b[0;32m---> 32\u001b[0m     \u001b[38;5;28;01mreturn\u001b[39;00m opt\u001b[38;5;241m.\u001b[39mminimize(func, coeff, method\u001b[38;5;241m=\u001b[39mmethod, bounds\u001b[38;5;241m=\u001b[39mboundary(coeff))\n",
      "File \u001b[0;32m~/opt/anaconda3/lib/python3.11/site-packages/scipy/optimize/_minimize.py:701\u001b[0m, in \u001b[0;36mminimize\u001b[0;34m(fun, x0, args, method, jac, hess, hessp, bounds, constraints, tol, callback, options)\u001b[0m\n\u001b[1;32m    698\u001b[0m     res \u001b[38;5;241m=\u001b[39m _minimize_neldermead(fun, x0, args, callback, bounds\u001b[38;5;241m=\u001b[39mbounds,\n\u001b[1;32m    699\u001b[0m                                \u001b[38;5;241m*\u001b[39m\u001b[38;5;241m*\u001b[39moptions)\n\u001b[1;32m    700\u001b[0m \u001b[38;5;28;01melif\u001b[39;00m meth \u001b[38;5;241m==\u001b[39m \u001b[38;5;124m'\u001b[39m\u001b[38;5;124mpowell\u001b[39m\u001b[38;5;124m'\u001b[39m:\n\u001b[0;32m--> 701\u001b[0m     res \u001b[38;5;241m=\u001b[39m _minimize_powell(fun, x0, args, callback, bounds, \u001b[38;5;241m*\u001b[39m\u001b[38;5;241m*\u001b[39moptions)\n\u001b[1;32m    702\u001b[0m \u001b[38;5;28;01melif\u001b[39;00m meth \u001b[38;5;241m==\u001b[39m \u001b[38;5;124m'\u001b[39m\u001b[38;5;124mcg\u001b[39m\u001b[38;5;124m'\u001b[39m:\n\u001b[1;32m    703\u001b[0m     res \u001b[38;5;241m=\u001b[39m _minimize_cg(fun, x0, args, jac, callback, \u001b[38;5;241m*\u001b[39m\u001b[38;5;241m*\u001b[39moptions)\n",
      "File \u001b[0;32m~/opt/anaconda3/lib/python3.11/site-packages/scipy/optimize/_optimize.py:3507\u001b[0m, in \u001b[0;36m_minimize_powell\u001b[0;34m(func, x0, args, callback, bounds, xtol, ftol, maxiter, maxfev, disp, direc, return_all, **unknown_options)\u001b[0m\n\u001b[1;32m   3505\u001b[0m direc1 \u001b[38;5;241m=\u001b[39m direc[i]\n\u001b[1;32m   3506\u001b[0m fx2 \u001b[38;5;241m=\u001b[39m fval\n\u001b[0;32m-> 3507\u001b[0m fval, x, direc1 \u001b[38;5;241m=\u001b[39m _linesearch_powell(func, x, direc1,\n\u001b[1;32m   3508\u001b[0m                                      tol\u001b[38;5;241m=\u001b[39mxtol \u001b[38;5;241m*\u001b[39m \u001b[38;5;241m100\u001b[39m,\n\u001b[1;32m   3509\u001b[0m                                      lower_bound\u001b[38;5;241m=\u001b[39mlower_bound,\n\u001b[1;32m   3510\u001b[0m                                      upper_bound\u001b[38;5;241m=\u001b[39mupper_bound,\n\u001b[1;32m   3511\u001b[0m                                      fval\u001b[38;5;241m=\u001b[39mfval)\n\u001b[1;32m   3512\u001b[0m \u001b[38;5;28;01mif\u001b[39;00m (fx2 \u001b[38;5;241m-\u001b[39m fval) \u001b[38;5;241m>\u001b[39m delta:\n\u001b[1;32m   3513\u001b[0m     delta \u001b[38;5;241m=\u001b[39m fx2 \u001b[38;5;241m-\u001b[39m fval\n",
      "File \u001b[0;32m~/opt/anaconda3/lib/python3.11/site-packages/scipy/optimize/_optimize.py:3195\u001b[0m, in \u001b[0;36m_linesearch_powell\u001b[0;34m(func, p, xi, tol, lower_bound, upper_bound, fval)\u001b[0m\n\u001b[1;32m   3192\u001b[0m     \u001b[38;5;28;01mreturn\u001b[39;00m _linesearch_powell(func, p, xi, fval\u001b[38;5;241m=\u001b[39mfval, tol\u001b[38;5;241m=\u001b[39mtol)\n\u001b[1;32m   3193\u001b[0m \u001b[38;5;28;01melif\u001b[39;00m \u001b[38;5;129;01mnot\u001b[39;00m np\u001b[38;5;241m.\u001b[39misneginf(bound[\u001b[38;5;241m0\u001b[39m]) \u001b[38;5;129;01mand\u001b[39;00m \u001b[38;5;129;01mnot\u001b[39;00m np\u001b[38;5;241m.\u001b[39misposinf(bound[\u001b[38;5;241m1\u001b[39m]):\n\u001b[1;32m   3194\u001b[0m     \u001b[38;5;66;03m# we can use a bounded scalar minimization\u001b[39;00m\n\u001b[0;32m-> 3195\u001b[0m     res \u001b[38;5;241m=\u001b[39m _minimize_scalar_bounded(myfunc, bound, xatol\u001b[38;5;241m=\u001b[39mtol \u001b[38;5;241m/\u001b[39m \u001b[38;5;241m100\u001b[39m)\n\u001b[1;32m   3196\u001b[0m     xi \u001b[38;5;241m=\u001b[39m res\u001b[38;5;241m.\u001b[39mx \u001b[38;5;241m*\u001b[39m xi\n\u001b[1;32m   3197\u001b[0m     \u001b[38;5;28;01mreturn\u001b[39;00m squeeze(res\u001b[38;5;241m.\u001b[39mfun), p \u001b[38;5;241m+\u001b[39m xi, xi\n",
      "File \u001b[0;32m~/opt/anaconda3/lib/python3.11/site-packages/scipy/optimize/_optimize.py:2338\u001b[0m, in \u001b[0;36m_minimize_scalar_bounded\u001b[0;34m(func, bounds, args, xatol, maxiter, disp, **unknown_options)\u001b[0m\n\u001b[1;32m   2336\u001b[0m si \u001b[38;5;241m=\u001b[39m np\u001b[38;5;241m.\u001b[39msign(rat) \u001b[38;5;241m+\u001b[39m (rat \u001b[38;5;241m==\u001b[39m \u001b[38;5;241m0\u001b[39m)\n\u001b[1;32m   2337\u001b[0m x \u001b[38;5;241m=\u001b[39m xf \u001b[38;5;241m+\u001b[39m si \u001b[38;5;241m*\u001b[39m np\u001b[38;5;241m.\u001b[39mmaximum(np\u001b[38;5;241m.\u001b[39mabs(rat), tol1)\n\u001b[0;32m-> 2338\u001b[0m fu \u001b[38;5;241m=\u001b[39m func(x, \u001b[38;5;241m*\u001b[39margs)\n\u001b[1;32m   2339\u001b[0m num \u001b[38;5;241m+\u001b[39m\u001b[38;5;241m=\u001b[39m \u001b[38;5;241m1\u001b[39m\n\u001b[1;32m   2340\u001b[0m fmin_data \u001b[38;5;241m=\u001b[39m (num, x, fu)\n",
      "File \u001b[0;32m~/opt/anaconda3/lib/python3.11/site-packages/scipy/optimize/_optimize.py:3176\u001b[0m, in \u001b[0;36m_linesearch_powell.<locals>.myfunc\u001b[0;34m(alpha)\u001b[0m\n\u001b[1;32m   3175\u001b[0m \u001b[38;5;28;01mdef\u001b[39;00m \u001b[38;5;21mmyfunc\u001b[39m(alpha):\n\u001b[0;32m-> 3176\u001b[0m     \u001b[38;5;28;01mreturn\u001b[39;00m func(p \u001b[38;5;241m+\u001b[39m alpha\u001b[38;5;241m*\u001b[39mxi)\n",
      "File \u001b[0;32m~/opt/anaconda3/lib/python3.11/site-packages/scipy/optimize/_optimize.py:620\u001b[0m, in \u001b[0;36m_wrap_scalar_function_maxfun_validation.<locals>.function_wrapper\u001b[0;34m(x, *wrapper_args)\u001b[0m\n\u001b[1;32m    618\u001b[0m ncalls[\u001b[38;5;241m0\u001b[39m] \u001b[38;5;241m+\u001b[39m\u001b[38;5;241m=\u001b[39m \u001b[38;5;241m1\u001b[39m\n\u001b[1;32m    619\u001b[0m \u001b[38;5;66;03m# A copy of x is sent to the user function (gh13740)\u001b[39;00m\n\u001b[0;32m--> 620\u001b[0m fx \u001b[38;5;241m=\u001b[39m function(np\u001b[38;5;241m.\u001b[39mcopy(x), \u001b[38;5;241m*\u001b[39m(wrapper_args \u001b[38;5;241m+\u001b[39m args))\n\u001b[1;32m    621\u001b[0m \u001b[38;5;66;03m# Ideally, we'd like to a have a true scalar returned from f(x). For\u001b[39;00m\n\u001b[1;32m    622\u001b[0m \u001b[38;5;66;03m# backwards-compatibility, also allow np.array([1.3]),\u001b[39;00m\n\u001b[1;32m    623\u001b[0m \u001b[38;5;66;03m# np.array([[1.3]]) etc.\u001b[39;00m\n\u001b[1;32m    624\u001b[0m \u001b[38;5;28;01mif\u001b[39;00m \u001b[38;5;129;01mnot\u001b[39;00m np\u001b[38;5;241m.\u001b[39misscalar(fx):\n",
      "File \u001b[0;32m~/GitHub/Quantum_Computing/qc_practice/vqd.py:32\u001b[0m, in \u001b[0;36mVQD.batch\u001b[0;34m(self, coeff)\u001b[0m\n\u001b[1;32m     30\u001b[0m \u001b[38;5;28;01mdef\u001b[39;00m \u001b[38;5;21mbatch\u001b[39m(\u001b[38;5;28mself\u001b[39m, coeff):\n\u001b[1;32m     31\u001b[0m     \u001b[38;5;124m'\u001b[39m\u001b[38;5;124mPerforms a batch calculation.\u001b[39m\u001b[38;5;124m'\u001b[39m\n\u001b[0;32m---> 32\u001b[0m     energy \u001b[38;5;241m=\u001b[39m \u001b[38;5;28msuper\u001b[39m()\u001b[38;5;241m.\u001b[39mbatch(coeff)\n\u001b[1;32m     33\u001b[0m     beta \u001b[38;5;241m=\u001b[39m \u001b[38;5;241m3.0\u001b[39m\n\u001b[1;32m     34\u001b[0m     \u001b[38;5;28;01mfor\u001b[39;00m i \u001b[38;5;129;01min\u001b[39;00m \u001b[38;5;28mrange\u001b[39m(\u001b[38;5;28mself\u001b[39m\u001b[38;5;241m.\u001b[39mprofile\u001b[38;5;241m.\u001b[39mstate):\n",
      "File \u001b[0;32m~/GitHub/Quantum_Computing/qc_practice/vqe.py:99\u001b[0m, in \u001b[0;36mVQE.batch_output.<locals>.wrapper\u001b[0;34m(self, *args, **kwargs)\u001b[0m\n\u001b[1;32m     98\u001b[0m \u001b[38;5;28;01mdef\u001b[39;00m \u001b[38;5;21mwrapper\u001b[39m(\u001b[38;5;28mself\u001b[39m, \u001b[38;5;241m*\u001b[39margs, \u001b[38;5;241m*\u001b[39m\u001b[38;5;241m*\u001b[39mkwargs):\n\u001b[0;32m---> 99\u001b[0m     energy \u001b[38;5;241m=\u001b[39m func(\u001b[38;5;28mself\u001b[39m, \u001b[38;5;241m*\u001b[39margs, \u001b[38;5;241m*\u001b[39m\u001b[38;5;241m*\u001b[39mkwargs)\n\u001b[1;32m    100\u001b[0m     \u001b[38;5;28mprint\u001b[39m(\u001b[38;5;124mf\u001b[39m\u001b[38;5;124m\"\u001b[39m\u001b[38;5;124mIteration: \u001b[39m\u001b[38;5;132;01m{\u001b[39;00m\u001b[38;5;28mself\u001b[39m\u001b[38;5;241m.\u001b[39miteration()\u001b[38;5;132;01m}\u001b[39;00m\u001b[38;5;124m, Energy: \u001b[39m\u001b[38;5;132;01m{\u001b[39;00m\u001b[38;5;28mself\u001b[39m\u001b[38;5;241m.\u001b[39mprofile\u001b[38;5;241m.\u001b[39menergy_total()\u001b[38;5;132;01m:\u001b[39;00m\u001b[38;5;124m12.09f\u001b[39m\u001b[38;5;132;01m}\u001b[39;00m\u001b[38;5;124m\"\u001b[39m,\n\u001b[1;32m    101\u001b[0m           end\u001b[38;5;241m=\u001b[39m\u001b[38;5;124m'\u001b[39m\u001b[38;5;130;01m\\r\u001b[39;00m\u001b[38;5;124m'\u001b[39m, flush\u001b[38;5;241m=\u001b[39m\u001b[38;5;28;01mTrue\u001b[39;00m)\n\u001b[1;32m    102\u001b[0m     \u001b[38;5;28;01mreturn\u001b[39;00m energy\n",
      "File \u001b[0;32m~/GitHub/Quantum_Computing/qc_practice/vqe.py:109\u001b[0m, in \u001b[0;36mVQE.batch\u001b[0;34m(self, coeff)\u001b[0m\n\u001b[1;32m    107\u001b[0m \u001b[38;5;124m'\u001b[39m\u001b[38;5;124mPerforms the calculation for a given set of coefficients.\u001b[39m\u001b[38;5;124m'\u001b[39m\n\u001b[1;32m    108\u001b[0m qc \u001b[38;5;241m=\u001b[39m \u001b[38;5;28mself\u001b[39m\u001b[38;5;241m.\u001b[39mcircuit(coeff)\n\u001b[0;32m--> 109\u001b[0m energy \u001b[38;5;241m=\u001b[39m measure(qc, \u001b[38;5;28mself\u001b[39m\u001b[38;5;241m.\u001b[39mhamiltonian, \u001b[38;5;28mself\u001b[39m\u001b[38;5;241m.\u001b[39msimulator, parallel\u001b[38;5;241m=\u001b[39m\u001b[38;5;28mself\u001b[39m\u001b[38;5;241m.\u001b[39mparallel)\n\u001b[1;32m    110\u001b[0m \u001b[38;5;28mself\u001b[39m\u001b[38;5;241m.\u001b[39mprofile\u001b[38;5;241m.\u001b[39menergy_elec \u001b[38;5;241m=\u001b[39m energy\n\u001b[1;32m    111\u001b[0m \u001b[38;5;28mself\u001b[39m\u001b[38;5;241m.\u001b[39mprofile\u001b[38;5;241m.\u001b[39mcoeff \u001b[38;5;241m=\u001b[39m coeff\n",
      "File \u001b[0;32m~/GitHub/Quantum_Computing/qc_practice/measure/measure.py:13\u001b[0m, in \u001b[0;36mmeasure\u001b[0;34m(qc, h_pauli, simulator, parallel)\u001b[0m\n\u001b[1;32m     11\u001b[0m         results \u001b[38;5;241m=\u001b[39m results_async\u001b[38;5;241m.\u001b[39mget()\n\u001b[1;32m     12\u001b[0m \u001b[38;5;28;01melse\u001b[39;00m:\n\u001b[0;32m---> 13\u001b[0m     results \u001b[38;5;241m=\u001b[39m [single_measure(task) \u001b[38;5;28;01mfor\u001b[39;00m task \u001b[38;5;129;01min\u001b[39;00m tasks]\n\u001b[1;32m     14\u001b[0m energy \u001b[38;5;241m=\u001b[39m \u001b[38;5;28msum\u001b[39m(results)\n\u001b[1;32m     15\u001b[0m \u001b[38;5;28;01mreturn\u001b[39;00m energy\n",
      "File \u001b[0;32m~/GitHub/Quantum_Computing/qc_practice/measure/measure.py:13\u001b[0m, in \u001b[0;36m<listcomp>\u001b[0;34m(.0)\u001b[0m\n\u001b[1;32m     11\u001b[0m         results \u001b[38;5;241m=\u001b[39m results_async\u001b[38;5;241m.\u001b[39mget()\n\u001b[1;32m     12\u001b[0m \u001b[38;5;28;01melse\u001b[39;00m:\n\u001b[0;32m---> 13\u001b[0m     results \u001b[38;5;241m=\u001b[39m [single_measure(task) \u001b[38;5;28;01mfor\u001b[39;00m task \u001b[38;5;129;01min\u001b[39;00m tasks]\n\u001b[1;32m     14\u001b[0m energy \u001b[38;5;241m=\u001b[39m \u001b[38;5;28msum\u001b[39m(results)\n\u001b[1;32m     15\u001b[0m \u001b[38;5;28;01mreturn\u001b[39;00m energy\n",
      "File \u001b[0;32m~/GitHub/Quantum_Computing/qc_practice/measure/measure.py:23\u001b[0m, in \u001b[0;36msingle_measure\u001b[0;34m(args)\u001b[0m\n\u001b[1;32m     21\u001b[0m     \u001b[38;5;28;01mreturn\u001b[39;00m values\u001b[38;5;241m.\u001b[39mreal\n\u001b[1;32m     22\u001b[0m qc_2 \u001b[38;5;241m=\u001b[39m qc\u001b[38;5;241m.\u001b[39mcopy()\n\u001b[0;32m---> 23\u001b[0m probability \u001b[38;5;241m=\u001b[39m simulator\u001b[38;5;241m.\u001b[39mrun_simulator(qc_2, p_string)\n\u001b[1;32m     24\u001b[0m expectation \u001b[38;5;241m=\u001b[39m probability \u001b[38;5;241m*\u001b[39m values\u001b[38;5;241m.\u001b[39mreal\n\u001b[1;32m     25\u001b[0m \u001b[38;5;28;01mreturn\u001b[39;00m expectation\n",
      "File \u001b[0;32m~/GitHub/Quantum_Computing/qc_practice/simulator/qasm.py:23\u001b[0m, in \u001b[0;36mQASM.run_simulator\u001b[0;34m(self, qc, p_string)\u001b[0m\n\u001b[1;32m     21\u001b[0m         \u001b[38;5;28;01mcontinue\u001b[39;00m\n\u001b[1;32m     22\u001b[0m     qc\u001b[38;5;241m.\u001b[39mmeasure(idx, idx)\n\u001b[0;32m---> 23\u001b[0m result \u001b[38;5;241m=\u001b[39m \u001b[38;5;28mself\u001b[39m\u001b[38;5;241m.\u001b[39mbackend\u001b[38;5;241m.\u001b[39mrun(qc, shots\u001b[38;5;241m=\u001b[39m\u001b[38;5;28mself\u001b[39m\u001b[38;5;241m.\u001b[39mshots)\u001b[38;5;241m.\u001b[39mresult()\u001b[38;5;241m.\u001b[39mget_counts()\n\u001b[1;32m     24\u001b[0m counts \u001b[38;5;241m=\u001b[39m \u001b[38;5;241m0\u001b[39m\n\u001b[1;32m     25\u001b[0m \u001b[38;5;28;01mfor\u001b[39;00m key, value \u001b[38;5;129;01min\u001b[39;00m result\u001b[38;5;241m.\u001b[39mitems():  \u001b[38;5;66;03m# type: ignore\u001b[39;00m\n",
      "File \u001b[0;32m~/opt/anaconda3/lib/python3.11/site-packages/qiskit_aer/jobs/utils.py:42\u001b[0m, in \u001b[0;36mrequires_submit.<locals>._wrapper\u001b[0;34m(self, *args, **kwargs)\u001b[0m\n\u001b[1;32m     40\u001b[0m \u001b[38;5;28;01mif\u001b[39;00m \u001b[38;5;28mself\u001b[39m\u001b[38;5;241m.\u001b[39m_future \u001b[38;5;129;01mis\u001b[39;00m \u001b[38;5;28;01mNone\u001b[39;00m:\n\u001b[1;32m     41\u001b[0m     \u001b[38;5;28;01mraise\u001b[39;00m JobError(\u001b[38;5;124m\"\u001b[39m\u001b[38;5;124mJob not submitted yet!. You have to .submit() first!\u001b[39m\u001b[38;5;124m\"\u001b[39m)\n\u001b[0;32m---> 42\u001b[0m \u001b[38;5;28;01mreturn\u001b[39;00m func(\u001b[38;5;28mself\u001b[39m, \u001b[38;5;241m*\u001b[39margs, \u001b[38;5;241m*\u001b[39m\u001b[38;5;241m*\u001b[39mkwargs)\n",
      "File \u001b[0;32m~/opt/anaconda3/lib/python3.11/site-packages/qiskit_aer/jobs/aerjob.py:114\u001b[0m, in \u001b[0;36mAerJob.result\u001b[0;34m(self, timeout)\u001b[0m\n\u001b[1;32m     96\u001b[0m \u001b[38;5;129m@requires_submit\u001b[39m\n\u001b[1;32m     97\u001b[0m \u001b[38;5;28;01mdef\u001b[39;00m \u001b[38;5;21mresult\u001b[39m(\u001b[38;5;28mself\u001b[39m, timeout\u001b[38;5;241m=\u001b[39m\u001b[38;5;28;01mNone\u001b[39;00m):\n\u001b[1;32m     98\u001b[0m     \u001b[38;5;66;03m# pylint: disable=arguments-differ\u001b[39;00m\n\u001b[1;32m     99\u001b[0m \u001b[38;5;250m    \u001b[39m\u001b[38;5;124;03m\"\"\"Get job result. The behavior is the same as the underlying\u001b[39;00m\n\u001b[1;32m    100\u001b[0m \u001b[38;5;124;03m    concurrent Future objects,\u001b[39;00m\n\u001b[1;32m    101\u001b[0m \n\u001b[0;32m   (...)\u001b[0m\n\u001b[1;32m    112\u001b[0m \u001b[38;5;124;03m        concurrent.futures.CancelledError: if job cancelled before completed.\u001b[39;00m\n\u001b[1;32m    113\u001b[0m \u001b[38;5;124;03m    \"\"\"\u001b[39;00m\n\u001b[0;32m--> 114\u001b[0m     \u001b[38;5;28;01mreturn\u001b[39;00m \u001b[38;5;28mself\u001b[39m\u001b[38;5;241m.\u001b[39m_future\u001b[38;5;241m.\u001b[39mresult(timeout\u001b[38;5;241m=\u001b[39mtimeout)\n",
      "File \u001b[0;32m~/opt/anaconda3/lib/python3.11/concurrent/futures/_base.py:451\u001b[0m, in \u001b[0;36mFuture.result\u001b[0;34m(self, timeout)\u001b[0m\n\u001b[1;32m    448\u001b[0m \u001b[38;5;28;01melif\u001b[39;00m \u001b[38;5;28mself\u001b[39m\u001b[38;5;241m.\u001b[39m_state \u001b[38;5;241m==\u001b[39m FINISHED:\n\u001b[1;32m    449\u001b[0m     \u001b[38;5;28;01mreturn\u001b[39;00m \u001b[38;5;28mself\u001b[39m\u001b[38;5;241m.\u001b[39m__get_result()\n\u001b[0;32m--> 451\u001b[0m \u001b[38;5;28mself\u001b[39m\u001b[38;5;241m.\u001b[39m_condition\u001b[38;5;241m.\u001b[39mwait(timeout)\n\u001b[1;32m    453\u001b[0m \u001b[38;5;28;01mif\u001b[39;00m \u001b[38;5;28mself\u001b[39m\u001b[38;5;241m.\u001b[39m_state \u001b[38;5;129;01min\u001b[39;00m [CANCELLED, CANCELLED_AND_NOTIFIED]:\n\u001b[1;32m    454\u001b[0m     \u001b[38;5;28;01mraise\u001b[39;00m CancelledError()\n",
      "File \u001b[0;32m~/opt/anaconda3/lib/python3.11/threading.py:327\u001b[0m, in \u001b[0;36mCondition.wait\u001b[0;34m(self, timeout)\u001b[0m\n\u001b[1;32m    325\u001b[0m \u001b[38;5;28;01mtry\u001b[39;00m:    \u001b[38;5;66;03m# restore state no matter what (e.g., KeyboardInterrupt)\u001b[39;00m\n\u001b[1;32m    326\u001b[0m     \u001b[38;5;28;01mif\u001b[39;00m timeout \u001b[38;5;129;01mis\u001b[39;00m \u001b[38;5;28;01mNone\u001b[39;00m:\n\u001b[0;32m--> 327\u001b[0m         waiter\u001b[38;5;241m.\u001b[39macquire()\n\u001b[1;32m    328\u001b[0m         gotit \u001b[38;5;241m=\u001b[39m \u001b[38;5;28;01mTrue\u001b[39;00m\n\u001b[1;32m    329\u001b[0m     \u001b[38;5;28;01melse\u001b[39;00m:\n",
      "\u001b[0;31mKeyboardInterrupt\u001b[0m: "
     ]
    }
   ],
   "source": [
    "from pyscf import gto\n",
    "from qc_practice import VQE, VQD\n",
    "from qc_practice.ansatz import UCCSD, UpCCGSD\n",
    "from qc_practice.simulator import QASM\n",
    "\n",
    "mol = gto.M(atom = 'H 0 0 0; H 0 0 0.7', basis = 'sto-3g')\n",
    "vqe = VQD(mol)\n",
    "vqe.ansatz = UCCSD()\n",
    "vqe.simulator = QASM()\n",
    "vqe.parallel = False\n",
    "\n",
    "vqe.run()\n"
   ]
  },
  {
   "cell_type": "code",
   "execution_count": 5,
   "metadata": {},
   "outputs": [
    {
     "name": "stdout",
     "output_type": "stream",
     "text": [
      "\n",
      "Starting VQE Calculation\n",
      "\n",
      "Ansatz: UCCSD\n",
      "Simulator: QASM\n",
      "Optimizer: powell\n",
      "\n",
      "State 0:\n",
      "Iteration: 5, Energy: -1.116867997\r"
     ]
    },
    {
     "ename": "KeyboardInterrupt",
     "evalue": "",
     "output_type": "error",
     "traceback": [
      "\u001b[0;31m---------------------------------------------------------------------------\u001b[0m",
      "\u001b[0;31mKeyboardInterrupt\u001b[0m                         Traceback (most recent call last)",
      "Cell \u001b[0;32mIn[5], line 11\u001b[0m\n\u001b[1;32m      9\u001b[0m vqe\u001b[38;5;241m.\u001b[39msimulator \u001b[38;5;241m=\u001b[39m QASM()\n\u001b[1;32m     10\u001b[0m vqe\u001b[38;5;241m.\u001b[39mparallel \u001b[38;5;241m=\u001b[39m \u001b[38;5;28;01mFalse\u001b[39;00m\n\u001b[0;32m---> 11\u001b[0m vqe\u001b[38;5;241m.\u001b[39mrun()\n",
      "File \u001b[0;32m~/GitHub/Quantum_Computing/qc_practice/vqe.py:124\u001b[0m, in \u001b[0;36mVQE.general_output.<locals>.wrapper\u001b[0;34m(self, *args, **kwargs)\u001b[0m\n\u001b[1;32m    122\u001b[0m \u001b[38;5;28mprint\u001b[39m(\u001b[38;5;124mf\u001b[39m\u001b[38;5;124m'\u001b[39m\u001b[38;5;124mOptimizer: \u001b[39m\u001b[38;5;132;01m{\u001b[39;00m\u001b[38;5;28mself\u001b[39m\u001b[38;5;241m.\u001b[39moptimizer\u001b[38;5;132;01m}\u001b[39;00m\u001b[38;5;130;01m\\n\u001b[39;00m\u001b[38;5;124m'\u001b[39m)\n\u001b[1;32m    123\u001b[0m start \u001b[38;5;241m=\u001b[39m datetime\u001b[38;5;241m.\u001b[39mdatetime\u001b[38;5;241m.\u001b[39mnow()\n\u001b[0;32m--> 124\u001b[0m result \u001b[38;5;241m=\u001b[39m func(\u001b[38;5;28mself\u001b[39m, \u001b[38;5;241m*\u001b[39margs, \u001b[38;5;241m*\u001b[39m\u001b[38;5;241m*\u001b[39mkwargs)\n\u001b[1;32m    125\u001b[0m elapsed \u001b[38;5;241m=\u001b[39m \u001b[38;5;28mstr\u001b[39m(datetime\u001b[38;5;241m.\u001b[39mdatetime\u001b[38;5;241m.\u001b[39mnow() \u001b[38;5;241m-\u001b[39m start)\n\u001b[1;32m    126\u001b[0m \u001b[38;5;28mprint\u001b[39m(\u001b[38;5;124mf\u001b[39m\u001b[38;5;124m'\u001b[39m\u001b[38;5;124mElapsed time: \u001b[39m\u001b[38;5;132;01m{\u001b[39;00melapsed\u001b[38;5;241m.\u001b[39msplit(\u001b[38;5;124m\"\u001b[39m\u001b[38;5;124m.\u001b[39m\u001b[38;5;124m\"\u001b[39m,\u001b[38;5;250m \u001b[39mmaxsplit\u001b[38;5;241m=\u001b[39m\u001b[38;5;241m1\u001b[39m)[\u001b[38;5;241m0\u001b[39m]\u001b[38;5;132;01m}\u001b[39;00m\u001b[38;5;124m'\u001b[39m)\n",
      "File \u001b[0;32m~/GitHub/Quantum_Computing/qc_practice/vqe.py:133\u001b[0m, in \u001b[0;36mVQE.run\u001b[0;34m(self)\u001b[0m\n\u001b[1;32m    130\u001b[0m \u001b[38;5;129m@general_output\u001b[39m\n\u001b[1;32m    131\u001b[0m \u001b[38;5;28;01mdef\u001b[39;00m \u001b[38;5;21mrun\u001b[39m(\u001b[38;5;28mself\u001b[39m):\n\u001b[1;32m    132\u001b[0m     \u001b[38;5;124m'\u001b[39m\u001b[38;5;124mPerforms the VQE calculation.\u001b[39m\u001b[38;5;124m'\u001b[39m\n\u001b[0;32m--> 133\u001b[0m     \u001b[38;5;28;01mreturn\u001b[39;00m \u001b[38;5;28mself\u001b[39m\u001b[38;5;241m.\u001b[39m_run()\n",
      "File \u001b[0;32m~/GitHub/Quantum_Computing/qc_practice/vqe.py:140\u001b[0m, in \u001b[0;36mVQE.normal_output.<locals>.wrapper\u001b[0;34m(self, *args, **kwargs)\u001b[0m\n\u001b[1;32m    138\u001b[0m \u001b[38;5;28;01mdef\u001b[39;00m \u001b[38;5;21mwrapper\u001b[39m(\u001b[38;5;28mself\u001b[39m, \u001b[38;5;241m*\u001b[39margs, \u001b[38;5;241m*\u001b[39m\u001b[38;5;241m*\u001b[39mkwargs):\n\u001b[1;32m    139\u001b[0m     \u001b[38;5;28mprint\u001b[39m(\u001b[38;5;124mf\u001b[39m\u001b[38;5;124m'\u001b[39m\u001b[38;5;124mState \u001b[39m\u001b[38;5;132;01m{\u001b[39;00m\u001b[38;5;28mself\u001b[39m\u001b[38;5;241m.\u001b[39mprofile\u001b[38;5;241m.\u001b[39mstate\u001b[38;5;132;01m}\u001b[39;00m\u001b[38;5;124m:\u001b[39m\u001b[38;5;124m'\u001b[39m)\n\u001b[0;32m--> 140\u001b[0m     result \u001b[38;5;241m=\u001b[39m func(\u001b[38;5;28mself\u001b[39m, \u001b[38;5;241m*\u001b[39margs, \u001b[38;5;241m*\u001b[39m\u001b[38;5;241m*\u001b[39mkwargs)\n\u001b[1;32m    141\u001b[0m     \u001b[38;5;28mprint\u001b[39m(\u001b[38;5;124mf\u001b[39m\u001b[38;5;124m\"\u001b[39m\u001b[38;5;124mIteration: \u001b[39m\u001b[38;5;132;01m{\u001b[39;00m\u001b[38;5;28mself\u001b[39m\u001b[38;5;241m.\u001b[39miteration()\u001b[38;5;132;01m}\u001b[39;00m\u001b[38;5;124m, Converged!!         \u001b[39m\u001b[38;5;124m\"\u001b[39m)\n\u001b[1;32m    142\u001b[0m     \u001b[38;5;28mprint\u001b[39m(\u001b[38;5;124mf\u001b[39m\u001b[38;5;124m'\u001b[39m\u001b[38;5;124mTotal Energy: \u001b[39m\u001b[38;5;132;01m{\u001b[39;00mresult\u001b[38;5;241m.\u001b[39menergy_total()\u001b[38;5;132;01m:\u001b[39;00m\u001b[38;5;124m12.09f\u001b[39m\u001b[38;5;132;01m}\u001b[39;00m\u001b[38;5;130;01m\\n\u001b[39;00m\u001b[38;5;124m'\u001b[39m)\n",
      "File \u001b[0;32m~/GitHub/Quantum_Computing/qc_practice/vqe.py:149\u001b[0m, in \u001b[0;36mVQE._run\u001b[0;34m(self)\u001b[0m\n\u001b[1;32m    146\u001b[0m \u001b[38;5;129m@normal_output\u001b[39m\n\u001b[1;32m    147\u001b[0m \u001b[38;5;28;01mdef\u001b[39;00m \u001b[38;5;21m_run\u001b[39m(\u001b[38;5;28mself\u001b[39m):\n\u001b[1;32m    148\u001b[0m     coeff \u001b[38;5;241m=\u001b[39m \u001b[38;5;28mself\u001b[39m\u001b[38;5;241m.\u001b[39mansatz\u001b[38;5;241m.\u001b[39mgenerate_coeff(\u001b[38;5;28mself\u001b[39m\u001b[38;5;241m.\u001b[39mprofile)\n\u001b[0;32m--> 149\u001b[0m     optimized \u001b[38;5;241m=\u001b[39m \u001b[38;5;28mself\u001b[39m\u001b[38;5;241m.\u001b[39mansatz\u001b[38;5;241m.\u001b[39mcall_optimizer(\u001b[38;5;28mself\u001b[39m\u001b[38;5;241m.\u001b[39mbatch, coeff, \u001b[38;5;28mself\u001b[39m\u001b[38;5;241m.\u001b[39moptimizer)\n\u001b[1;32m    150\u001b[0m     \u001b[38;5;28mself\u001b[39m\u001b[38;5;241m.\u001b[39mprofile\u001b[38;5;241m.\u001b[39menergy_elec \u001b[38;5;241m=\u001b[39m optimized\u001b[38;5;241m.\u001b[39mfun\n\u001b[1;32m    151\u001b[0m     \u001b[38;5;28mself\u001b[39m\u001b[38;5;241m.\u001b[39mprofile\u001b[38;5;241m.\u001b[39mcoeff \u001b[38;5;241m=\u001b[39m optimized\u001b[38;5;241m.\u001b[39mx\n",
      "File \u001b[0;32m~/GitHub/Quantum_Computing/qc_practice/ansatz/uccsd.py:32\u001b[0m, in \u001b[0;36mUCCSD.call_optimizer\u001b[0;34m(func, coeff, method)\u001b[0m\n\u001b[1;32m     29\u001b[0m \u001b[38;5;129m@staticmethod\u001b[39m\n\u001b[1;32m     30\u001b[0m \u001b[38;5;28;01mdef\u001b[39;00m \u001b[38;5;21mcall_optimizer\u001b[39m(func, coeff, method):\n\u001b[1;32m     31\u001b[0m     \u001b[38;5;124m'\u001b[39m\u001b[38;5;124mOptimize the coefficients\u001b[39m\u001b[38;5;124m'\u001b[39m\n\u001b[0;32m---> 32\u001b[0m     \u001b[38;5;28;01mreturn\u001b[39;00m opt\u001b[38;5;241m.\u001b[39mminimize(func, coeff, method\u001b[38;5;241m=\u001b[39mmethod, bounds\u001b[38;5;241m=\u001b[39mboundary(coeff))\n",
      "File \u001b[0;32m~/opt/anaconda3/lib/python3.11/site-packages/scipy/optimize/_minimize.py:701\u001b[0m, in \u001b[0;36mminimize\u001b[0;34m(fun, x0, args, method, jac, hess, hessp, bounds, constraints, tol, callback, options)\u001b[0m\n\u001b[1;32m    698\u001b[0m     res \u001b[38;5;241m=\u001b[39m _minimize_neldermead(fun, x0, args, callback, bounds\u001b[38;5;241m=\u001b[39mbounds,\n\u001b[1;32m    699\u001b[0m                                \u001b[38;5;241m*\u001b[39m\u001b[38;5;241m*\u001b[39moptions)\n\u001b[1;32m    700\u001b[0m \u001b[38;5;28;01melif\u001b[39;00m meth \u001b[38;5;241m==\u001b[39m \u001b[38;5;124m'\u001b[39m\u001b[38;5;124mpowell\u001b[39m\u001b[38;5;124m'\u001b[39m:\n\u001b[0;32m--> 701\u001b[0m     res \u001b[38;5;241m=\u001b[39m _minimize_powell(fun, x0, args, callback, bounds, \u001b[38;5;241m*\u001b[39m\u001b[38;5;241m*\u001b[39moptions)\n\u001b[1;32m    702\u001b[0m \u001b[38;5;28;01melif\u001b[39;00m meth \u001b[38;5;241m==\u001b[39m \u001b[38;5;124m'\u001b[39m\u001b[38;5;124mcg\u001b[39m\u001b[38;5;124m'\u001b[39m:\n\u001b[1;32m    703\u001b[0m     res \u001b[38;5;241m=\u001b[39m _minimize_cg(fun, x0, args, jac, callback, \u001b[38;5;241m*\u001b[39m\u001b[38;5;241m*\u001b[39moptions)\n",
      "File \u001b[0;32m~/opt/anaconda3/lib/python3.11/site-packages/scipy/optimize/_optimize.py:3507\u001b[0m, in \u001b[0;36m_minimize_powell\u001b[0;34m(func, x0, args, callback, bounds, xtol, ftol, maxiter, maxfev, disp, direc, return_all, **unknown_options)\u001b[0m\n\u001b[1;32m   3505\u001b[0m direc1 \u001b[38;5;241m=\u001b[39m direc[i]\n\u001b[1;32m   3506\u001b[0m fx2 \u001b[38;5;241m=\u001b[39m fval\n\u001b[0;32m-> 3507\u001b[0m fval, x, direc1 \u001b[38;5;241m=\u001b[39m _linesearch_powell(func, x, direc1,\n\u001b[1;32m   3508\u001b[0m                                      tol\u001b[38;5;241m=\u001b[39mxtol \u001b[38;5;241m*\u001b[39m \u001b[38;5;241m100\u001b[39m,\n\u001b[1;32m   3509\u001b[0m                                      lower_bound\u001b[38;5;241m=\u001b[39mlower_bound,\n\u001b[1;32m   3510\u001b[0m                                      upper_bound\u001b[38;5;241m=\u001b[39mupper_bound,\n\u001b[1;32m   3511\u001b[0m                                      fval\u001b[38;5;241m=\u001b[39mfval)\n\u001b[1;32m   3512\u001b[0m \u001b[38;5;28;01mif\u001b[39;00m (fx2 \u001b[38;5;241m-\u001b[39m fval) \u001b[38;5;241m>\u001b[39m delta:\n\u001b[1;32m   3513\u001b[0m     delta \u001b[38;5;241m=\u001b[39m fx2 \u001b[38;5;241m-\u001b[39m fval\n",
      "File \u001b[0;32m~/opt/anaconda3/lib/python3.11/site-packages/scipy/optimize/_optimize.py:3195\u001b[0m, in \u001b[0;36m_linesearch_powell\u001b[0;34m(func, p, xi, tol, lower_bound, upper_bound, fval)\u001b[0m\n\u001b[1;32m   3192\u001b[0m     \u001b[38;5;28;01mreturn\u001b[39;00m _linesearch_powell(func, p, xi, fval\u001b[38;5;241m=\u001b[39mfval, tol\u001b[38;5;241m=\u001b[39mtol)\n\u001b[1;32m   3193\u001b[0m \u001b[38;5;28;01melif\u001b[39;00m \u001b[38;5;129;01mnot\u001b[39;00m np\u001b[38;5;241m.\u001b[39misneginf(bound[\u001b[38;5;241m0\u001b[39m]) \u001b[38;5;129;01mand\u001b[39;00m \u001b[38;5;129;01mnot\u001b[39;00m np\u001b[38;5;241m.\u001b[39misposinf(bound[\u001b[38;5;241m1\u001b[39m]):\n\u001b[1;32m   3194\u001b[0m     \u001b[38;5;66;03m# we can use a bounded scalar minimization\u001b[39;00m\n\u001b[0;32m-> 3195\u001b[0m     res \u001b[38;5;241m=\u001b[39m _minimize_scalar_bounded(myfunc, bound, xatol\u001b[38;5;241m=\u001b[39mtol \u001b[38;5;241m/\u001b[39m \u001b[38;5;241m100\u001b[39m)\n\u001b[1;32m   3196\u001b[0m     xi \u001b[38;5;241m=\u001b[39m res\u001b[38;5;241m.\u001b[39mx \u001b[38;5;241m*\u001b[39m xi\n\u001b[1;32m   3197\u001b[0m     \u001b[38;5;28;01mreturn\u001b[39;00m squeeze(res\u001b[38;5;241m.\u001b[39mfun), p \u001b[38;5;241m+\u001b[39m xi, xi\n",
      "File \u001b[0;32m~/opt/anaconda3/lib/python3.11/site-packages/scipy/optimize/_optimize.py:2338\u001b[0m, in \u001b[0;36m_minimize_scalar_bounded\u001b[0;34m(func, bounds, args, xatol, maxiter, disp, **unknown_options)\u001b[0m\n\u001b[1;32m   2336\u001b[0m si \u001b[38;5;241m=\u001b[39m np\u001b[38;5;241m.\u001b[39msign(rat) \u001b[38;5;241m+\u001b[39m (rat \u001b[38;5;241m==\u001b[39m \u001b[38;5;241m0\u001b[39m)\n\u001b[1;32m   2337\u001b[0m x \u001b[38;5;241m=\u001b[39m xf \u001b[38;5;241m+\u001b[39m si \u001b[38;5;241m*\u001b[39m np\u001b[38;5;241m.\u001b[39mmaximum(np\u001b[38;5;241m.\u001b[39mabs(rat), tol1)\n\u001b[0;32m-> 2338\u001b[0m fu \u001b[38;5;241m=\u001b[39m func(x, \u001b[38;5;241m*\u001b[39margs)\n\u001b[1;32m   2339\u001b[0m num \u001b[38;5;241m+\u001b[39m\u001b[38;5;241m=\u001b[39m \u001b[38;5;241m1\u001b[39m\n\u001b[1;32m   2340\u001b[0m fmin_data \u001b[38;5;241m=\u001b[39m (num, x, fu)\n",
      "File \u001b[0;32m~/opt/anaconda3/lib/python3.11/site-packages/scipy/optimize/_optimize.py:3176\u001b[0m, in \u001b[0;36m_linesearch_powell.<locals>.myfunc\u001b[0;34m(alpha)\u001b[0m\n\u001b[1;32m   3175\u001b[0m \u001b[38;5;28;01mdef\u001b[39;00m \u001b[38;5;21mmyfunc\u001b[39m(alpha):\n\u001b[0;32m-> 3176\u001b[0m     \u001b[38;5;28;01mreturn\u001b[39;00m func(p \u001b[38;5;241m+\u001b[39m alpha\u001b[38;5;241m*\u001b[39mxi)\n",
      "File \u001b[0;32m~/opt/anaconda3/lib/python3.11/site-packages/scipy/optimize/_optimize.py:620\u001b[0m, in \u001b[0;36m_wrap_scalar_function_maxfun_validation.<locals>.function_wrapper\u001b[0;34m(x, *wrapper_args)\u001b[0m\n\u001b[1;32m    618\u001b[0m ncalls[\u001b[38;5;241m0\u001b[39m] \u001b[38;5;241m+\u001b[39m\u001b[38;5;241m=\u001b[39m \u001b[38;5;241m1\u001b[39m\n\u001b[1;32m    619\u001b[0m \u001b[38;5;66;03m# A copy of x is sent to the user function (gh13740)\u001b[39;00m\n\u001b[0;32m--> 620\u001b[0m fx \u001b[38;5;241m=\u001b[39m function(np\u001b[38;5;241m.\u001b[39mcopy(x), \u001b[38;5;241m*\u001b[39m(wrapper_args \u001b[38;5;241m+\u001b[39m args))\n\u001b[1;32m    621\u001b[0m \u001b[38;5;66;03m# Ideally, we'd like to a have a true scalar returned from f(x). For\u001b[39;00m\n\u001b[1;32m    622\u001b[0m \u001b[38;5;66;03m# backwards-compatibility, also allow np.array([1.3]),\u001b[39;00m\n\u001b[1;32m    623\u001b[0m \u001b[38;5;66;03m# np.array([[1.3]]) etc.\u001b[39;00m\n\u001b[1;32m    624\u001b[0m \u001b[38;5;28;01mif\u001b[39;00m \u001b[38;5;129;01mnot\u001b[39;00m np\u001b[38;5;241m.\u001b[39misscalar(fx):\n",
      "File \u001b[0;32m~/GitHub/Quantum_Computing/qc_practice/vqe.py:99\u001b[0m, in \u001b[0;36mVQE.batch_output.<locals>.wrapper\u001b[0;34m(self, *args, **kwargs)\u001b[0m\n\u001b[1;32m     98\u001b[0m \u001b[38;5;28;01mdef\u001b[39;00m \u001b[38;5;21mwrapper\u001b[39m(\u001b[38;5;28mself\u001b[39m, \u001b[38;5;241m*\u001b[39margs, \u001b[38;5;241m*\u001b[39m\u001b[38;5;241m*\u001b[39mkwargs):\n\u001b[0;32m---> 99\u001b[0m     energy \u001b[38;5;241m=\u001b[39m func(\u001b[38;5;28mself\u001b[39m, \u001b[38;5;241m*\u001b[39margs, \u001b[38;5;241m*\u001b[39m\u001b[38;5;241m*\u001b[39mkwargs)\n\u001b[1;32m    100\u001b[0m     \u001b[38;5;28mprint\u001b[39m(\u001b[38;5;124mf\u001b[39m\u001b[38;5;124m\"\u001b[39m\u001b[38;5;124mIteration: \u001b[39m\u001b[38;5;132;01m{\u001b[39;00m\u001b[38;5;28mself\u001b[39m\u001b[38;5;241m.\u001b[39miteration()\u001b[38;5;132;01m}\u001b[39;00m\u001b[38;5;124m, Energy: \u001b[39m\u001b[38;5;132;01m{\u001b[39;00m\u001b[38;5;28mself\u001b[39m\u001b[38;5;241m.\u001b[39mprofile\u001b[38;5;241m.\u001b[39menergy_total()\u001b[38;5;132;01m:\u001b[39;00m\u001b[38;5;124m12.09f\u001b[39m\u001b[38;5;132;01m}\u001b[39;00m\u001b[38;5;124m\"\u001b[39m,\n\u001b[1;32m    101\u001b[0m           end\u001b[38;5;241m=\u001b[39m\u001b[38;5;124m'\u001b[39m\u001b[38;5;130;01m\\r\u001b[39;00m\u001b[38;5;124m'\u001b[39m, flush\u001b[38;5;241m=\u001b[39m\u001b[38;5;28;01mTrue\u001b[39;00m)\n\u001b[1;32m    102\u001b[0m     \u001b[38;5;28;01mreturn\u001b[39;00m energy\n",
      "File \u001b[0;32m~/GitHub/Quantum_Computing/qc_practice/vqe.py:109\u001b[0m, in \u001b[0;36mVQE.batch\u001b[0;34m(self, coeff)\u001b[0m\n\u001b[1;32m    107\u001b[0m \u001b[38;5;124m'\u001b[39m\u001b[38;5;124mPerforms the calculation for a given set of coefficients.\u001b[39m\u001b[38;5;124m'\u001b[39m\n\u001b[1;32m    108\u001b[0m qc \u001b[38;5;241m=\u001b[39m \u001b[38;5;28mself\u001b[39m\u001b[38;5;241m.\u001b[39mcircuit(coeff)\n\u001b[0;32m--> 109\u001b[0m energy \u001b[38;5;241m=\u001b[39m measure(qc, \u001b[38;5;28mself\u001b[39m\u001b[38;5;241m.\u001b[39mhamiltonian, \u001b[38;5;28mself\u001b[39m\u001b[38;5;241m.\u001b[39msimulator, parallel\u001b[38;5;241m=\u001b[39m\u001b[38;5;28mself\u001b[39m\u001b[38;5;241m.\u001b[39mparallel)\n\u001b[1;32m    110\u001b[0m \u001b[38;5;28mself\u001b[39m\u001b[38;5;241m.\u001b[39mprofile\u001b[38;5;241m.\u001b[39menergy_elec \u001b[38;5;241m=\u001b[39m energy\n\u001b[1;32m    111\u001b[0m \u001b[38;5;28mself\u001b[39m\u001b[38;5;241m.\u001b[39mprofile\u001b[38;5;241m.\u001b[39mcoeff \u001b[38;5;241m=\u001b[39m coeff\n",
      "File \u001b[0;32m~/GitHub/Quantum_Computing/qc_practice/measure/measure.py:13\u001b[0m, in \u001b[0;36mmeasure\u001b[0;34m(qc, h_pauli, simulator, parallel)\u001b[0m\n\u001b[1;32m     11\u001b[0m         results \u001b[38;5;241m=\u001b[39m results_async\u001b[38;5;241m.\u001b[39mget()\n\u001b[1;32m     12\u001b[0m \u001b[38;5;28;01melse\u001b[39;00m:\n\u001b[0;32m---> 13\u001b[0m     results \u001b[38;5;241m=\u001b[39m [single_measure(task) \u001b[38;5;28;01mfor\u001b[39;00m task \u001b[38;5;129;01min\u001b[39;00m tasks]\n\u001b[1;32m     14\u001b[0m energy \u001b[38;5;241m=\u001b[39m \u001b[38;5;28msum\u001b[39m(results)\n\u001b[1;32m     15\u001b[0m \u001b[38;5;28;01mreturn\u001b[39;00m energy\n",
      "File \u001b[0;32m~/GitHub/Quantum_Computing/qc_practice/measure/measure.py:13\u001b[0m, in \u001b[0;36m<listcomp>\u001b[0;34m(.0)\u001b[0m\n\u001b[1;32m     11\u001b[0m         results \u001b[38;5;241m=\u001b[39m results_async\u001b[38;5;241m.\u001b[39mget()\n\u001b[1;32m     12\u001b[0m \u001b[38;5;28;01melse\u001b[39;00m:\n\u001b[0;32m---> 13\u001b[0m     results \u001b[38;5;241m=\u001b[39m [single_measure(task) \u001b[38;5;28;01mfor\u001b[39;00m task \u001b[38;5;129;01min\u001b[39;00m tasks]\n\u001b[1;32m     14\u001b[0m energy \u001b[38;5;241m=\u001b[39m \u001b[38;5;28msum\u001b[39m(results)\n\u001b[1;32m     15\u001b[0m \u001b[38;5;28;01mreturn\u001b[39;00m energy\n",
      "File \u001b[0;32m~/GitHub/Quantum_Computing/qc_practice/measure/measure.py:23\u001b[0m, in \u001b[0;36msingle_measure\u001b[0;34m(args)\u001b[0m\n\u001b[1;32m     21\u001b[0m     \u001b[38;5;28;01mreturn\u001b[39;00m values\u001b[38;5;241m.\u001b[39mreal\n\u001b[1;32m     22\u001b[0m qc_2 \u001b[38;5;241m=\u001b[39m qc\u001b[38;5;241m.\u001b[39mcopy()\n\u001b[0;32m---> 23\u001b[0m probability \u001b[38;5;241m=\u001b[39m simulator\u001b[38;5;241m.\u001b[39mrun_simulator(qc_2, p_string)\n\u001b[1;32m     24\u001b[0m expectation \u001b[38;5;241m=\u001b[39m probability \u001b[38;5;241m*\u001b[39m values\u001b[38;5;241m.\u001b[39mreal\n\u001b[1;32m     25\u001b[0m \u001b[38;5;28;01mreturn\u001b[39;00m expectation\n",
      "File \u001b[0;32m~/GitHub/Quantum_Computing/qc_practice/simulator/qasm.py:23\u001b[0m, in \u001b[0;36mQASM.run_simulator\u001b[0;34m(self, qc, p_string)\u001b[0m\n\u001b[1;32m     21\u001b[0m         \u001b[38;5;28;01mcontinue\u001b[39;00m\n\u001b[1;32m     22\u001b[0m     qc\u001b[38;5;241m.\u001b[39mmeasure(idx, idx)\n\u001b[0;32m---> 23\u001b[0m result \u001b[38;5;241m=\u001b[39m \u001b[38;5;28mself\u001b[39m\u001b[38;5;241m.\u001b[39mbackend\u001b[38;5;241m.\u001b[39mrun(qc, shots\u001b[38;5;241m=\u001b[39m\u001b[38;5;28mself\u001b[39m\u001b[38;5;241m.\u001b[39mshots)\u001b[38;5;241m.\u001b[39mresult()\u001b[38;5;241m.\u001b[39mget_counts()\n\u001b[1;32m     24\u001b[0m counts \u001b[38;5;241m=\u001b[39m \u001b[38;5;241m0\u001b[39m\n\u001b[1;32m     25\u001b[0m \u001b[38;5;28;01mfor\u001b[39;00m key, value \u001b[38;5;129;01min\u001b[39;00m result\u001b[38;5;241m.\u001b[39mitems():  \u001b[38;5;66;03m# type: ignore\u001b[39;00m\n",
      "File \u001b[0;32m~/opt/anaconda3/lib/python3.11/site-packages/qiskit_aer/jobs/utils.py:42\u001b[0m, in \u001b[0;36mrequires_submit.<locals>._wrapper\u001b[0;34m(self, *args, **kwargs)\u001b[0m\n\u001b[1;32m     40\u001b[0m \u001b[38;5;28;01mif\u001b[39;00m \u001b[38;5;28mself\u001b[39m\u001b[38;5;241m.\u001b[39m_future \u001b[38;5;129;01mis\u001b[39;00m \u001b[38;5;28;01mNone\u001b[39;00m:\n\u001b[1;32m     41\u001b[0m     \u001b[38;5;28;01mraise\u001b[39;00m JobError(\u001b[38;5;124m\"\u001b[39m\u001b[38;5;124mJob not submitted yet!. You have to .submit() first!\u001b[39m\u001b[38;5;124m\"\u001b[39m)\n\u001b[0;32m---> 42\u001b[0m \u001b[38;5;28;01mreturn\u001b[39;00m func(\u001b[38;5;28mself\u001b[39m, \u001b[38;5;241m*\u001b[39margs, \u001b[38;5;241m*\u001b[39m\u001b[38;5;241m*\u001b[39mkwargs)\n",
      "File \u001b[0;32m~/opt/anaconda3/lib/python3.11/site-packages/qiskit_aer/jobs/aerjob.py:114\u001b[0m, in \u001b[0;36mAerJob.result\u001b[0;34m(self, timeout)\u001b[0m\n\u001b[1;32m     96\u001b[0m \u001b[38;5;129m@requires_submit\u001b[39m\n\u001b[1;32m     97\u001b[0m \u001b[38;5;28;01mdef\u001b[39;00m \u001b[38;5;21mresult\u001b[39m(\u001b[38;5;28mself\u001b[39m, timeout\u001b[38;5;241m=\u001b[39m\u001b[38;5;28;01mNone\u001b[39;00m):\n\u001b[1;32m     98\u001b[0m     \u001b[38;5;66;03m# pylint: disable=arguments-differ\u001b[39;00m\n\u001b[1;32m     99\u001b[0m \u001b[38;5;250m    \u001b[39m\u001b[38;5;124;03m\"\"\"Get job result. The behavior is the same as the underlying\u001b[39;00m\n\u001b[1;32m    100\u001b[0m \u001b[38;5;124;03m    concurrent Future objects,\u001b[39;00m\n\u001b[1;32m    101\u001b[0m \n\u001b[0;32m   (...)\u001b[0m\n\u001b[1;32m    112\u001b[0m \u001b[38;5;124;03m        concurrent.futures.CancelledError: if job cancelled before completed.\u001b[39;00m\n\u001b[1;32m    113\u001b[0m \u001b[38;5;124;03m    \"\"\"\u001b[39;00m\n\u001b[0;32m--> 114\u001b[0m     \u001b[38;5;28;01mreturn\u001b[39;00m \u001b[38;5;28mself\u001b[39m\u001b[38;5;241m.\u001b[39m_future\u001b[38;5;241m.\u001b[39mresult(timeout\u001b[38;5;241m=\u001b[39mtimeout)\n",
      "File \u001b[0;32m~/opt/anaconda3/lib/python3.11/concurrent/futures/_base.py:451\u001b[0m, in \u001b[0;36mFuture.result\u001b[0;34m(self, timeout)\u001b[0m\n\u001b[1;32m    448\u001b[0m \u001b[38;5;28;01melif\u001b[39;00m \u001b[38;5;28mself\u001b[39m\u001b[38;5;241m.\u001b[39m_state \u001b[38;5;241m==\u001b[39m FINISHED:\n\u001b[1;32m    449\u001b[0m     \u001b[38;5;28;01mreturn\u001b[39;00m \u001b[38;5;28mself\u001b[39m\u001b[38;5;241m.\u001b[39m__get_result()\n\u001b[0;32m--> 451\u001b[0m \u001b[38;5;28mself\u001b[39m\u001b[38;5;241m.\u001b[39m_condition\u001b[38;5;241m.\u001b[39mwait(timeout)\n\u001b[1;32m    453\u001b[0m \u001b[38;5;28;01mif\u001b[39;00m \u001b[38;5;28mself\u001b[39m\u001b[38;5;241m.\u001b[39m_state \u001b[38;5;129;01min\u001b[39;00m [CANCELLED, CANCELLED_AND_NOTIFIED]:\n\u001b[1;32m    454\u001b[0m     \u001b[38;5;28;01mraise\u001b[39;00m CancelledError()\n",
      "File \u001b[0;32m~/opt/anaconda3/lib/python3.11/threading.py:327\u001b[0m, in \u001b[0;36mCondition.wait\u001b[0;34m(self, timeout)\u001b[0m\n\u001b[1;32m    325\u001b[0m \u001b[38;5;28;01mtry\u001b[39;00m:    \u001b[38;5;66;03m# restore state no matter what (e.g., KeyboardInterrupt)\u001b[39;00m\n\u001b[1;32m    326\u001b[0m     \u001b[38;5;28;01mif\u001b[39;00m timeout \u001b[38;5;129;01mis\u001b[39;00m \u001b[38;5;28;01mNone\u001b[39;00m:\n\u001b[0;32m--> 327\u001b[0m         waiter\u001b[38;5;241m.\u001b[39macquire()\n\u001b[1;32m    328\u001b[0m         gotit \u001b[38;5;241m=\u001b[39m \u001b[38;5;28;01mTrue\u001b[39;00m\n\u001b[1;32m    329\u001b[0m     \u001b[38;5;28;01melse\u001b[39;00m:\n",
      "\u001b[0;31mKeyboardInterrupt\u001b[0m: "
     ]
    }
   ],
   "source": [
    "from pyscf import gto\n",
    "from qc_practice import VQE, VQD\n",
    "from qc_practice.ansatz import UCCSD, UpCCGSD\n",
    "from qc_practice.simulator import QASM\n",
    "\n",
    "mol = gto.M(atom = 'H 0 0 0; H 0 0 0.7', basis = 'sto-3g')\n",
    "vqe = VQE(mol)\n",
    "vqe.ansatz = UCCSD()\n",
    "vqe.simulator = QASM()\n",
    "vqe.parallel = False\n",
    "vqe.run()\n"
   ]
  }
 ],
 "metadata": {
  "kernelspec": {
   "display_name": "base",
   "language": "python",
   "name": "python3"
  },
  "language_info": {
   "codemirror_mode": {
    "name": "ipython",
    "version": 3
   },
   "file_extension": ".py",
   "mimetype": "text/x-python",
   "name": "python",
   "nbconvert_exporter": "python",
   "pygments_lexer": "ipython3",
   "version": "3.11.7"
  }
 },
 "nbformat": 4,
 "nbformat_minor": 2
}
