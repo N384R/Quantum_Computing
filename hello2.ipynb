{
 "cells": [
  {
   "cell_type": "code",
   "execution_count": 1,
   "metadata": {},
   "outputs": [
    {
     "name": "stdout",
     "output_type": "stream",
     "text": [
      "-1.8918539658846627\n",
      "Completed\n",
      "Energy: -1.8941507995888263\n",
      "\n",
      "-1.8928703639577544\n",
      "Completed\n",
      "Energy: -1.8938942097303384\n",
      "\n"
     ]
    }
   ],
   "source": [
    "from pyscf import gto\n",
    "from qiskit import QuantumCircuit\n",
    "from qc_practice.simulator import simulator\n",
    "from qc_practice.measure.hamiltonian import hamiltonian, pyscf_luncher\n",
    "from qc_practice.measure.measure import measure\n",
    "from qc_practice.simulator.simulator import QASM\n",
    "from qc_practice.ansatz import UCCSD\n",
    "from qc_practice.profile import Profile\n",
    "\n",
    "# Define the molecule\n",
    "mol = gto.M(atom = 'H 0 0 0; H 0 0 0.7', basis = 'sto-3g')\n",
    "\n",
    "info = pyscf_luncher(mol)\n",
    "h_pauli = hamiltonian(info)\n",
    "ansatz = UCCSD()\n",
    "simulator = QASM()\n",
    "profile = Profile()\n",
    "profile.num_elec = info['num_elec']\n",
    "profile.num_orb = info['num_orb']\n",
    "\n",
    "# Define the quantum circuit\n",
    "qc = QuantumCircuit(profile.num_orb*2, profile.num_orb*2)\n",
    "for i in range(profile.num_elec//2):\n",
    "    qc.x(i)\n",
    "    qc.x(i + profile.num_elec)\n",
    "\n",
    "def calculation(coeff):\n",
    "    qc = QuantumCircuit(profile.num_orb*2, profile.num_orb*2)\n",
    "    for i in range(profile.num_elec//2):\n",
    "        qc.x(i)\n",
    "        qc.x(i + profile.num_elec)\n",
    "\n",
    "    ansatz.mapping(profile, coeff)\n",
    "    ansatz.ansatz(qc, profile, coeff)\n",
    "\n",
    "    energy = measure(qc, h_pauli, simulator, parallel=True)\n",
    "    print(energy, end='\\r', flush=True)\n",
    "    return energy\n",
    "\n",
    "for i in range(2):\n",
    "    coeff = ansatz.generate_coeff(profile)\n",
    "    optimized = ansatz.call_optimizer(calculation, coeff, 'powell')\n",
    "\n",
    "    print('\\nCompleted')\n",
    "    print(f'Energy: {optimized.fun}\\n')"
   ]
  },
  {
   "cell_type": "code",
   "execution_count": 4,
   "metadata": {},
   "outputs": [
    {
     "name": "stdout",
     "output_type": "stream",
     "text": [
      "-1.8924828506552829\n",
      "Completed\n",
      "Energy: -1.8936743559965366\n",
      "\n",
      "-1.8905097432295404\n",
      "Completed\n",
      "Energy: -1.89482817827052\n",
      "\n"
     ]
    }
   ],
   "source": [
    "class Test:\n",
    "    def __init__(self):\n",
    "        mol = gto.M(atom = 'H 0 0 0; H 0 0 0.7', basis = 'sto-3g')\n",
    "\n",
    "        self.h_pauli = hamiltonian(mol)\n",
    "        self.ansatz = UCCSD()\n",
    "        self.simulator = QASM()\n",
    "        self.profile = Profile()\n",
    "        self.profile.num_elec = info['num_elec']\n",
    "        self.profile.num_orb = info['num_orb']\n",
    "\n",
    "    def calculation(self, coeff):\n",
    "        qc = QuantumCircuit(profile.num_orb*2, profile.num_orb*2)\n",
    "        for i in range(profile.num_elec//2):\n",
    "            qc.x(i)\n",
    "            qc.x(i + profile.num_elec)\n",
    "\n",
    "        ansatz.mapping(profile, coeff)\n",
    "        ansatz.ansatz(qc, profile, coeff)\n",
    "\n",
    "        energy = measure(qc, self.h_pauli, self.simulator, parallel=True)\n",
    "        print(energy, end='\\r', flush=True)\n",
    "        return energy\n",
    "    \n",
    "    def run(self, coeff):\n",
    "        for i in range(2):\n",
    "            coeff2 = coeff.copy()\n",
    "            optimized = ansatz.call_optimizer(calculation, coeff2, 'powell')\n",
    "\n",
    "            print('\\nCompleted')\n",
    "            print(f'Energy: {optimized.fun}\\n')\n",
    "    \n",
    "\n",
    "\n",
    "test = Test()\n",
    "coeff = ansatz.generate_coeff(profile)\n",
    "\n",
    "test.run(coeff)"
   ]
  },
  {
   "cell_type": "code",
   "execution_count": 1,
   "metadata": {},
   "outputs": [
    {
     "name": "stdout",
     "output_type": "stream",
     "text": [
      "\n",
      "Starting VQE Calculation\n",
      "\n",
      "Ansatz: UCCSD\n",
      "Simulator: QASM\n",
      "Optimizer: powell\n",
      "\n",
      "State 0:\n",
      "Iteration: 152, Converged!!         \n",
      "Total Energy: -1.136178256\n",
      "\n",
      "Elapsed time: 0:00:15\n"
     ]
    },
    {
     "data": {
      "text/plain": [
       "Singlet_0"
      ]
     },
     "execution_count": 1,
     "metadata": {},
     "output_type": "execute_result"
    }
   ],
   "source": [
    "from pyscf import gto\n",
    "from qc_practice import VQE, VQD\n",
    "from qc_practice.ansatz import UCCSD\n",
    "from qc_practice.simulator import QASM\n",
    "\n",
    "mol = gto.M(atom = 'H 0 0 0; H 0 0 0.7', basis = 'sto-3g')\n",
    "vqe = VQE(mol)\n",
    "vqe.ansatz = UCCSD()\n",
    "vqe.simulator = QASM()\n",
    "vqe.parallel = True\n",
    "vqe.run()\n"
   ]
  },
  {
   "cell_type": "code",
   "execution_count": 1,
   "metadata": {},
   "outputs": [
    {
     "name": "stdout",
     "output_type": "stream",
     "text": [
      "\n",
      "Starting VQD Calculation\n",
      "\n",
      "Ansatz: UpCCGSD\n",
      "Simulator: QASM\n",
      "Optimizer: powell\n",
      "nstates: 2\n",
      "\n",
      "State 0:\n",
      "Iteration: 355, Energy: -1.134555809\r"
     ]
    }
   ],
   "source": [
    "from pyscf import gto\n",
    "from qc_practice import VQE, VQD\n",
    "from qc_practice.ansatz import UCCSD, UpCCGSD\n",
    "from qc_practice.simulator import QASM\n",
    "\n",
    "mol = gto.M(atom = 'H 0 0 0; H 0 0 0.7', basis = 'sto-3g')\n",
    "vqe = VQD(mol)\n",
    "vqe.ansatz = UpCCGSD()\n",
    "vqe.simulator = QASM()\n",
    "vqe.parallel = False\n",
    "\n",
    "vqe.run()\n"
   ]
  }
 ],
 "metadata": {
  "kernelspec": {
   "display_name": "base",
   "language": "python",
   "name": "python3"
  },
  "language_info": {
   "codemirror_mode": {
    "name": "ipython",
    "version": 3
   },
   "file_extension": ".py",
   "mimetype": "text/x-python",
   "name": "python",
   "nbconvert_exporter": "python",
   "pygments_lexer": "ipython3",
   "version": "3.11.7"
  }
 },
 "nbformat": 4,
 "nbformat_minor": 2
}
