{
 "cells": [
  {
   "cell_type": "markdown",
   "metadata": {},
   "source": [
    "1-1-a. eUCCSD sto-3g"
   ]
  },
  {
   "cell_type": "code",
   "execution_count": 1,
   "metadata": {},
   "outputs": [
    {
     "name": "stdout",
     "output_type": "stream",
     "text": [
      "\n",
      "Starting VQD Calculation\n",
      "\n",
      "Ansatz: fUCCSD\n",
      "Simulator: StateVector\n",
      "Optimizer: powell\n",
      "nstates: 6\n",
      "\n",
      "State 0:\n",
      "Iteration: 108, Converged!!         \n",
      "Total Energy: -1.136189454\n",
      "\n",
      "State 1:\n",
      "Iteration: 159, Converged!!         \n",
      "Total Energy: -0.478453056\n",
      "\n",
      "State 2:\n",
      "Iteration: 139, Converged!!         \n",
      "Total Energy: -0.478453056\n",
      "\n",
      "State 3:\n",
      "Iteration: 144, Converged!!         \n",
      "Total Energy: -0.478453056\n",
      "\n",
      "State 4:\n",
      "Iteration: 117, Converged!!         \n",
      "Total Energy:  0.583314103\n",
      "\n",
      "State 5:\n",
      "Iteration: 165, Converged!!         \n",
      "Total Energy: -0.120451904\n",
      "\n",
      "Final State Energies:\n",
      "State 0: -1.136189454\n",
      "State 1: -0.478453056\n",
      "State 2: -0.478453056\n",
      "State 3: -0.478453056\n",
      "State 4:  0.583314103\n",
      "State 5: -0.120451904\n",
      "\n",
      "Elapsed time: 0:00:41\n"
     ]
    },
    {
     "data": {
      "text/plain": [
       "<jqc.vqe.vqd.VQD at 0x7f6d96391690>"
      ]
     },
     "execution_count": 1,
     "metadata": {},
     "output_type": "execute_result"
    }
   ],
   "source": [
    "from jqc.measure import dipole_moment\n",
    "from pyscf import gto\n",
    "from jqc import VQE, VQD\n",
    "from jqc.ansatz import fUCCSD, UCCSD\n",
    "\n",
    "mol = gto.M(atom='H 0 0 0; H 0 0 0.70', basis='sto-3g')\n",
    "vqd = VQD(mol, fUCCSD())\n",
    "vqd.nstates = 6\n",
    "\n",
    "vqd.run()"
   ]
  },
  {
   "cell_type": "markdown",
   "metadata": {},
   "source": [
    "1-1-b. eUCCGSD"
   ]
  },
  {
   "cell_type": "code",
   "execution_count": 1,
   "metadata": {},
   "outputs": [
    {
     "name": "stdout",
     "output_type": "stream",
     "text": [
      "\n",
      "Starting VQD Calculation\n",
      "\n",
      "Ansatz: eUCCGSD\n",
      "Simulator: StateVector\n",
      "Optimizer: powell\n",
      "nstates: 4\n",
      "\n",
      "State 0:\n",
      "Iteration: 191, Converged!!         \n",
      "Total Energy: -1.136189454\n",
      "\n",
      "State 1:\n",
      "Iteration: 171, Converged!!         \n",
      "Total Energy: -0.478453054\n",
      "\n",
      "State 2:\n",
      "Iteration: 183, Converged!!         \n",
      "Total Energy: -0.120451901\n",
      "\n",
      "State 3:\n",
      "Iteration: 167, Converged!!         \n",
      "Total Energy:  0.583314104\n",
      "\n",
      "Final State Energies:\n",
      "State 0: -1.136189454\n",
      "State 1: -0.478453054\n",
      "State 2: -0.120451901\n",
      "State 3:  0.583314104\n",
      "\n",
      "Elapsed time: 0:00:19\n"
     ]
    },
    {
     "data": {
      "text/plain": [
       "[Singlet_0, Singlet_1, Singlet_2, Singlet_3]"
      ]
     },
     "execution_count": 1,
     "metadata": {},
     "output_type": "execute_result"
    }
   ],
   "source": [
    "from pyscf import gto\n",
    "from jqc import VQE, VQD\n",
    "from jqc.ansatz import eUCCGSD, eUCCSD, UCCSD\n",
    "\n",
    "mol = gto.M(atom='H 0 0 0; H 0 0 0.70', basis='sto-3g')\n",
    "vqd = VQD(mol, eUCCGSD())\n",
    "vqd.nstates = 4\n",
    "\n",
    "vqd.run()"
   ]
  },
  {
   "cell_type": "markdown",
   "metadata": {},
   "source": [
    "2-1-a. eUCCSD 4-31g"
   ]
  },
  {
   "cell_type": "code",
   "execution_count": 1,
   "metadata": {},
   "outputs": [
    {
     "name": "stdout",
     "output_type": "stream",
     "text": [
      "\n",
      "Starting VQD Calculation\n",
      "\n",
      "Ansatz: fUCCSD\n",
      "Simulator: StateVector\n",
      "Optimizer: powell\n",
      "nstates: 3\n",
      "\n",
      "State 0:\n",
      "Iteration: 179, Energy: -1.150051155\r"
     ]
    }
   ],
   "source": [
    "from pyscf import gto\n",
    "from jqc import VQE, VQD\n",
    "from jqc.ansatz import fUCCSD, UCCSD\n",
    "\n",
    "mol = gto.M(atom='H 0 0 0; H 0 0 0.70', basis='4-31g')\n",
    "vqd = VQD(mol, fUCCSD())\n",
    "vqd.nstates = 3\n",
    "\n",
    "vqd.run()\n",
    "vqd.profiles.show()"
   ]
  },
  {
   "cell_type": "code",
   "execution_count": 1,
   "metadata": {},
   "outputs": [
    {
     "name": "stdout",
     "output_type": "stream",
     "text": [
      "\n",
      "Starting VQD Calculation\n",
      "\n",
      "Ansatz: HEA\n",
      "Simulator: StateVector\n",
      "Optimizer: powell\n",
      "nstates: 6\n",
      "\n",
      "State 0:\n",
      "Iteration: 2055, Converged!!         \n",
      "Total Energy: -1.136189450\n",
      "\n",
      "State 1:\n",
      "Iteration: 1519, Converged!!         \n",
      "Total Energy: -0.521885560\n",
      "\n",
      "State 2:\n",
      "Iteration: 1580, Converged!!         \n",
      "Total Energy: -0.478453056\n",
      "\n",
      "State 3:\n",
      "Iteration: 1189, Converged!!         \n",
      "Total Energy: -0.478453056\n",
      "\n",
      "State 4:\n",
      "Iteration: 1490, Converged!!         \n",
      "Total Energy: -0.403183752\n",
      "\n",
      "State 5:\n",
      "Iteration: 1073, Converged!!         \n",
      "Total Energy: -0.478453056\n",
      "\n",
      "Final State Energies:\n",
      "State 0: -1.136189450\n",
      "State 1: -0.521885560\n",
      "State 2: -0.478453056\n",
      "State 3: -0.478453056\n",
      "State 4: -0.403183752\n",
      "State 5: -0.478453056\n",
      "\n",
      "Elapsed time: 0:03:24\n"
     ]
    },
    {
     "data": {
      "text/plain": [
       "[{'state': 0,\n",
       "  'spin': '0.00',\n",
       "  'num_orb': 2,\n",
       "  'num_elec': 2,\n",
       "  'coeff': array([ 3.12119767e+00,  2.85623914e-01,  3.51704543e-05,  1.11204493e+00,\n",
       "          2.08960128e-03,  1.24783141e+00,  3.14151913e+00,  4.06946228e-01,\n",
       "         -8.74619442e-04, -3.03016667e+00,  8.97960538e-06,  2.60543949e-01,\n",
       "         -4.05317076e-05, -1.50063767e+00,  2.24302039e-05, -2.71296484e+00,\n",
       "          4.71199956e-04, -6.85807633e-01, -5.02060031e-04, -1.56474896e+00,\n",
       "          3.45356048e-04,  1.99480394e+00,  7.16783197e-06,  1.97485098e+00,\n",
       "         -3.14150616e+00,  1.38904065e+00,  5.85412537e-06,  1.47859604e+00,\n",
       "         -1.07177076e-05,  1.17949839e+00, -1.51715614e-05, -1.66241286e-01,\n",
       "          2.04324306e-02,  1.24279052e+00, -1.78957334e-05,  2.66782376e+00,\n",
       "          1.23979557e-03,  3.99820790e-01,  2.14089323e-05,  2.78202551e+00,\n",
       "         -8.74612580e-04,  3.34714980e-02, -2.41326918e-05, -1.48017945e+00,\n",
       "         -2.68783610e-05,  2.86699477e+00,  1.51031310e-05,  1.68880893e+00,\n",
       "         -2.09550387e-01, -2.10734287e-03, -5.00061100e-04, -2.56792902e+00,\n",
       "         -1.08626549e-03, -1.25851220e+00,  2.03931439e-05, -8.18280002e-01,\n",
       "          1.39488160e-05,  1.13338436e-07,  6.17522899e-06,  3.79786641e-07,\n",
       "         -1.82022944e-05, -1.60777843e-06, -5.76895558e-06,  3.14156079e+00]),\n",
       "  'energy_total': -1.1361894495218712,\n",
       "  'circuit': <qiskit.circuit.quantumcircuit.QuantumCircuit at 0x7fdee0a19550>},\n",
       " {'state': 1,\n",
       "  'spin': '0.75',\n",
       "  'num_orb': 2,\n",
       "  'num_elec': 2,\n",
       "  'coeff': array([ 3.14167569e+00, -1.49876467e+00, -2.45637830e-05, -1.64899180e+00,\n",
       "         -1.88855773e-08, -1.53441577e+00, -3.14168972e+00,  1.94657284e-01,\n",
       "         -2.90299709e+00,  3.15553893e-01,  8.44394625e-12,  1.58334982e+00,\n",
       "         -2.03396067e-05,  5.47329088e-01, -1.24729269e-05, -2.53454905e+00,\n",
       "         -2.10411656e-10, -1.42851490e-01,  1.06690328e-07,  5.65061908e-03,\n",
       "          1.45882490e-08,  2.77463744e+00, -1.38326213e-05, -5.49918734e-02,\n",
       "          1.86171515e-06, -2.52903031e-01,  2.25077082e-05, -1.60164223e+00,\n",
       "         -2.02955454e-05,  7.20755856e-01,  2.06159879e-05,  3.05454535e+00,\n",
       "         -9.27100207e-06, -1.91259057e-01, -1.36216048e-06, -1.40449962e-02,\n",
       "         -8.82860599e-09, -3.08854141e-01,  3.50674354e-06, -1.21815093e-03,\n",
       "         -4.29307364e-01, -3.20953476e-01,  5.18116299e-10, -2.29494934e-01,\n",
       "          1.14344514e-05,  4.21635389e-02,  2.40970459e-06,  3.06771933e+00,\n",
       "         -8.09638996e-10,  5.86650819e-02,  2.64198023e-06, -1.79485364e-03,\n",
       "          1.94897556e-08,  5.73389162e-02, -1.21306190e-05, -9.81862585e-03,\n",
       "         -1.67426346e-05, -9.63931476e-02, -9.62396351e-06,  1.23072583e+00,\n",
       "          9.17625234e-06, -1.47241622e-01, -1.58049770e-05, -6.94418561e-01]),\n",
       "  'energy_total': -0.5218855603556222,\n",
       "  'circuit': <qiskit.circuit.quantumcircuit.QuantumCircuit at 0x7fdee0947d50>},\n",
       " {'state': 2,\n",
       "  'spin': '2.00',\n",
       "  'num_orb': 2,\n",
       "  'num_elec': 2,\n",
       "  'coeff': array([ 3.14159639e+00, -2.59013470e+00,  3.41386054e-07,  6.84490598e-01,\n",
       "         -3.04987145e-08,  2.54994112e+00,  3.67447005e-05,  5.11922534e-01,\n",
       "         -1.94442180e-08,  3.04490634e+00, -1.88618574e-08,  4.55869505e-01,\n",
       "          1.40030882e-10,  3.26220219e-01, -1.92451823e-05, -1.38985617e-01,\n",
       "          6.45215286e-02, -4.78761687e-02, -2.50289556e-09, -2.17784786e-01,\n",
       "          4.58728418e-07, -2.39051847e+00,  2.26324998e-05,  1.14372622e-01,\n",
       "         -5.48432357e-09,  8.93100462e-02,  4.77037732e-06, -1.22242888e-01,\n",
       "          4.32990574e-10, -1.01609043e-01, -7.08930692e-07, -4.82597745e-03,\n",
       "          3.76807010e-06,  1.41764321e-01, -3.79787097e-07, -2.85850718e-01,\n",
       "         -1.52437109e-07, -2.41877619e-02,  6.34390828e-06,  4.39541654e-02,\n",
       "         -7.31802263e-08, -8.25368274e-02,  1.78722095e-07, -1.79829059e-02,\n",
       "         -9.63846653e-10, -3.96013154e-01,  2.02228310e-05,  1.18216409e-01,\n",
       "          6.43567257e-03, -1.03343857e-01,  5.06041861e-09,  1.42996607e-01,\n",
       "          1.72355881e-06, -2.62515852e-01,  1.82905524e-05,  8.19610098e-02,\n",
       "          1.59274628e-08,  4.51474688e-02, -1.22831218e-05,  4.59243548e-02,\n",
       "          1.35854024e-09,  2.26764327e-02, -6.55172679e-06, -5.67195287e-04]),\n",
       "  'energy_total': -0.4784530558868997,\n",
       "  'circuit': <qiskit.circuit.quantumcircuit.QuantumCircuit at 0x7fdee09c76d0>},\n",
       " {'state': 3,\n",
       "  'spin': '2.00',\n",
       "  'num_orb': 2,\n",
       "  'num_elec': 2,\n",
       "  'coeff': array([-6.80569009e-06, -1.47569133e+00,  3.14159243e+00, -2.29019698e+00,\n",
       "         -7.93758503e-07, -2.31327389e+00,  1.27370143e-04,  6.19893728e-01,\n",
       "         -1.89009829e-06,  2.24644768e-01,  3.14159173e+00, -2.87426381e+00,\n",
       "          1.78056094e-07, -5.53835447e-03,  1.29969319e-04, -1.04430091e+00,\n",
       "          7.08784343e-02,  4.84590895e-02,  4.02366263e-08, -1.07613924e+00,\n",
       "          1.69647917e-05, -1.25451012e+00,  4.67030201e-05,  4.28119662e-01,\n",
       "         -1.33312898e-08,  5.61792405e-06,  2.31838220e-06, -7.42746819e-06,\n",
       "         -3.76853073e-07,  1.46429801e-05,  1.67725826e-05, -9.09603819e-06,\n",
       "         -1.92634486e-05,  9.92416652e-06, -1.65738823e-05, -2.22353574e-01,\n",
       "         -2.10920245e-06, -3.72984013e-06,  1.43845948e-05,  3.10709226e+00,\n",
       "          9.82187542e-07, -2.26161621e-05,  1.49865615e-07,  1.71996474e-05,\n",
       "          1.15265466e-06,  1.04520233e+00,  2.20187139e-05,  1.04105459e-02,\n",
       "          4.42286891e-05,  8.11898314e-06, -1.16072613e-07,  1.14737824e-01,\n",
       "         -1.49055721e-05,  7.26263551e-02,  1.77169660e-05,  1.61320907e-03,\n",
       "         -8.40424663e-09,  2.54127667e-05, -1.80211510e-05, -1.00340565e-05,\n",
       "          5.28676536e-07, -5.60695307e-06,  5.24592882e-06,  1.62861036e-05]),\n",
       "  'energy_total': -0.47845305563399887,\n",
       "  'circuit': <qiskit.circuit.quantumcircuit.QuantumCircuit at 0x7fdee0adb810>},\n",
       " {'state': 4,\n",
       "  'spin': '0.75',\n",
       "  'num_orb': 2,\n",
       "  'num_elec': 2,\n",
       "  'coeff': array([-2.57211809e-07, -1.52094430e+00, -3.14159017e+00, -2.79134860e+00,\n",
       "          2.86379547e-06, -1.65695803e+00,  1.17433435e-04,  5.66396628e-01,\n",
       "         -8.17462767e-07,  9.48261278e-01,  4.11069533e-02, -9.54925629e-01,\n",
       "          3.14160146e+00,  1.38993890e+00,  3.36214806e-06,  6.00721292e-01,\n",
       "          7.13389229e-08, -2.21346182e+00, -1.52567519e-07, -5.97183695e-03,\n",
       "          9.13454650e-06,  1.43491927e+00, -1.61435456e-05,  2.17935103e-03,\n",
       "          6.01422143e-08, -2.97440185e-01, -4.58145926e-06,  3.00108940e-01,\n",
       "          6.72334648e-06, -1.45758022e-01,  8.85358669e-06, -1.67544201e-03,\n",
       "         -2.42585383e-09,  7.82356168e-02,  1.62499023e-06, -1.55453258e-02,\n",
       "         -3.39983178e-06, -5.96776194e-01, -5.33643298e-06, -1.43488618e-03,\n",
       "          2.19003216e-06,  1.44225684e+00, -1.84765359e-01, -3.11707338e-01,\n",
       "          2.17927877e-05,  1.83756911e+00, -2.34550306e-05,  5.41388724e-03,\n",
       "         -1.35036678e-07,  1.69752737e+00, -4.11122285e-07, -1.75098008e-01,\n",
       "         -1.63255833e-05, -6.03189101e-02, -1.74605490e-09,  1.93847264e-03,\n",
       "         -1.28942603e-07, -4.26400493e-01,  1.26575278e-05,  1.37465994e-01,\n",
       "         -2.15248238e-05,  2.25290832e+00,  1.44708873e-05, -1.26284635e-03]),\n",
       "  'energy_total': -0.4031837518352238,\n",
       "  'circuit': <qiskit.circuit.quantumcircuit.QuantumCircuit at 0x7fdee07be510>},\n",
       " {'state': 5,\n",
       "  'spin': '2.00',\n",
       "  'num_orb': 2,\n",
       "  'num_elec': 2,\n",
       "  'coeff': array([-1.73361832e-05, -3.31751758e-01, -3.14159133e+00,  1.03215642e+00,\n",
       "         -1.45794633e-05,  3.27280274e-01,  1.17489564e-04,  5.32411896e-01,\n",
       "          6.75854389e-06,  5.63452025e-01,  1.79454006e-07, -1.27229359e-01,\n",
       "          1.83760778e-05, -1.34071189e+00,  1.35367302e-05,  6.95011002e-02,\n",
       "          1.57077003e+00,  5.57106437e-06,  2.69212273e-06, -1.18550301e-01,\n",
       "          3.29297885e-05, -7.14566791e-01,  2.22855484e-05, -1.33514530e-02,\n",
       "          2.15608879e-05, -9.73202410e-06, -1.94107766e-05,  1.63363786e-05,\n",
       "          1.71698759e-05,  4.46230784e-06, -2.61348414e-05,  7.49714104e-06,\n",
       "         -2.61910307e-05,  2.07201234e-05, -3.54516785e-06,  2.66056585e+00,\n",
       "         -1.52069546e-05, -3.93517729e-06,  5.73112554e-06,  6.48118274e-02,\n",
       "         -6.20533557e-07, -2.49842803e-05, -1.71278704e-05, -8.00656045e-06,\n",
       "         -1.00797821e-05,  8.12598967e-01,  2.38843255e-05,  5.31090363e-02,\n",
       "          2.12924815e-05,  2.38501213e-05, -1.39499797e-05, -2.27021294e+00,\n",
       "          2.64192856e-05, -3.93702571e-01,  1.17556329e-05,  1.18140283e-01,\n",
       "         -4.06501041e-06, -1.46630948e-05,  3.73678555e-06, -4.61541230e-06,\n",
       "         -1.38950933e-05, -4.23832663e-07, -8.67887023e-06,  9.45184885e-06]),\n",
       "  'energy_total': -0.47845305621563694,\n",
       "  'circuit': <qiskit.circuit.quantumcircuit.QuantumCircuit at 0x7fdee0b1bf10>}]"
      ]
     },
     "execution_count": 1,
     "metadata": {},
     "output_type": "execute_result"
    }
   ],
   "source": [
    "from pyscf import gto\n",
    "from jqc import VQE, VQD\n",
    "from jqc.ansatz import fUCCSD, UCCSD, HEA\n",
    "\n",
    "mol = gto.M(atom='H 0 0 0; H 0 0 0.70', basis='sto-3g')\n",
    "vqd = VQD(mol, HEA(depth=7))\n",
    "vqd.nstates = 6\n",
    "\n",
    "vqd.run()\n",
    "vqd.profiles.show()"
   ]
  },
  {
   "cell_type": "code",
   "execution_count": 6,
   "metadata": {},
   "outputs": [
    {
     "name": "stdout",
     "output_type": "stream",
     "text": [
      "\n",
      "Starting VQD Calculation\n",
      "\n",
      "Ansatz: eUCCSD\n",
      "Simulator: StateVector\n",
      "Optimizer: COBYLA\n",
      "nstates: 5\n",
      "\n",
      "State 0:\n",
      "Iteration: 459, Converged!!         \n",
      "Total Energy: -1.150156825\n",
      "\n",
      "State 1:\n",
      "Iteration: 1001, Converged!!         \n",
      "Total Energy: -0.730772735\n",
      "\n",
      "State 2:\n",
      "Iteration: 1001, Converged!!         \n",
      "Total Energy: -0.572091243\n",
      "\n",
      "State 3:\n",
      "Iteration: 1001, Converged!!         \n",
      "Total Energy: -0.298539669\n",
      "\n",
      "State 4:\n",
      "Iteration: 1001, Converged!!         \n",
      "Total Energy: -0.089352313\n",
      "\n",
      "Final State Energies:\n",
      "State 0: -1.150156825\n",
      "State 1: -0.730772735\n",
      "State 2: -0.572091243\n",
      "State 3: -0.298539669\n",
      "State 4: -0.089352313\n",
      "\n",
      "Elapsed time: 0:50:02\n"
     ]
    },
    {
     "data": {
      "text/plain": [
       "[Singlet_0, Singlet_1, Singlet_2, Singlet_3, Singlet_4]"
      ]
     },
     "execution_count": 6,
     "metadata": {},
     "output_type": "execute_result"
    }
   ],
   "source": [
    "from pyscf import gto\n",
    "from jqc import VQE, VQD\n",
    "from jqc.ansatz import eUCCSD\n",
    "\n",
    "mol = gto.M(atom='H 0 0 0; H 0 0 0.70', basis='4-31g')\n",
    "vqd = VQD(mol, eUCCSD())\n",
    "vqd.nstates = 5\n",
    "vqd.optimizer = 'COBYLA'\n",
    "\n",
    "vqd.run()"
   ]
  },
  {
   "cell_type": "code",
   "execution_count": 2,
   "metadata": {},
   "outputs": [
    {
     "data": {
      "text/plain": [
       "[{'state': 0,\n",
       "  'spin': '0.00',\n",
       "  'num_orb': 4,\n",
       "  'num_elec': 2,\n",
       "  'coeff': array([-4.06341627e-14,  3.17523785e-14, -1.26112300e-02, -2.19278299e-04,\n",
       "          1.50990331e-14, -1.99840144e-15,  1.37904343e-01,  8.43769499e-15,\n",
       "          8.78280859e-02,  2.66453526e-15,  1.05243144e-01, -5.99520433e-15,\n",
       "          8.47186336e-02, -8.88178420e-16,  8.61452720e-02, -3.31666761e+00,\n",
       "          1.53613867e+00, -3.64206240e-01,  1.74927133e+00,  3.83586811e-02,\n",
       "          1.03477098e+00]),\n",
       "  'energy_elec': array(-1.90612418),\n",
       "  'energy_nucl': 0.7559674441714287,\n",
       "  'circuit': <qiskit.circuit.quantumcircuit.QuantumCircuit at 0x7f7138efc390>},\n",
       " {'state': 1,\n",
       "  'spin': '0.00',\n",
       "  'num_orb': 4,\n",
       "  'num_elec': 2,\n",
       "  'coeff': array([ 3.18311850e+00, -1.60131228e-02, -1.03892683e-02, -1.90642082e-01,\n",
       "         -3.13607283e+00, -4.54366539e-04, -3.14632299e+00,  6.28307425e+00,\n",
       "          1.90090577e-02,  2.86347832e-01,  1.28598614e-02,  3.33412323e+00,\n",
       "         -2.40912142e+00, -3.14924154e+00,  2.72519985e-01, -1.57121532e+00,\n",
       "         -1.53449182e+00, -1.56951631e+00,  1.57547412e+00,  1.14456561e+00,\n",
       "         -1.57166617e+00]),\n",
       "  'energy_elec': array(-1.47332998),\n",
       "  'energy_nucl': 0.7559674441714287,\n",
       "  'circuit': <qiskit.circuit.quantumcircuit.QuantumCircuit at 0x7f713433bcd0>},\n",
       " {'state': 2,\n",
       "  'spin': '0.00',\n",
       "  'num_orb': 4,\n",
       "  'num_elec': 2,\n",
       "  'coeff': array([-7.53979454e-02,  3.06088476e+00, -2.74856431e-01,  6.24185764e+00,\n",
       "          7.90200355e-02,  1.47823776e+00,  1.81071090e+00, -3.06103779e-01,\n",
       "         -1.94647127e+00, -1.63262531e+00, -1.33687322e-03,  2.58337621e+00,\n",
       "         -2.58514127e-01,  2.35809275e+00, -3.17673611e+00, -1.56894235e+00,\n",
       "         -2.08520711e+00, -1.48333054e+00,  1.09573694e+00,  5.50297170e-01,\n",
       "          9.57567713e-01]),\n",
       "  'energy_elec': array(-1.3309263),\n",
       "  'energy_nucl': 0.7559674441714287,\n",
       "  'circuit': <qiskit.circuit.quantumcircuit.QuantumCircuit at 0x7f7134288550>},\n",
       " {'state': 3,\n",
       "  'spin': '0.00',\n",
       "  'num_orb': 4,\n",
       "  'num_elec': 2,\n",
       "  'coeff': array([ 6.44036919e-03, -8.67804460e-02, -2.30967478e+00,  1.81646499e-01,\n",
       "          4.22476145e-01,  3.01626465e-03, -3.89087430e+00,  1.88680996e+00,\n",
       "          3.07997554e+00, -1.26647888e+00,  1.29566602e-01, -7.28410994e-02,\n",
       "          6.33176607e-01,  1.28192509e+00,  8.32219535e-01, -1.13640674e+00,\n",
       "          1.07616846e+00,  4.69247978e-01, -6.44961661e-01,  2.27500218e+00,\n",
       "          3.81571518e+00]),\n",
       "  'energy_elec': array(-0.81542791),\n",
       "  'energy_nucl': 0.7559674441714287,\n",
       "  'circuit': <qiskit.circuit.quantumcircuit.QuantumCircuit at 0x7f7138e5e510>},\n",
       " {'state': 4,\n",
       "  'spin': '0.00',\n",
       "  'num_orb': 4,\n",
       "  'num_elec': 2,\n",
       "  'coeff': array([-1.85281986,  2.2656521 , -2.85813219, -2.34364307, -2.988634  ,\n",
       "          0.00832826,  0.5135124 , -0.15773059,  1.39058559,  1.1934614 ,\n",
       "         -3.29239386,  5.30999528,  2.465335  ,  0.46933893, -5.90455011,\n",
       "         -2.09152615,  0.87440904, -5.14677015, -6.28314373, -1.99074918,\n",
       "          4.71970313]),\n",
       "  'energy_elec': array(-0.5550336),\n",
       "  'energy_nucl': 0.7559674441714287,\n",
       "  'circuit': <qiskit.circuit.quantumcircuit.QuantumCircuit at 0x7f7138f01fd0>}]"
      ]
     },
     "execution_count": 2,
     "metadata": {},
     "output_type": "execute_result"
    }
   ],
   "source": [
    "vqd.profile.show()"
   ]
  },
  {
   "cell_type": "markdown",
   "metadata": {},
   "source": [
    "**3. H2O sto-3g**"
   ]
  },
  {
   "cell_type": "code",
   "execution_count": 1,
   "metadata": {},
   "outputs": [
    {
     "name": "stdout",
     "output_type": "stream",
     "text": [
      "\n",
      "Starting VQD Calculation\n",
      "\n",
      "Ansatz: fUCCSD\n",
      "Simulator: StateVector\n",
      "Optimizer: powell\n",
      "nstates: 5\n",
      "\n",
      "State 0:\n",
      "Iteration: 424, Energy: -74.966659474\r"
     ]
    }
   ],
   "source": [
    "from pyscf import gto\n",
    "from jqc import VQE, VQD\n",
    "from jqc.ansatz import fUCCSD\n",
    "\n",
    "mol = gto.M(atom='O; H 1 0.957; H 1 0.957 2 104.5', basis='sto-3g')\n",
    "vqd = VQD(mol, fUCCSD())\n",
    "vqd.nstates = 5\n",
    "\n",
    "vqd.run()"
   ]
  }
 ],
 "metadata": {
  "kernelspec": {
   "display_name": "base",
   "language": "python",
   "name": "python3"
  },
  "language_info": {
   "codemirror_mode": {
    "name": "ipython",
    "version": 3
   },
   "file_extension": ".py",
   "mimetype": "text/x-python",
   "name": "python",
   "nbconvert_exporter": "python",
   "pygments_lexer": "ipython3",
   "version": "3.11.7"
  }
 },
 "nbformat": 4,
 "nbformat_minor": 2
}
