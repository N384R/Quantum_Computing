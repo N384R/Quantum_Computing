{
 "cells": [
  {
   "cell_type": "markdown",
   "metadata": {},
   "source": [
    "1-1-a. eUCCSD sto-3g"
   ]
  },
  {
   "cell_type": "code",
   "execution_count": 2,
   "metadata": {},
   "outputs": [
    {
     "name": "stdout",
     "output_type": "stream",
     "text": [
      "\n",
      "Starting VQD Calculation\n",
      "\n",
      "Ansatz: eUCCSD\n",
      "Simulator: StateVector\n",
      "Optimizer: powell\n",
      "nstates: 4\n",
      "\n",
      "State 0:\n",
      "Iteration: 130, Converged!!         \n",
      "Total Energy: -1.136189454\n",
      "\n",
      "State 1:\n",
      "Iteration: 92, Converged!!         \n",
      "Total Energy: -0.478453056\n",
      "\n",
      "State 2:\n",
      "Iteration: 138, Converged!!         \n",
      "Total Energy: -0.120451904\n",
      "\n",
      "State 3:\n",
      "Iteration: 134, Converged!!         \n",
      "Total Energy:  0.583314103\n",
      "\n",
      "Final State Energies:\n",
      "State 0: -1.136189454\n",
      "State 1: -0.478453056\n",
      "State 2: -0.120451904\n",
      "State 3:  0.583314103\n",
      "\n",
      "Elapsed time: 0:00:27\n"
     ]
    },
    {
     "data": {
      "text/plain": [
       "[Singlet_0, Singlet_1, Singlet_2, Singlet_3]"
      ]
     },
     "execution_count": 2,
     "metadata": {},
     "output_type": "execute_result"
    }
   ],
   "source": [
    "from pyscf import gto\n",
    "from jqc import VQE, VQD\n",
    "from jqc.ansatz import eUCCSD, UCCSD\n",
    "\n",
    "mol = gto.M(atom='H 0 0 0; H 0 0 0.70', basis='sto-3g')\n",
    "vqd = VQD(mol, eUCCSD())\n",
    "vqd.parallel = True\n",
    "vqd.nstates = 4\n",
    "\n",
    "vqd.run()"
   ]
  },
  {
   "cell_type": "markdown",
   "metadata": {},
   "source": [
    "1-1-b. UpCCGSD"
   ]
  },
  {
   "cell_type": "code",
   "execution_count": 1,
   "metadata": {},
   "outputs": [
    {
     "name": "stdout",
     "output_type": "stream",
     "text": [
      "\n",
      "Starting VQD Calculation\n",
      "\n",
      "Ansatz: UpCCGSD\n",
      "Simulator: StateVector\n",
      "Optimizer: powell\n",
      "nstates: 4\n",
      "\n",
      "State 0:\n",
      "Iteration: 130, Converged!!         \n",
      "Total Energy: -1.136189454\n",
      "\n",
      "State 1:\n",
      "Iteration: 92, Converged!!         \n",
      "Total Energy: -0.478453056\n",
      "\n",
      "State 2:\n",
      "Iteration: 138, Converged!!         \n",
      "Total Energy: -0.120451904\n",
      "\n",
      "State 3:\n",
      "Iteration: 134, Converged!!         \n",
      "Total Energy:  0.583314103\n",
      "\n",
      "Final State Energies:\n",
      "State 0: -1.136189454\n",
      "State 1: -0.478453056\n",
      "State 2: -0.120451904\n",
      "State 3:  0.583314103\n",
      "\n",
      "Elapsed time: 0:00:39\n"
     ]
    },
    {
     "data": {
      "text/plain": [
       "[Singlet_0, Singlet_1, Singlet_2, Singlet_3]"
      ]
     },
     "execution_count": 1,
     "metadata": {},
     "output_type": "execute_result"
    }
   ],
   "source": [
    "from pyscf import gto\n",
    "from jqc import VQE, VQD\n",
    "from jqc.ansatz import UpCCGSD, eUCCSD, UCCSD\n",
    "\n",
    "mol = gto.M(atom='H 0 0 0; H 0 0 0.70', basis='sto-3g')\n",
    "vqd = VQD(mol, UpCCGSD())\n",
    "vqd.parallel = True\n",
    "vqd.nstates = 4\n",
    "\n",
    "vqd.run()"
   ]
  },
  {
   "cell_type": "markdown",
   "metadata": {},
   "source": [
    "2-1-a. eUCCSD 4-31g"
   ]
  },
  {
   "cell_type": "code",
   "execution_count": 1,
   "metadata": {},
   "outputs": [
    {
     "name": "stdout",
     "output_type": "stream",
     "text": [
      "\n",
      "Starting VQD Calculation\n",
      "\n",
      "Ansatz: UpCCSD\n",
      "Simulator: StateVector\n",
      "Optimizer: powell\n",
      "nstates: 5\n",
      "\n",
      "State 0:\n",
      "Iteration: 434, Converged!!         \n",
      "Total Energy: -1.150156732\n",
      "\n",
      "State 1:\n",
      "Iteration: 898, Converged!!         \n",
      "Total Energy: -0.717362537\n",
      "\n",
      "State 2:\n",
      "Iteration: 1474, Converged!!         \n",
      "Total Energy: -0.574958853\n",
      "\n",
      "State 3:\n",
      "Iteration: 668, Converged!!         \n",
      "Total Energy: -0.059460469\n",
      "\n",
      "State 4:\n",
      "Iteration: 3894, Converged!!         \n",
      "Total Energy:  0.200933842\n",
      "\n",
      "Final State Energies:\n",
      "State 0: -1.150156732\n",
      "State 1: -0.717362537\n",
      "State 2: -0.574958853\n",
      "State 3: -0.059460469\n",
      "State 4:  0.200933842\n",
      "\n",
      "Elapsed time: 17:15:03\n"
     ]
    },
    {
     "data": {
      "text/plain": [
       "[Singlet_0, Singlet_1, Singlet_2, Singlet_3, Singlet_4]"
      ]
     },
     "execution_count": 1,
     "metadata": {},
     "output_type": "execute_result"
    }
   ],
   "source": [
    "from pyscf import gto\n",
    "from jqc import VQE, VQD\n",
    "from jqc.ansatz import UpCCGSD, eUCCSD\n",
    "\n",
    "mol = gto.M(atom='H 0 0 0; H 0 0 0.70', basis='4-31g')\n",
    "vqd = VQD(mol, eUCCSD())\n",
    "vqd.parallel = True\n",
    "vqd.nstates = 5\n",
    "\n",
    "vqd.run()"
   ]
  },
  {
   "cell_type": "code",
   "execution_count": 2,
   "metadata": {},
   "outputs": [
    {
     "data": {
      "text/plain": [
       "[{'state': 0,\n",
       "  'spin': '0.00',\n",
       "  'num_orb': 4,\n",
       "  'num_elec': 2,\n",
       "  'coeff': array([-4.06341627e-14,  3.17523785e-14, -1.26112300e-02, -2.19278299e-04,\n",
       "          1.50990331e-14, -1.99840144e-15,  1.37904343e-01,  8.43769499e-15,\n",
       "          8.78280859e-02,  2.66453526e-15,  1.05243144e-01, -5.99520433e-15,\n",
       "          8.47186336e-02, -8.88178420e-16,  8.61452720e-02, -3.31666761e+00,\n",
       "          1.53613867e+00, -3.64206240e-01,  1.74927133e+00,  3.83586811e-02,\n",
       "          1.03477098e+00]),\n",
       "  'energy_elec': array(-1.90612418),\n",
       "  'energy_nucl': 0.7559674441714287,\n",
       "  'circuit': <qiskit.circuit.quantumcircuit.QuantumCircuit at 0x7f7138efc390>},\n",
       " {'state': 1,\n",
       "  'spin': '0.00',\n",
       "  'num_orb': 4,\n",
       "  'num_elec': 2,\n",
       "  'coeff': array([ 3.18311850e+00, -1.60131228e-02, -1.03892683e-02, -1.90642082e-01,\n",
       "         -3.13607283e+00, -4.54366539e-04, -3.14632299e+00,  6.28307425e+00,\n",
       "          1.90090577e-02,  2.86347832e-01,  1.28598614e-02,  3.33412323e+00,\n",
       "         -2.40912142e+00, -3.14924154e+00,  2.72519985e-01, -1.57121532e+00,\n",
       "         -1.53449182e+00, -1.56951631e+00,  1.57547412e+00,  1.14456561e+00,\n",
       "         -1.57166617e+00]),\n",
       "  'energy_elec': array(-1.47332998),\n",
       "  'energy_nucl': 0.7559674441714287,\n",
       "  'circuit': <qiskit.circuit.quantumcircuit.QuantumCircuit at 0x7f713433bcd0>},\n",
       " {'state': 2,\n",
       "  'spin': '0.00',\n",
       "  'num_orb': 4,\n",
       "  'num_elec': 2,\n",
       "  'coeff': array([-7.53979454e-02,  3.06088476e+00, -2.74856431e-01,  6.24185764e+00,\n",
       "          7.90200355e-02,  1.47823776e+00,  1.81071090e+00, -3.06103779e-01,\n",
       "         -1.94647127e+00, -1.63262531e+00, -1.33687322e-03,  2.58337621e+00,\n",
       "         -2.58514127e-01,  2.35809275e+00, -3.17673611e+00, -1.56894235e+00,\n",
       "         -2.08520711e+00, -1.48333054e+00,  1.09573694e+00,  5.50297170e-01,\n",
       "          9.57567713e-01]),\n",
       "  'energy_elec': array(-1.3309263),\n",
       "  'energy_nucl': 0.7559674441714287,\n",
       "  'circuit': <qiskit.circuit.quantumcircuit.QuantumCircuit at 0x7f7134288550>},\n",
       " {'state': 3,\n",
       "  'spin': '0.00',\n",
       "  'num_orb': 4,\n",
       "  'num_elec': 2,\n",
       "  'coeff': array([ 6.44036919e-03, -8.67804460e-02, -2.30967478e+00,  1.81646499e-01,\n",
       "          4.22476145e-01,  3.01626465e-03, -3.89087430e+00,  1.88680996e+00,\n",
       "          3.07997554e+00, -1.26647888e+00,  1.29566602e-01, -7.28410994e-02,\n",
       "          6.33176607e-01,  1.28192509e+00,  8.32219535e-01, -1.13640674e+00,\n",
       "          1.07616846e+00,  4.69247978e-01, -6.44961661e-01,  2.27500218e+00,\n",
       "          3.81571518e+00]),\n",
       "  'energy_elec': array(-0.81542791),\n",
       "  'energy_nucl': 0.7559674441714287,\n",
       "  'circuit': <qiskit.circuit.quantumcircuit.QuantumCircuit at 0x7f7138e5e510>},\n",
       " {'state': 4,\n",
       "  'spin': '0.00',\n",
       "  'num_orb': 4,\n",
       "  'num_elec': 2,\n",
       "  'coeff': array([-1.85281986,  2.2656521 , -2.85813219, -2.34364307, -2.988634  ,\n",
       "          0.00832826,  0.5135124 , -0.15773059,  1.39058559,  1.1934614 ,\n",
       "         -3.29239386,  5.30999528,  2.465335  ,  0.46933893, -5.90455011,\n",
       "         -2.09152615,  0.87440904, -5.14677015, -6.28314373, -1.99074918,\n",
       "          4.71970313]),\n",
       "  'energy_elec': array(-0.5550336),\n",
       "  'energy_nucl': 0.7559674441714287,\n",
       "  'circuit': <qiskit.circuit.quantumcircuit.QuantumCircuit at 0x7f7138f01fd0>}]"
      ]
     },
     "execution_count": 2,
     "metadata": {},
     "output_type": "execute_result"
    }
   ],
   "source": [
    "vqd.profile.show()"
   ]
  },
  {
   "cell_type": "markdown",
   "metadata": {},
   "source": [
    "3. Test"
   ]
  },
  {
   "cell_type": "code",
   "execution_count": null,
   "metadata": {},
   "outputs": [],
   "source": []
  }
 ],
 "metadata": {
  "kernelspec": {
   "display_name": "base",
   "language": "python",
   "name": "python3"
  },
  "language_info": {
   "codemirror_mode": {
    "name": "ipython",
    "version": 3
   },
   "file_extension": ".py",
   "mimetype": "text/x-python",
   "name": "python",
   "nbconvert_exporter": "python",
   "pygments_lexer": "ipython3",
   "version": "3.11.7"
  }
 },
 "nbformat": 4,
 "nbformat_minor": 2
}
