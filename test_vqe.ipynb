{
 "cells": [
  {
   "cell_type": "markdown",
   "metadata": {},
   "source": [
    "**1-1. UCCSD sto-3g**"
   ]
  },
  {
   "cell_type": "code",
   "execution_count": 5,
   "metadata": {},
   "outputs": [
    {
     "name": "stdout",
     "output_type": "stream",
     "text": [
      "\n",
      "Starting VQE Calculation\n",
      "\n",
      "Ansatz: UCCSD\n",
      "Simulator: StateVector\n",
      "Optimizer: powell\n",
      "\n",
      "Iteration: 45, Converged!!                \n",
      "Total Energy: -1.136189454\n",
      "\n",
      "Elapsed time: 0:00:00\n"
     ]
    },
    {
     "data": {
      "text/plain": [
       "{'dipole_moment': [0, 0, 1.3228082871955276],\n",
       " 'hamiltonian': -1.892156898236844}"
      ]
     },
     "execution_count": 5,
     "metadata": {},
     "output_type": "execute_result"
    }
   ],
   "source": [
    "from pyscf import gto\n",
    "from jqc import VQE\n",
    "from jqc.ansatz import UCCSD, UCCGSD, fUCCSD\n",
    "from jqc.measure import dipole_moment\n",
    "\n",
    "mol = gto.M(atom='H 0 0 0; H 0 0 0.70', basis='sto-3g')\n",
    "vqe = VQE(mol, UCCSD())\n",
    "\n",
    "vqe.run()\n",
    "\n",
    "vqe.solve(dipole_moment)"
   ]
  },
  {
   "cell_type": "code",
   "execution_count": 2,
   "metadata": {},
   "outputs": [
    {
     "data": {
      "text/plain": [
       "{'state': 0,\n",
       " 'spin': '0.00',\n",
       " 'num_orb': 2,\n",
       " 'num_elec': 2,\n",
       " 'coeff': array([ 2.22044605e-16, -2.88657986e-15, -2.44249065e-15, -6.66133815e-16,\n",
       "        -2.09735637e-01,  3.25121840e+00]),\n",
       " 'energy_total': -1.1361894540654163,\n",
       " 'circuit': <qiskit.circuit.quantumcircuit.QuantumCircuit at 0x7fb8c983e390>}"
      ]
     },
     "execution_count": 2,
     "metadata": {},
     "output_type": "execute_result"
    }
   ],
   "source": [
    "vqe.profile.show()"
   ]
  },
  {
   "cell_type": "markdown",
   "metadata": {},
   "source": [
    "**1-1 H2O calculation**"
   ]
  },
  {
   "cell_type": "code",
   "execution_count": 3,
   "metadata": {},
   "outputs": [
    {
     "name": "stdout",
     "output_type": "stream",
     "text": [
      "\n",
      "Starting VQE Calculation\n",
      "\n",
      "Ansatz: UCCSD\n",
      "Simulator: StateVector\n",
      "Optimizer: powell\n",
      "\n",
      "Iteration: 1668, Converged!!                \n",
      "Total Energy: -75.011332705\n",
      "\n",
      "Elapsed time: 0:36:30\n"
     ]
    },
    {
     "data": {
      "text/plain": [
       "<jqc.vqe.vqe.VQE at 0x7f5d84f6c090>"
      ]
     },
     "execution_count": 3,
     "metadata": {},
     "output_type": "execute_result"
    }
   ],
   "source": [
    "from pyscf import gto\n",
    "from jqc import VQE\n",
    "from jqc.ansatz import UCCSD\n",
    "\n",
    "mol = gto.M(atom='O; H 1 0.957; H 1 0.957 2 104.5', basis='sto-3g')\n",
    "vqe = VQE(mol, UCCSD())\n",
    "\n",
    "vqe.run()"
   ]
  },
  {
   "cell_type": "code",
   "execution_count": 6,
   "metadata": {},
   "outputs": [
    {
     "data": {
      "text/plain": [
       "[0.970195432828667, 0.0, 1.253024764652772]"
      ]
     },
     "execution_count": 6,
     "metadata": {},
     "output_type": "execute_result"
    }
   ],
   "source": [
    "from jqc.measure import dipole_moment\n",
    "\n",
    "vqe.solve(dipole_moment)\n"
   ]
  },
  {
   "cell_type": "markdown",
   "metadata": {},
   "source": [
    "**1-2. HEA sto-3g (depth 4 is optimal)**"
   ]
  },
  {
   "cell_type": "code",
   "execution_count": 9,
   "metadata": {},
   "outputs": [
    {
     "name": "stdout",
     "output_type": "stream",
     "text": [
      "\n",
      "Starting VQE Calculation\n",
      "\n",
      "Ansatz: HEA\n",
      "Simulator: StateVector\n",
      "Optimizer: powell\n",
      "\n",
      "Iteration: 1590, Converged!!                \n",
      "Total Energy: -1.136189452\n",
      "\n",
      "Elapsed time: 0:00:05\n"
     ]
    },
    {
     "data": {
      "text/plain": [
       "{'state': 0,\n",
       " 'spin': '0.00',\n",
       " 'num_orb': 2,\n",
       " 'num_elec': 2,\n",
       " 'coeff': array([ 3.14166528e+00,  1.70978925e+00,  6.77813360e-12, -4.44975372e+00,\n",
       "        -1.53733354e-05, -2.47090101e+00,  3.14153330e+00,  1.75444031e-01,\n",
       "        -6.90037120e-08, -5.25084860e-01,  1.69642002e-13,  4.19660924e-01,\n",
       "        -4.95399275e-08, -2.54088445e+00, -2.40056003e-05, -1.39738572e+00,\n",
       "         2.09735637e-01, -2.25259403e+00, -8.45472764e-07, -1.93095450e+00,\n",
       "        -1.56289271e-06,  1.48319518e+00, -1.11486411e-05, -2.02794212e+00,\n",
       "         3.14164291e+00,  1.48322891e+00,  1.03213404e-11,  1.47192400e+00,\n",
       "        -1.28361873e-07,  1.29765091e+00,  7.99476547e-06, -2.72157884e+00]),\n",
       " 'energy_total': -1.136189452193329,\n",
       " 'circuit': <qiskit.circuit.quantumcircuit.QuantumCircuit at 0x7fd49cb414d0>}"
      ]
     },
     "execution_count": 9,
     "metadata": {},
     "output_type": "execute_result"
    }
   ],
   "source": [
    "from pyscf import gto\n",
    "from jqc import VQE\n",
    "from jqc.ansatz import UCCSD, HEA\n",
    "\n",
    "mol = gto.M(atom='H 0 0 0; H 0 0 0.70', basis='sto-3g')\n",
    "vqe = VQE(mol, HEA(depth=3))\n",
    "\n",
    "vqe.run()\n",
    "vqe.profile.show()"
   ]
  },
  {
   "cell_type": "markdown",
   "metadata": {},
   "source": [
    "1-3. SP sto-3g"
   ]
  },
  {
   "cell_type": "code",
   "execution_count": 8,
   "metadata": {},
   "outputs": [
    {
     "name": "stdout",
     "output_type": "stream",
     "text": [
      "\n",
      "Starting VQE Calculation\n",
      "\n",
      "Ansatz: SP\n",
      "Simulator: StateVector\n",
      "Optimizer: L-BFGS-B\n",
      "\n",
      "Iteration: 62, Converged!!                \n",
      "Total Energy: -1.117349035\n",
      "\n",
      "Elapsed time: 0:00:00\n"
     ]
    },
    {
     "data": {
      "text/plain": [
       "{'state': 0,\n",
       " 'spin': '0.00',\n",
       " 'num_orb': 2,\n",
       " 'num_elec': 2,\n",
       " 'coeff': array([0., 0., 0., 0., 0., 0., 0., 0., 0., 0., 0., 0., 0., 0., 0., 0., 0.,\n",
       "        0., 0., 0., 0., 0., 0., 0., 0., 0., 0., 0., 0., 0., 0., 0., 0., 0.,\n",
       "        0., 0., 0., 0., 0., 0., 0., 0., 0., 0., 0., 0., 0., 0., 0., 0., 0.,\n",
       "        0., 0., 0., 0., 0., 0., 0., 0., 0.]),\n",
       " 'energy_total': -1.117349034990279,\n",
       " 'circuit': <qiskit.circuit.quantumcircuit.QuantumCircuit at 0x7fd497d8add0>}"
      ]
     },
     "execution_count": 8,
     "metadata": {},
     "output_type": "execute_result"
    }
   ],
   "source": [
    "from pyscf import gto\n",
    "from jqc import VQE\n",
    "from jqc.ansatz import UCCSD, HEA, SP\n",
    "\n",
    "mol = gto.M(atom='H 0 0 0; H 0 0 0.70', basis='sto-3g')\n",
    "vqe = VQE(mol, SP(depth=2))\n",
    "\n",
    "vqe.run()\n",
    "vqe.profile.show()"
   ]
  },
  {
   "cell_type": "markdown",
   "metadata": {},
   "source": [
    "**2-1-a. UCCSD 4-31g**"
   ]
  },
  {
   "cell_type": "code",
   "execution_count": 1,
   "metadata": {},
   "outputs": [
    {
     "name": "stdout",
     "output_type": "stream",
     "text": [
      "\n",
      "Starting VQE Calculation\n",
      "\n",
      "Ansatz: UCCSD\n",
      "Simulator: StateVector\n",
      "Optimizer: powell\n",
      "\n",
      "Iteration: 219, Converged!!                \n",
      "Total Energy: -1.150156653\n",
      "\n",
      "Elapsed time: 0:00:13\n"
     ]
    },
    {
     "data": {
      "text/plain": [
       "<jqc.vqe.vqe.VQE at 0x7f5d7d93e690>"
      ]
     },
     "execution_count": 1,
     "metadata": {},
     "output_type": "execute_result"
    }
   ],
   "source": [
    "from pyscf import gto\n",
    "from jqc import VQE\n",
    "from jqc.ansatz import UCCSD\n",
    "\n",
    "mol = gto.M(atom='H 0 0 0; H 0 0 0.70', basis='4-31g')\n",
    "vqe = VQE(mol, UCCSD())\n",
    "\n",
    "vqe.run()"
   ]
  },
  {
   "cell_type": "code",
   "execution_count": 2,
   "metadata": {},
   "outputs": [
    {
     "name": "stdout",
     "output_type": "stream",
     "text": [
      "\n",
      "Starting VQE Calculation\n",
      "\n",
      "Ansatz: UCCSD\n",
      "Simulator: StateVector\n",
      "Optimizer: BFGS\n",
      "\n",
      "Iteration: 97, Converged!!                \n",
      "Total Energy: -1.150156830\n",
      "\n",
      "Elapsed time: 0:00:09\n"
     ]
    },
    {
     "data": {
      "text/plain": [
       "Singlet_0"
      ]
     },
     "execution_count": 2,
     "metadata": {},
     "output_type": "execute_result"
    }
   ],
   "source": [
    "from pyscf import gto\n",
    "from jqc import VQE\n",
    "from jqc.ansatz import UCCSD\n",
    "\n",
    "mol = gto.M(atom='H 0 0 0; H 0 0 0.70', basis='4-31g')\n",
    "vqe = VQE(mol, UCCSD())\n",
    "vqe.optimizer = 'BFGS'\n",
    "\n",
    "vqe.run()"
   ]
  },
  {
   "cell_type": "markdown",
   "metadata": {},
   "source": [
    "**2-1-b. UCCGSD 4-31g**"
   ]
  },
  {
   "cell_type": "code",
   "execution_count": null,
   "metadata": {},
   "outputs": [],
   "source": [
    "'병렬 계산 있음'\n",
    "from pyscf import gto\n",
    "from jqc import VQE\n",
    "from jqc.ansatz import kUpCCGSD, UCCGSD\n",
    "\n",
    "mol = gto.M(atom='H 0 0 0; H 0 0 0.70', basis='4-31g')\n",
    "vqe = VQE(mol, UCCGSD())\n",
    "vqe.parallel = True\n",
    "\n",
    "vqe.run()"
   ]
  },
  {
   "cell_type": "code",
   "execution_count": 1,
   "metadata": {},
   "outputs": [
    {
     "name": "stdout",
     "output_type": "stream",
     "text": [
      "\n",
      "Starting VQE Calculation\n",
      "\n",
      "Ansatz: UCCGSD\n",
      "Simulator: StateVector\n",
      "Optimizer: powell\n",
      "\n",
      "Iteration: 1342, Converged!!                \n",
      "Total Energy: -1.150156798\n",
      "\n",
      "Elapsed time: 0:07:13\n"
     ]
    },
    {
     "data": {
      "text/plain": [
       "Singlet_0"
      ]
     },
     "execution_count": 1,
     "metadata": {},
     "output_type": "execute_result"
    }
   ],
   "source": [
    "'병렬 계산 없음'\n",
    "from pyscf import gto\n",
    "from jqc import VQE\n",
    "from jqc.ansatz import kUpCCGSD, UCCGSD\n",
    "\n",
    "mol = gto.M(atom='H 0 0 0; H 0 0 0.70', basis='4-31g')\n",
    "vqe = VQE(mol, UCCGSD())\n",
    "\n",
    "vqe.run()"
   ]
  },
  {
   "cell_type": "code",
   "execution_count": 15,
   "metadata": {},
   "outputs": [
    {
     "name": "stdout",
     "output_type": "stream",
     "text": [
      "\n",
      "Starting VQE Calculation\n",
      "\n",
      "Ansatz: UCCGSD\n",
      "Simulator: StateVector\n",
      "Optimizer: L-BFGS-B\n",
      "\n",
      "Iteration: 919, Converged!!                \n",
      "Total Energy: -1.150156829\n",
      "\n",
      "Elapsed time: 0:05:53\n"
     ]
    },
    {
     "data": {
      "text/plain": [
       "Singlet_0"
      ]
     },
     "execution_count": 15,
     "metadata": {},
     "output_type": "execute_result"
    }
   ],
   "source": [
    "'병렬 계산 없음'\n",
    "from pyscf import gto\n",
    "from jqc import VQE\n",
    "from jqc.ansatz import kUpCCGSD, UCCGSD\n",
    "\n",
    "mol = gto.M(atom='H 0 0 0; H 0 0 0.70', basis='4-31g')\n",
    "vqe = VQE(mol, UCCGSD())\n",
    "vqe.optimizer = 'L-BFGS-B'\n",
    "\n",
    "vqe.run()"
   ]
  },
  {
   "cell_type": "markdown",
   "metadata": {},
   "source": [
    "**2-2 HEA 4-31g**"
   ]
  },
  {
   "cell_type": "code",
   "execution_count": 10,
   "metadata": {},
   "outputs": [
    {
     "name": "stdout",
     "output_type": "stream",
     "text": [
      "\n",
      "Starting VQE Calculation\n",
      "\n",
      "Ansatz: HEA\n",
      "Simulator: StateVector\n",
      "Optimizer: powell\n",
      "\n",
      "Iteration: 418, Energy: -0.701048739\r"
     ]
    }
   ],
   "source": [
    "from pyscf import gto\n",
    "from jqc import VQE\n",
    "from jqc.ansatz import UCCSD, HEA\n",
    "\n",
    "mol = gto.M(atom='H 0 0 0; H 0 0 0.70', basis='4-31g')\n",
    "vqe = VQE(mol, HEA(depth=20))\n",
    "\n",
    "vqe.run()\n",
    "vqe.profile.show()"
   ]
  },
  {
   "cell_type": "markdown",
   "metadata": {},
   "source": [
    "**3.1 UCCSD sto-3g, LiH**"
   ]
  },
  {
   "cell_type": "code",
   "execution_count": 1,
   "metadata": {},
   "outputs": [
    {
     "name": "stdout",
     "output_type": "stream",
     "text": [
      "\n",
      "Starting VQE Calculation\n",
      "\n",
      "Ansatz: UCCSD\n",
      "Simulator: StateVector\n",
      "Optimizer: powell\n",
      "\n",
      "Iteration: 141, Energy: -7.861971205\r"
     ]
    }
   ],
   "source": [
    "'병렬 있음'\n",
    "\n",
    "from pyscf import gto\n",
    "from jqc import VQE\n",
    "from jqc.ansatz import UCCSD\n",
    "\n",
    "mol = gto.M(atom='Li 0 0 0; H 0 0 1.60', basis='sto-3g')\n",
    "vqe = VQE(mol, UCCSD())\n",
    "vqe.parallel = True\n",
    "\n",
    "vqe.run()"
   ]
  },
  {
   "cell_type": "code",
   "execution_count": 1,
   "metadata": {},
   "outputs": [
    {
     "name": "stdout",
     "output_type": "stream",
     "text": [
      "\n",
      "Starting VQE Calculation\n",
      "\n",
      "Ansatz: UCCSD\n",
      "Simulator: StateVector\n",
      "Optimizer: powell\n",
      "\n",
      "Iteration: 1130, Converged!!                \n",
      "Total Energy: -7.882266098\n",
      "\n",
      "Elapsed time: 0:07:34\n"
     ]
    },
    {
     "data": {
      "text/plain": [
       "Singlet_0"
      ]
     },
     "execution_count": 1,
     "metadata": {},
     "output_type": "execute_result"
    }
   ],
   "source": [
    "'병렬 없음'\n",
    "\n",
    "from pyscf import gto\n",
    "from jqc import VQE\n",
    "from jqc.ansatz import UCCSD\n",
    "\n",
    "mol = gto.M(atom='Li 0 0 0; H 0 0 1.60', basis='sto-3g')\n",
    "vqe = VQE(mol, UCCSD())\n",
    "\n",
    "vqe.run()"
   ]
  },
  {
   "cell_type": "code",
   "execution_count": 1,
   "metadata": {},
   "outputs": [
    {
     "name": "stdout",
     "output_type": "stream",
     "text": [
      "\n",
      "Starting VQE Calculation\n",
      "\n",
      "Ansatz: UCCSD\n",
      "Simulator: StateVector\n",
      "Optimizer: powell\n",
      "\n",
      "Iteration: 199, Energy: -6.743559674\r"
     ]
    }
   ],
   "source": [
    "'L-BFGS-B'\n",
    "\n",
    "from pyscf import gto\n",
    "from jqc import VQE\n",
    "from jqc.ansatz import UCCSD\n",
    "\n",
    "mol = gto.M(atom='Li 0 0 0; H 0 0 1.60', basis='sto-3g')\n",
    "vqe = VQE(mol, UCCSD())\n",
    "vqe.optimizer = 'L-BFGS-B'\n",
    "\n",
    "vqe.run()\n"
   ]
  },
  {
   "cell_type": "markdown",
   "metadata": {},
   "source": [
    "**4. BFGS 사용**"
   ]
  },
  {
   "cell_type": "code",
   "execution_count": null,
   "metadata": {},
   "outputs": [],
   "source": [
    "from pyscf import gto\n",
    "from scipy import optimize as opt\n",
    "from jqc import VQE\n",
    "from jqc.ansatz import UCCSD\n",
    "\n",
    "class UCCSD_bfgs(UCCSD):\n",
    "    @staticmethod\n",
    "    def call_optimizer(func, coeff, method) -> opt.OptimizeResult:\n",
    "        return opt.minimize(func, coeff, method='BFGS')\n",
    "    \n",
    "    def generate_coeff(self, profile, coeff=0):\n",
    "        return super().generate_coeff(profile, coeff=coeff)\n",
    "\n",
    "mol = gto.M(atom='H 0 0 0; H 0 0 0.70', basis='sto-3g')\n",
    "vqe = VQE(mol, UCCSD_bfgs())\n",
    "\n",
    "vqe.run()"
   ]
  },
  {
   "cell_type": "markdown",
   "metadata": {},
   "source": [
    "**5. LiH 4-31g**"
   ]
  },
  {
   "cell_type": "code",
   "execution_count": 1,
   "metadata": {},
   "outputs": [
    {
     "name": "stdout",
     "output_type": "stream",
     "text": [
      "\n",
      "Starting VQE Calculation\n",
      "\n",
      "Ansatz: UCCSD\n",
      "Simulator: StateVector\n",
      "Optimizer: powell\n",
      "\n",
      "2640/8758: 2, Energy: -6.971884517\r"
     ]
    }
   ],
   "source": [
    "from pyscf import gto\n",
    "from jqc import VQE\n",
    "from jqc.ansatz import UCCSD\n",
    "\n",
    "mol = gto.M(atom='Li 0 0 0; H 0 0 1.60', basis='4-31g')\n",
    "vqe = VQE(mol, UCCSD())\n",
    "# vqe.parallel = True\n",
    "\n",
    "vqe.run()"
   ]
  },
  {
   "cell_type": "markdown",
   "metadata": {},
   "source": [
    "**6. BeH2 sto-3g**"
   ]
  },
  {
   "cell_type": "code",
   "execution_count": 2,
   "metadata": {},
   "outputs": [
    {
     "name": "stdout",
     "output_type": "stream",
     "text": [
      "\n",
      "Starting VQE Calculation\n",
      "\n",
      "Ansatz: UCCSD\n",
      "Simulator: StateVector\n",
      "Optimizer: powell\n",
      "\n",
      "Iteration: 2212, Converged!!                \n",
      "Total Energy: -15.553561886\n",
      "\n",
      "Elapsed time: 1:21:01\n"
     ]
    },
    {
     "data": {
      "text/plain": [
       "Singlet_0"
      ]
     },
     "execution_count": 2,
     "metadata": {},
     "output_type": "execute_result"
    }
   ],
   "source": [
    "from pyscf import gto\n",
    "from jqc import VQE\n",
    "from jqc.ansatz import UCCSD\n",
    "\n",
    "mol = gto.M(atom='Be 0 0 0; H 0 0 1.60; H 0 0 -1.60', basis='sto-3g')\n",
    "vqe = VQE(mol, UCCSD())\n",
    "\n",
    "vqe.run()"
   ]
  },
  {
   "cell_type": "code",
   "execution_count": 1,
   "metadata": {},
   "outputs": [
    {
     "name": "stdout",
     "output_type": "stream",
     "text": [
      "\n",
      "Starting VQE Calculation\n",
      "\n",
      "Ansatz: UCCSD\n",
      "Simulator: StateVector\n",
      "Optimizer: powell\n",
      "\n",
      "Iteration: 744, Energy: -15.517629349\r"
     ]
    }
   ],
   "source": [
    "from pyscf import gto\n",
    "from jqc import VQE\n",
    "from jqc.ansatz import UCCSD\n",
    "\n",
    "mol = gto.M(atom='Be 0 0 0; H 0 0 1.60; H 0 0 -1.60', basis='sto-3g')\n",
    "vqe = VQE(mol, UCCSD())\n",
    "vqe.parallel = True\n",
    "\n",
    "vqe.run()"
   ]
  },
  {
   "cell_type": "code",
   "execution_count": null,
   "metadata": {},
   "outputs": [],
   "source": [
    "'L-BFGS-B 95분 넘게 안끝남'\n",
    "\n",
    "from pyscf import gto\n",
    "from jqc import VQE\n",
    "from jqc.ansatz import UCCSD\n",
    "\n",
    "mol = gto.M(atom='Be 0 0 0; H 0 0 1.60; H 0 0 -1.60', basis='sto-3g')\n",
    "vqe = VQE(mol, UCCSD())\n",
    "vqe.optimizer = 'L-BFGS-B'\n",
    "\n",
    "vqe.run()"
   ]
  }
 ],
 "metadata": {
  "kernelspec": {
   "display_name": "base",
   "language": "python",
   "name": "python3"
  },
  "language_info": {
   "codemirror_mode": {
    "name": "ipython",
    "version": 3
   },
   "file_extension": ".py",
   "mimetype": "text/x-python",
   "name": "python",
   "nbconvert_exporter": "python",
   "pygments_lexer": "ipython3",
   "version": "3.11.7"
  }
 },
 "nbformat": 4,
 "nbformat_minor": 2
}
