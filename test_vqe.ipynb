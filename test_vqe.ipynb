{
 "cells": [
  {
   "cell_type": "markdown",
   "metadata": {},
   "source": [
    "**1-1. UCCSD sto-3g**"
   ]
  },
  {
   "cell_type": "code",
   "execution_count": 1,
   "metadata": {},
   "outputs": [
    {
     "name": "stdout",
     "output_type": "stream",
     "text": [
      "\n",
      "Starting VQE Calculation\n",
      "\n",
      "Ansatz: UCCSD\n",
      "Simulator: StateVector\n",
      "Optimizer: powell\n",
      "\n",
      "Iteration: 45, Converged!!                \n",
      "Total Energy: -1.136189454\n",
      "\n",
      "Elapsed time: 0:00:00\n"
     ]
    },
    {
     "data": {
      "text/plain": [
       "Singlet_0"
      ]
     },
     "execution_count": 1,
     "metadata": {},
     "output_type": "execute_result"
    }
   ],
   "source": [
    "from pyscf import gto\n",
    "from jqc import VQE\n",
    "from jqc.ansatz import UCCSD\n",
    "\n",
    "mol = gto.M(atom='H 0 0 0; H 0 0 0.70', basis='sto-3g')\n",
    "vqe = VQE(mol, UCCSD())\n",
    "\n",
    "vqe.run()"
   ]
  },
  {
   "cell_type": "markdown",
   "metadata": {},
   "source": [
    "**1-2. HEA sto-3g (depth 4 is optimal)**"
   ]
  },
  {
   "cell_type": "code",
   "execution_count": 1,
   "metadata": {},
   "outputs": [
    {
     "name": "stdout",
     "output_type": "stream",
     "text": [
      "\n",
      "Starting VQE Calculation\n",
      "\n",
      "Ansatz: HEA\n",
      "Simulator: StateVector\n",
      "Optimizer: powell\n",
      "\n",
      "Iteration: 1555, Converged!!                \n",
      "Total Energy: -1.136189452\n",
      "\n",
      "Elapsed time: 0:00:13\n"
     ]
    },
    {
     "data": {
      "text/plain": [
       "Singlet_0"
      ]
     },
     "execution_count": 1,
     "metadata": {},
     "output_type": "execute_result"
    }
   ],
   "source": [
    "from pyscf import gto\n",
    "from jqc import VQE\n",
    "from jqc.ansatz import UCCSD, HEA\n",
    "\n",
    "mol = gto.M(atom='H 0 0 0; H 0 0 0.70', basis='sto-3g')\n",
    "vqe = VQE(mol, HEA(depth=3))\n",
    "\n",
    "vqe.run()"
   ]
  },
  {
   "cell_type": "markdown",
   "metadata": {},
   "source": [
    "1-3. SP sto-3g"
   ]
  },
  {
   "cell_type": "code",
   "execution_count": 3,
   "metadata": {},
   "outputs": [
    {
     "name": "stdout",
     "output_type": "stream",
     "text": [
      "\n",
      "Starting VQE Calculation\n",
      "\n",
      "Ansatz: SP\n",
      "Simulator: StateVector\n",
      "Optimizer: powell\n",
      "\n",
      "Iteration: 162, Converged!!                \n",
      "Total Energy: -1.117349035\n",
      "\n",
      "Elapsed time: 0:00:08\n"
     ]
    },
    {
     "data": {
      "text/plain": [
       "Singlet_0"
      ]
     },
     "execution_count": 3,
     "metadata": {},
     "output_type": "execute_result"
    }
   ],
   "source": [
    "from pyscf import gto\n",
    "from jqc import VQE\n",
    "from jqc.ansatz import UCCSD, HEA, SP\n",
    "\n",
    "mol = gto.M(atom='H 0 0 0; H 0 0 0.70', basis='sto-3g')\n",
    "vqe = VQE(mol, SP(depth=2))\n",
    "vqe.parallel = True\n",
    "\n",
    "vqe.run()\n"
   ]
  },
  {
   "cell_type": "markdown",
   "metadata": {},
   "source": [
    "**2-1-a. UCCSD 4-31g**"
   ]
  },
  {
   "cell_type": "code",
   "execution_count": 2,
   "metadata": {},
   "outputs": [
    {
     "name": "stdout",
     "output_type": "stream",
     "text": [
      "\n",
      "Starting VQE Calculation\n",
      "\n",
      "Ansatz: UCCSD\n",
      "Simulator: StateVector\n",
      "Optimizer: powell\n",
      "\n",
      "Iteration: 219, Converged!!                \n",
      "Total Energy: -1.150156653\n",
      "\n",
      "Elapsed time: 0:00:19\n"
     ]
    },
    {
     "data": {
      "text/plain": [
       "Singlet_0"
      ]
     },
     "execution_count": 2,
     "metadata": {},
     "output_type": "execute_result"
    }
   ],
   "source": [
    "from pyscf import gto\n",
    "from jqc import VQE\n",
    "from jqc.ansatz import UCCSD\n",
    "\n",
    "mol = gto.M(atom='H 0 0 0; H 0 0 0.70', basis='4-31g')\n",
    "vqe = VQE(mol, UCCSD())\n",
    "\n",
    "vqe.run()"
   ]
  },
  {
   "cell_type": "markdown",
   "metadata": {},
   "source": [
    "**2-1-b. UCCGSD 4-31g**"
   ]
  },
  {
   "cell_type": "code",
   "execution_count": 1,
   "metadata": {},
   "outputs": [
    {
     "name": "stdout",
     "output_type": "stream",
     "text": [
      "\n",
      "Starting VQE Calculation\n",
      "\n",
      "Ansatz: UCCGSD\n",
      "Simulator: StateVector\n",
      "Optimizer: powell\n",
      "\n",
      "Iteration: 536, Energy: -1.150144249\r"
     ]
    }
   ],
   "source": [
    "'병렬 계산 있음'\n",
    "from pyscf import gto\n",
    "from jqc import VQE\n",
    "from jqc.ansatz import kUpCCGSD, UCCGSD\n",
    "\n",
    "mol = gto.M(atom='H 0 0 0; H 0 0 0.70', basis='4-31g')\n",
    "vqe = VQE(mol, UCCGSD())\n",
    "# vqe.parallel = True\n",
    "\n",
    "vqe.run()"
   ]
  },
  {
   "cell_type": "code",
   "execution_count": 1,
   "metadata": {},
   "outputs": [
    {
     "name": "stdout",
     "output_type": "stream",
     "text": [
      "\n",
      "Starting VQE Calculation\n",
      "\n",
      "Ansatz: UCCGSD\n",
      "Simulator: StateVector\n",
      "Optimizer: powell\n",
      "\n",
      "Iteration: 1316, Converged!!                \n",
      "Total Energy: -1.150156798\n",
      "\n",
      "Elapsed time: 0:07:37\n"
     ]
    },
    {
     "data": {
      "text/plain": [
       "Singlet_0"
      ]
     },
     "execution_count": 1,
     "metadata": {},
     "output_type": "execute_result"
    }
   ],
   "source": [
    "'병렬 계산 없음'\n",
    "from pyscf import gto\n",
    "from jqc import VQE\n",
    "from jqc.ansatz import kUpCCGSD, UCCGSD\n",
    "\n",
    "mol = gto.M(atom='H 0 0 0; H 0 0 0.70', basis='4-31g')\n",
    "vqe = VQE(mol, UCCGSD())\n",
    "vqe.parallel = False\n",
    "\n",
    "vqe.run()"
   ]
  },
  {
   "cell_type": "markdown",
   "metadata": {},
   "source": [
    "**3.1 UCCSD sto-3g, LiH**"
   ]
  },
  {
   "cell_type": "code",
   "execution_count": 1,
   "metadata": {},
   "outputs": [
    {
     "name": "stdout",
     "output_type": "stream",
     "text": [
      "\n",
      "Starting VQE Calculation\n",
      "\n",
      "Ansatz: UCCSD\n",
      "Simulator: StateVector\n",
      "Optimizer: powell\n",
      "\n",
      "       Iteration: 445, Energy: -7.235522132\r"
     ]
    }
   ],
   "source": [
    "'병렬 있음'\n",
    "\n",
    "from pyscf import gto\n",
    "from jqc import VQE\n",
    "from jqc.ansatz import UCCSD\n",
    "\n",
    "mol = gto.M(atom='Li 0 0 0; H 0 0 1.60', basis='sto-3g')\n",
    "vqe = VQE(mol, UCCSD())\n",
    "vqe.parallel = True\n",
    "\n",
    "vqe.run()"
   ]
  },
  {
   "cell_type": "code",
   "execution_count": 1,
   "metadata": {},
   "outputs": [
    {
     "name": "stdout",
     "output_type": "stream",
     "text": [
      "\n",
      "Starting VQE Calculation\n",
      "\n",
      "Ansatz: UCCSD\n",
      "Simulator: StateVector\n",
      "Optimizer: powell\n",
      "\n",
      "[0.+0.j 0.+0.j 0.+0.j ... 0.+0.j 0.+0.j 0.+0.j]\n",
      "Iteration: 1, Energy: -7.861864770\r"
     ]
    }
   ],
   "source": [
    "'병렬 없음'\n",
    "\n",
    "from pyscf import gto\n",
    "from jqc import VQE\n",
    "from jqc.ansatz import UCCSD\n",
    "\n",
    "mol = gto.M(atom='Li 0 0 0; H 0 0 1.60', basis='sto-3g')\n",
    "vqe = VQE(mol, UCCSD())\n",
    "\n",
    "vqe.run()"
   ]
  },
  {
   "cell_type": "code",
   "execution_count": null,
   "metadata": {},
   "outputs": [
    {
     "name": "stdout",
     "output_type": "stream",
     "text": [
      "\n",
      "Starting VQE Calculation\n",
      "\n",
      "Ansatz: UCCSD\n",
      "Simulator: StateVector\n",
      "Optimizer: COBYLA\n",
      "\n",
      "Iteration: 1001, Converged!!         \n",
      "Total Energy: -7.881496876\n",
      "\n",
      "Elapsed time: 1:11:13\n"
     ]
    },
    {
     "data": {
      "text/plain": [
       "Singlet_0"
      ]
     },
     "execution_count": 21,
     "metadata": {},
     "output_type": "execute_result"
    }
   ],
   "source": [
    "'COBYLA'\n",
    "\n",
    "from pyscf import gto\n",
    "from jqc import VQE\n",
    "from jqc.ansatz import UCCSD\n",
    "\n",
    "mol = gto.M(atom='Li 0 0 0; H 0 0 1.60', basis='sto-3g')\n",
    "vqe = VQE(mol, UCCSD())\n",
    "vqe.optimizer = 'COBYLA'\n",
    "\n",
    "vqe.run()"
   ]
  },
  {
   "cell_type": "markdown",
   "metadata": {},
   "source": [
    "**4. BFGS 사용**"
   ]
  },
  {
   "cell_type": "code",
   "execution_count": null,
   "metadata": {},
   "outputs": [],
   "source": [
    "from pyscf import gto\n",
    "from scipy import optimize as opt\n",
    "from jqc import VQE\n",
    "from jqc.ansatz import UCCSD\n",
    "\n",
    "class UCCSD_bfgs(UCCSD):\n",
    "    @staticmethod\n",
    "    def call_optimizer(func, coeff, method) -> opt.OptimizeResult:\n",
    "        return opt.minimize(func, coeff, method='BFGS')\n",
    "    \n",
    "    def generate_coeff(self, profile, coeff=0):\n",
    "        return super().generate_coeff(profile, coeff=coeff)\n",
    "\n",
    "mol = gto.M(atom='H 0 0 0; H 0 0 0.70', basis='sto-3g')\n",
    "vqe = VQE(mol, UCCSD_bfgs())\n",
    "\n",
    "vqe.run()"
   ]
  },
  {
   "cell_type": "markdown",
   "metadata": {},
   "source": [
    "**5. LiH 4-31g**"
   ]
  },
  {
   "cell_type": "code",
   "execution_count": 1,
   "metadata": {},
   "outputs": [
    {
     "name": "stdout",
     "output_type": "stream",
     "text": [
      "\n",
      "Starting VQE Calculation\n",
      "\n",
      "Ansatz: UCCSD\n",
      "Simulator: StateVector\n",
      "Optimizer: powell\n",
      "\n"
     ]
    }
   ],
   "source": [
    "from pyscf import gto\n",
    "from jqc import VQE\n",
    "from jqc.ansatz import UCCSD\n",
    "\n",
    "mol = gto.M(atom='Li 0 0 0; H 0 0 1.60', basis='4-31g')\n",
    "vqe = VQE(mol, UCCSD())\n",
    "vqe.parallel = True\n",
    "\n",
    "vqe.run()"
   ]
  }
 ],
 "metadata": {
  "kernelspec": {
   "display_name": "base",
   "language": "python",
   "name": "python3"
  },
  "language_info": {
   "codemirror_mode": {
    "name": "ipython",
    "version": 3
   },
   "file_extension": ".py",
   "mimetype": "text/x-python",
   "name": "python",
   "nbconvert_exporter": "python",
   "pygments_lexer": "ipython3",
   "version": "3.11.7"
  }
 },
 "nbformat": 4,
 "nbformat_minor": 2
}
