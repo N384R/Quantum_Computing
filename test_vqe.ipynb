{
 "cells": [
  {
   "cell_type": "markdown",
   "metadata": {},
   "source": [
    "**1-1. UCCSD sto-3g**"
   ]
  },
  {
   "cell_type": "code",
   "execution_count": 1,
   "metadata": {},
   "outputs": [
    {
     "name": "stdout",
     "output_type": "stream",
     "text": [
      "\n",
      "Starting VQE Calculation\n",
      "\n",
      "Ansatz: UCCSD\n",
      "Simulator: StateVector\n",
      "Optimizer: powell\n",
      "\n",
      "Iteration: 45, Converged!!         \n",
      "Total Energy: -1.136189454\n",
      "\n",
      "Elapsed time: 0:00:00\n"
     ]
    },
    {
     "data": {
      "text/plain": [
       "Singlet_0"
      ]
     },
     "execution_count": 1,
     "metadata": {},
     "output_type": "execute_result"
    }
   ],
   "source": [
    "from pyscf import gto\n",
    "from jqc import VQE\n",
    "from jqc.ansatz import UCCSD\n",
    "\n",
    "mol = gto.M(atom='H 0 0 0; H 0 0 0.70', basis='sto-3g')\n",
    "vqe = VQE(mol, UCCSD())\n",
    "\n",
    "vqe.run()"
   ]
  },
  {
   "cell_type": "markdown",
   "metadata": {},
   "source": [
    "**1-2. HEA sto-3g (depth 4 is optimal)**"
   ]
  },
  {
   "cell_type": "code",
   "execution_count": 2,
   "metadata": {},
   "outputs": [
    {
     "name": "stdout",
     "output_type": "stream",
     "text": [
      "\n",
      "Starting VQE Calculation\n",
      "\n",
      "Ansatz: HEA\n",
      "Simulator: StateVector\n",
      "Optimizer: powell\n",
      "\n",
      "Iteration: 1630, Converged!!         \n",
      "Total Energy: -3.028346352\n",
      "\n",
      "Elapsed time: 0:00:08\n"
     ]
    },
    {
     "data": {
      "text/plain": [
       "Singlet_0"
      ]
     },
     "execution_count": 2,
     "metadata": {},
     "output_type": "execute_result"
    }
   ],
   "source": [
    "from pyscf import gto\n",
    "from jqc import VQE\n",
    "from jqc.ansatz import UCCSD, HEA\n",
    "\n",
    "mol = gto.M(atom='H 0 0 0; H 0 0 0.70', basis='sto-3g')\n",
    "vqe = VQE(mol, HEA(depth=3))\n",
    "\n",
    "vqe.run()"
   ]
  },
  {
   "cell_type": "markdown",
   "metadata": {},
   "source": [
    "1-3. SP sto-3g"
   ]
  },
  {
   "cell_type": "code",
   "execution_count": 3,
   "metadata": {},
   "outputs": [
    {
     "name": "stdout",
     "output_type": "stream",
     "text": [
      "\n",
      "Starting VQE Calculation\n",
      "\n",
      "Ansatz: SP\n",
      "Simulator: StateVector\n",
      "Optimizer: powell\n",
      "\n",
      "Iteration: 1993, Converged!!         \n",
      "Total Energy: -3.025639519\n",
      "\n",
      "Elapsed time: 0:01:10\n"
     ]
    },
    {
     "data": {
      "text/plain": [
       "Singlet_0"
      ]
     },
     "execution_count": 3,
     "metadata": {},
     "output_type": "execute_result"
    }
   ],
   "source": [
    "from pyscf import gto\n",
    "from jqc import VQE\n",
    "from jqc.ansatz import UCCSD, HEA, SP\n",
    "\n",
    "mol = gto.M(atom='H 0 0 0; H 0 0 0.70', basis='sto-3g')\n",
    "vqe = VQE(mol, SP(depth=5))\n",
    "vqe.parallel = True\n",
    "\n",
    "vqe.run()\n"
   ]
  },
  {
   "cell_type": "markdown",
   "metadata": {},
   "source": [
    "**2-1-a. UCCSD 4-31g**"
   ]
  },
  {
   "cell_type": "code",
   "execution_count": 4,
   "metadata": {},
   "outputs": [
    {
     "name": "stdout",
     "output_type": "stream",
     "text": [
      "\n",
      "Starting VQE Calculation\n",
      "\n",
      "Ansatz: UCCSD\n",
      "Simulator: StateVector\n",
      "Optimizer: powell\n",
      "\n",
      "Iteration: 219, Converged!!         \n",
      "Total Energy: -1.150156653\n",
      "\n",
      "Elapsed time: 0:00:19\n"
     ]
    },
    {
     "data": {
      "text/plain": [
       "Singlet_0"
      ]
     },
     "execution_count": 4,
     "metadata": {},
     "output_type": "execute_result"
    }
   ],
   "source": [
    "from pyscf import gto\n",
    "from jqc import VQE\n",
    "from jqc.ansatz import UCCSD\n",
    "\n",
    "mol = gto.M(atom='H 0 0 0; H 0 0 0.70', basis='4-31g')\n",
    "vqe = VQE(mol, UCCSD())\n",
    "\n",
    "vqe.run()"
   ]
  },
  {
   "cell_type": "markdown",
   "metadata": {},
   "source": [
    "**2-1-b. UCCGSD 4-31g**"
   ]
  },
  {
   "cell_type": "code",
   "execution_count": 1,
   "metadata": {},
   "outputs": [
    {
     "name": "stdout",
     "output_type": "stream",
     "text": [
      "\n",
      "Starting VQE Calculation\n",
      "\n",
      "Ansatz: UCCGSD\n",
      "Simulator: StateVector\n",
      "Optimizer: powell\n",
      "\n",
      "Iteration: 1274, Converged!!         \n",
      "Total Energy: -1.150156798\n",
      "\n",
      "Elapsed time: 0:04:59\n"
     ]
    },
    {
     "data": {
      "text/plain": [
       "Singlet_0"
      ]
     },
     "execution_count": 1,
     "metadata": {},
     "output_type": "execute_result"
    }
   ],
   "source": [
    "'병렬 계산 있음'\n",
    "from pyscf import gto\n",
    "from jqc import VQE\n",
    "from jqc.ansatz import kUpCCGSD, UCCGSD\n",
    "\n",
    "mol = gto.M(atom='H 0 0 0; H 0 0 0.70', basis='4-31g')\n",
    "vqe = VQE(mol, UCCGSD())\n",
    "vqe.parallel = True\n",
    "\n",
    "vqe.run()"
   ]
  },
  {
   "cell_type": "code",
   "execution_count": 4,
   "metadata": {},
   "outputs": [
    {
     "name": "stdout",
     "output_type": "stream",
     "text": [
      "\n",
      "Starting VQE Calculation\n",
      "\n",
      "Ansatz: UCCGSD\n",
      "Simulator: StateVector\n",
      "Optimizer: powell\n",
      "\n",
      "Iteration: 1251, Converged!!         \n",
      "Total Energy: -1.150156798\n",
      "\n",
      "Elapsed time: 0:03:58\n"
     ]
    },
    {
     "data": {
      "text/plain": [
       "Singlet_0"
      ]
     },
     "execution_count": 4,
     "metadata": {},
     "output_type": "execute_result"
    }
   ],
   "source": [
    "'병렬 계산 없음'\n",
    "from pyscf import gto\n",
    "from jqc import VQE\n",
    "from jqc.ansatz import kUpCCGSD, UCCGSD\n",
    "\n",
    "mol = gto.M(atom='H 0 0 0; H 0 0 0.70', basis='4-31g')\n",
    "vqe = VQE(mol, UCCGSD())\n",
    "vqe.parallel = False\n",
    "\n",
    "vqe.run()"
   ]
  },
  {
   "cell_type": "markdown",
   "metadata": {},
   "source": [
    "**3.1 UCCSD sto-3g, LiH**"
   ]
  },
  {
   "cell_type": "code",
   "execution_count": 1,
   "metadata": {},
   "outputs": [
    {
     "name": "stdout",
     "output_type": "stream",
     "text": [
      "\n",
      "Starting VQE Calculation\n",
      "\n",
      "Ansatz: UCCSD\n",
      "Simulator: StateVector\n",
      "Optimizer: powell\n",
      "\n",
      "Iteration: 1134, Converged!!         \n",
      "Total Energy: -7.882266062\n",
      "\n",
      "Elapsed time: 0:53:25\n"
     ]
    },
    {
     "data": {
      "text/plain": [
       "Singlet_0"
      ]
     },
     "execution_count": 1,
     "metadata": {},
     "output_type": "execute_result"
    }
   ],
   "source": [
    "'병렬 있음'\n",
    "\n",
    "from pyscf import gto\n",
    "from jqc import VQE\n",
    "from jqc.ansatz import UCCSD\n",
    "\n",
    "mol = gto.M(atom='Li 0 0 0; H 0 0 1.60', basis='sto-3g')\n",
    "vqe = VQE(mol, UCCSD())\n",
    "vqe.parallel = True\n",
    "\n",
    "vqe.run()"
   ]
  },
  {
   "cell_type": "code",
   "execution_count": 2,
   "metadata": {},
   "outputs": [
    {
     "name": "stdout",
     "output_type": "stream",
     "text": [
      "\n",
      "Starting VQE Calculation\n",
      "\n",
      "Ansatz: UCCSD\n",
      "Simulator: StateVector\n",
      "Optimizer: powell\n",
      "\n",
      "Iteration: 1134, Converged!!         \n",
      "Total Energy: -7.882266062\n",
      "\n",
      "Elapsed time: 0:58:57\n"
     ]
    },
    {
     "data": {
      "text/plain": [
       "Singlet_0"
      ]
     },
     "execution_count": 2,
     "metadata": {},
     "output_type": "execute_result"
    }
   ],
   "source": [
    "'병렬 없음'\n",
    "\n",
    "from pyscf import gto\n",
    "from jqc import VQE\n",
    "from jqc.ansatz import UCCSD\n",
    "\n",
    "mol = gto.M(atom='Li 0 0 0; H 0 0 1.60', basis='sto-3g')\n",
    "vqe = VQE(mol, UCCSD())\n",
    "\n",
    "vqe.run()"
   ]
  },
  {
   "cell_type": "code",
   "execution_count": 21,
   "metadata": {},
   "outputs": [
    {
     "name": "stdout",
     "output_type": "stream",
     "text": [
      "\n",
      "Starting VQE Calculation\n",
      "\n",
      "Ansatz: UCCSD\n",
      "Simulator: StateVector\n",
      "Optimizer: COBYLA\n",
      "\n",
      "Iteration: 1001, Converged!!         \n",
      "Total Energy: -7.881496876\n",
      "\n",
      "Elapsed time: 1:11:13\n"
     ]
    },
    {
     "data": {
      "text/plain": [
       "Singlet_0"
      ]
     },
     "execution_count": 21,
     "metadata": {},
     "output_type": "execute_result"
    }
   ],
   "source": [
    "'COBYLA'\n",
    "\n",
    "from pyscf import gto\n",
    "from jqc import VQE\n",
    "from jqc.ansatz import UCCSD\n",
    "\n",
    "mol = gto.M(atom='Li 0 0 0; H 0 0 1.60', basis='sto-3g')\n",
    "vqe = VQE(mol, UCCSD())\n",
    "vqe.optimizer = 'COBYLA'\n",
    "\n",
    "vqe.run()"
   ]
  },
  {
   "cell_type": "markdown",
   "metadata": {},
   "source": [
    "**4. BFGS 사용**"
   ]
  },
  {
   "cell_type": "code",
   "execution_count": null,
   "metadata": {},
   "outputs": [],
   "source": [
    "from pyscf import gto\n",
    "from scipy import optimize as opt\n",
    "from jqc import VQE\n",
    "from jqc.ansatz import UCCSD\n",
    "\n",
    "class UCCSD_bfgs(UCCSD):\n",
    "    @staticmethod\n",
    "    def call_optimizer(func, coeff, method) -> opt.OptimizeResult:\n",
    "        return opt.minimize(func, coeff, method='BFGS')\n",
    "    \n",
    "    def generate_coeff(self, profile, coeff=0):\n",
    "        return super().generate_coeff(profile, coeff=coeff)\n",
    "\n",
    "mol = gto.M(atom='H 0 0 0; H 0 0 0.70', basis='sto-3g')\n",
    "vqe = VQE(mol, UCCSD_bfgs())\n",
    "\n",
    "vqe.run()"
   ]
  },
  {
   "cell_type": "markdown",
   "metadata": {},
   "source": [
    "**5. LiH 4-31g**"
   ]
  },
  {
   "cell_type": "code",
   "execution_count": 1,
   "metadata": {},
   "outputs": [
    {
     "ename": "RecursionError",
     "evalue": "maximum recursion depth exceeded",
     "output_type": "error",
     "traceback": [
      "\u001b[0;31m---------------------------------------------------------------------------\u001b[0m",
      "\u001b[0;31mRecursionError\u001b[0m                            Traceback (most recent call last)",
      "Cell \u001b[0;32mIn[1], line 6\u001b[0m\n\u001b[1;32m      3\u001b[0m \u001b[38;5;28;01mfrom\u001b[39;00m \u001b[38;5;21;01mjqc\u001b[39;00m\u001b[38;5;21;01m.\u001b[39;00m\u001b[38;5;21;01mansatz\u001b[39;00m \u001b[38;5;28;01mimport\u001b[39;00m UCCSD\n\u001b[1;32m      5\u001b[0m mol \u001b[38;5;241m=\u001b[39m gto\u001b[38;5;241m.\u001b[39mM(atom\u001b[38;5;241m=\u001b[39m\u001b[38;5;124m'\u001b[39m\u001b[38;5;124mLi 0 0 0; H 0 0 1.60\u001b[39m\u001b[38;5;124m'\u001b[39m, basis\u001b[38;5;241m=\u001b[39m\u001b[38;5;124m'\u001b[39m\u001b[38;5;124m4-31g\u001b[39m\u001b[38;5;124m'\u001b[39m)\n\u001b[0;32m----> 6\u001b[0m vqe \u001b[38;5;241m=\u001b[39m VQE(mol, UCCSD())\n\u001b[1;32m      8\u001b[0m vqe\u001b[38;5;241m.\u001b[39mrun()\n",
      "File \u001b[0;32m~/GitHub/Quantum_Computing/jqc/vqe/vqe.py:42\u001b[0m, in \u001b[0;36mVQE.__init__\u001b[0;34m(self, mol, ansatz, simulator)\u001b[0m\n\u001b[1;32m     40\u001b[0m \u001b[38;5;28mself\u001b[39m\u001b[38;5;241m.\u001b[39msimulator \u001b[38;5;241m=\u001b[39m simulator\n\u001b[1;32m     41\u001b[0m \u001b[38;5;28mself\u001b[39m\u001b[38;5;241m.\u001b[39mprofile: Profile \u001b[38;5;241m=\u001b[39m Profile(mol)\n\u001b[0;32m---> 42\u001b[0m \u001b[38;5;28mself\u001b[39m\u001b[38;5;241m.\u001b[39mhamiltonian \u001b[38;5;241m=\u001b[39m hamiltonian(\u001b[38;5;28mself\u001b[39m\u001b[38;5;241m.\u001b[39mprofile)\n\u001b[1;32m     43\u001b[0m \u001b[38;5;28mself\u001b[39m\u001b[38;5;241m.\u001b[39m_config \u001b[38;5;241m=\u001b[39m {\u001b[38;5;124m'\u001b[39m\u001b[38;5;124miteration\u001b[39m\u001b[38;5;124m'\u001b[39m: \u001b[38;5;241m0\u001b[39m, \u001b[38;5;124m'\u001b[39m\u001b[38;5;124moptimizer\u001b[39m\u001b[38;5;124m'\u001b[39m: \u001b[38;5;124m'\u001b[39m\u001b[38;5;124mpowell\u001b[39m\u001b[38;5;124m'\u001b[39m, \u001b[38;5;124m'\u001b[39m\u001b[38;5;124mparallel\u001b[39m\u001b[38;5;124m'\u001b[39m: \u001b[38;5;28;01mFalse\u001b[39;00m, \u001b[38;5;124m'\u001b[39m\u001b[38;5;124mverbose\u001b[39m\u001b[38;5;124m'\u001b[39m: \u001b[38;5;28;01mTrue\u001b[39;00m}\n",
      "File \u001b[0;32m~/GitHub/Quantum_Computing/jqc/measure/hamiltonian.py:47\u001b[0m, in \u001b[0;36mhamiltonian\u001b[0;34m(profile)\u001b[0m\n\u001b[1;32m     45\u001b[0m     second_q \u001b[38;5;241m+\u001b[39m\u001b[38;5;241m=\u001b[39m \u001b[38;5;124mf\u001b[39m\u001b[38;5;124m'\u001b[39m\u001b[38;5;132;01m{\u001b[39;00msign\u001b[38;5;132;01m}\u001b[39;00m\u001b[38;5;124m \u001b[39m\u001b[38;5;132;01m{\u001b[39;00mcoeff\u001b[38;5;132;01m:\u001b[39;00m\u001b[38;5;124m.16f\u001b[39m\u001b[38;5;132;01m}\u001b[39;00m\u001b[38;5;124m \u001b[39m\u001b[38;5;132;01m{\u001b[39;00mi\u001b[38;5;241m+\u001b[39mn\u001b[38;5;132;01m}\u001b[39;00m\u001b[38;5;124m^ \u001b[39m\u001b[38;5;132;01m{\u001b[39;00mk\u001b[38;5;132;01m}\u001b[39;00m\u001b[38;5;124m^ \u001b[39m\u001b[38;5;132;01m{\u001b[39;00ml\u001b[38;5;132;01m}\u001b[39;00m\u001b[38;5;124m \u001b[39m\u001b[38;5;132;01m{\u001b[39;00mj\u001b[38;5;241m+\u001b[39mn\u001b[38;5;132;01m}\u001b[39;00m\u001b[38;5;124m'\u001b[39m \u001b[38;5;241m+\u001b[39m \u001b[38;5;124m'\u001b[39m\u001b[38;5;130;01m\\n\u001b[39;00m\u001b[38;5;124m'\u001b[39m\n\u001b[1;32m     46\u001b[0m     second_q \u001b[38;5;241m+\u001b[39m\u001b[38;5;241m=\u001b[39m \u001b[38;5;124mf\u001b[39m\u001b[38;5;124m'\u001b[39m\u001b[38;5;132;01m{\u001b[39;00msign\u001b[38;5;132;01m}\u001b[39;00m\u001b[38;5;124m \u001b[39m\u001b[38;5;132;01m{\u001b[39;00mcoeff\u001b[38;5;132;01m:\u001b[39;00m\u001b[38;5;124m.16f\u001b[39m\u001b[38;5;132;01m}\u001b[39;00m\u001b[38;5;124m \u001b[39m\u001b[38;5;132;01m{\u001b[39;00mi\u001b[38;5;241m+\u001b[39mn\u001b[38;5;132;01m}\u001b[39;00m\u001b[38;5;124m^ \u001b[39m\u001b[38;5;132;01m{\u001b[39;00mk\u001b[38;5;241m+\u001b[39mn\u001b[38;5;132;01m}\u001b[39;00m\u001b[38;5;124m^ \u001b[39m\u001b[38;5;132;01m{\u001b[39;00ml\u001b[38;5;241m+\u001b[39mn\u001b[38;5;132;01m}\u001b[39;00m\u001b[38;5;124m \u001b[39m\u001b[38;5;132;01m{\u001b[39;00mj\u001b[38;5;241m+\u001b[39mn\u001b[38;5;132;01m}\u001b[39;00m\u001b[38;5;124m'\u001b[39m \u001b[38;5;241m+\u001b[39m \u001b[38;5;124m'\u001b[39m\u001b[38;5;130;01m\\n\u001b[39;00m\u001b[38;5;124m'\u001b[39m\n\u001b[0;32m---> 47\u001b[0m \u001b[38;5;28;01mreturn\u001b[39;00m JordanWignerMapper(second_q)\n",
      "File \u001b[0;32m~/GitHub/Quantum_Computing/jqc/mapper/jordan_wigner.py:137\u001b[0m, in \u001b[0;36mJordanWignerMapper.__init__\u001b[0;34m(self, operator)\u001b[0m\n\u001b[1;32m    136\u001b[0m \u001b[38;5;28;01mdef\u001b[39;00m \u001b[38;5;21m__init__\u001b[39m(\u001b[38;5;28mself\u001b[39m, operator):\n\u001b[0;32m--> 137\u001b[0m     \u001b[38;5;28mself\u001b[39m\u001b[38;5;241m.\u001b[39mfermi_sort \u001b[38;5;241m=\u001b[39m FermionicSort(operator)\n\u001b[1;32m    138\u001b[0m     \u001b[38;5;28mself\u001b[39m\u001b[38;5;241m.\u001b[39mpauli_strings \u001b[38;5;241m=\u001b[39m JordanWigner(\u001b[38;5;28mself\u001b[39m\u001b[38;5;241m.\u001b[39mfermi_sort)\u001b[38;5;241m.\u001b[39mpauli_strings\n",
      "File \u001b[0;32m~/GitHub/Quantum_Computing/jqc/mapper/fermionic_sort.py:10\u001b[0m, in \u001b[0;36mFermionicSort.__init__\u001b[0;34m(self, operator)\u001b[0m\n\u001b[1;32m      8\u001b[0m     \u001b[38;5;28mself\u001b[39m\u001b[38;5;241m.\u001b[39moperator \u001b[38;5;241m=\u001b[39m \u001b[38;5;28minput\u001b[39m(\u001b[38;5;124m\"\u001b[39m\u001b[38;5;124mInput: \u001b[39m\u001b[38;5;124m\"\u001b[39m)\n\u001b[1;32m      9\u001b[0m split_operator   \u001b[38;5;241m=\u001b[39m \u001b[38;5;28mself\u001b[39m\u001b[38;5;241m.\u001b[39msplit_operator(\u001b[38;5;28mself\u001b[39m\u001b[38;5;241m.\u001b[39moperator)\n\u001b[0;32m---> 10\u001b[0m number_sort      \u001b[38;5;241m=\u001b[39m \u001b[38;5;28mself\u001b[39m\u001b[38;5;241m.\u001b[39mnumber_sort(split_operator)\n\u001b[1;32m     11\u001b[0m dirac_sort       \u001b[38;5;241m=\u001b[39m \u001b[38;5;28mself\u001b[39m\u001b[38;5;241m.\u001b[39mdirac_sort(number_sort)\n\u001b[1;32m     12\u001b[0m number_sort      \u001b[38;5;241m=\u001b[39m \u001b[38;5;28mself\u001b[39m\u001b[38;5;241m.\u001b[39mnumber_sort(dirac_sort)\n",
      "File \u001b[0;32m~/GitHub/Quantum_Computing/jqc/mapper/fermionic_sort.py:70\u001b[0m, in \u001b[0;36mFermionicSort.number_sort\u001b[0;34m(self, operator)\u001b[0m\n\u001b[1;32m     68\u001b[0m         \u001b[38;5;28;01melse\u001b[39;00m:\n\u001b[1;32m     69\u001b[0m             operator\u001b[38;5;241m.\u001b[39minsert(i, \u001b[38;5;124m'\u001b[39m\u001b[38;5;124m-\u001b[39m\u001b[38;5;124m'\u001b[39m)\n\u001b[0;32m---> 70\u001b[0m         \u001b[38;5;28;01mreturn\u001b[39;00m \u001b[38;5;28mself\u001b[39m\u001b[38;5;241m.\u001b[39mnumber_sort(operator)\n\u001b[1;32m     71\u001b[0m \u001b[38;5;28;01mreturn\u001b[39;00m operator\n",
      "File \u001b[0;32m~/GitHub/Quantum_Computing/jqc/mapper/fermionic_sort.py:70\u001b[0m, in \u001b[0;36mFermionicSort.number_sort\u001b[0;34m(self, operator)\u001b[0m\n\u001b[1;32m     68\u001b[0m         \u001b[38;5;28;01melse\u001b[39;00m:\n\u001b[1;32m     69\u001b[0m             operator\u001b[38;5;241m.\u001b[39minsert(i, \u001b[38;5;124m'\u001b[39m\u001b[38;5;124m-\u001b[39m\u001b[38;5;124m'\u001b[39m)\n\u001b[0;32m---> 70\u001b[0m         \u001b[38;5;28;01mreturn\u001b[39;00m \u001b[38;5;28mself\u001b[39m\u001b[38;5;241m.\u001b[39mnumber_sort(operator)\n\u001b[1;32m     71\u001b[0m \u001b[38;5;28;01mreturn\u001b[39;00m operator\n",
      "    \u001b[0;31m[... skipping similar frames: FermionicSort.number_sort at line 70 (2960 times)]\u001b[0m\n",
      "File \u001b[0;32m~/GitHub/Quantum_Computing/jqc/mapper/fermionic_sort.py:70\u001b[0m, in \u001b[0;36mFermionicSort.number_sort\u001b[0;34m(self, operator)\u001b[0m\n\u001b[1;32m     68\u001b[0m         \u001b[38;5;28;01melse\u001b[39;00m:\n\u001b[1;32m     69\u001b[0m             operator\u001b[38;5;241m.\u001b[39minsert(i, \u001b[38;5;124m'\u001b[39m\u001b[38;5;124m-\u001b[39m\u001b[38;5;124m'\u001b[39m)\n\u001b[0;32m---> 70\u001b[0m         \u001b[38;5;28;01mreturn\u001b[39;00m \u001b[38;5;28mself\u001b[39m\u001b[38;5;241m.\u001b[39mnumber_sort(operator)\n\u001b[1;32m     71\u001b[0m \u001b[38;5;28;01mreturn\u001b[39;00m operator\n",
      "File \u001b[0;32m~/GitHub/Quantum_Computing/jqc/mapper/fermionic_sort.py:62\u001b[0m, in \u001b[0;36mFermionicSort.number_sort\u001b[0;34m(self, operator)\u001b[0m\n\u001b[1;32m     60\u001b[0m \u001b[38;5;28;01mif\u001b[39;00m op \u001b[38;5;129;01min\u001b[39;00m (\u001b[38;5;124m'\u001b[39m\u001b[38;5;124m-\u001b[39m\u001b[38;5;124m'\u001b[39m, \u001b[38;5;124m'\u001b[39m\u001b[38;5;124m+\u001b[39m\u001b[38;5;124m'\u001b[39m):\n\u001b[1;32m     61\u001b[0m     \u001b[38;5;28;01mcontinue\u001b[39;00m\n\u001b[0;32m---> 62\u001b[0m c, _operator \u001b[38;5;241m=\u001b[39m _number_sort(operator[i])\n\u001b[1;32m     63\u001b[0m \u001b[38;5;28;01mif\u001b[39;00m c \u001b[38;5;129;01mand\u001b[39;00m (_operator[\u001b[38;5;241m0\u001b[39m] \u001b[38;5;241m==\u001b[39m \u001b[38;5;124m'\u001b[39m\u001b[38;5;124m-\u001b[39m\u001b[38;5;124m'\u001b[39m):\n\u001b[1;32m     64\u001b[0m     \u001b[38;5;28;01mdel\u001b[39;00m _operator[\u001b[38;5;241m0\u001b[39m]\n",
      "File \u001b[0;32m~/GitHub/Quantum_Computing/jqc/mapper/fermionic_sort.py:46\u001b[0m, in \u001b[0;36mFermionicSort.number_sort.<locals>._number_sort\u001b[0;34m(operator)\u001b[0m\n\u001b[1;32m     45\u001b[0m \u001b[38;5;28;01mdef\u001b[39;00m \u001b[38;5;21m_number_sort\u001b[39m(operator):\n\u001b[0;32m---> 46\u001b[0m     fermion \u001b[38;5;241m=\u001b[39m [Fermion(fermion) \u001b[38;5;28;01mfor\u001b[39;00m fermion \u001b[38;5;129;01min\u001b[39;00m operator]\n\u001b[1;32m     47\u001b[0m     \u001b[38;5;28;01mfor\u001b[39;00m i \u001b[38;5;129;01min\u001b[39;00m \u001b[38;5;28mrange\u001b[39m(\u001b[38;5;241m1\u001b[39m, \u001b[38;5;28mlen\u001b[39m(operator)\u001b[38;5;241m-\u001b[39m\u001b[38;5;241m1\u001b[39m):\n\u001b[1;32m     48\u001b[0m         \u001b[38;5;28;01mif\u001b[39;00m fermion[i]\u001b[38;5;241m.\u001b[39mtype \u001b[38;5;241m==\u001b[39m fermion[i\u001b[38;5;241m+\u001b[39m\u001b[38;5;241m1\u001b[39m]\u001b[38;5;241m.\u001b[39mtype:\n",
      "File \u001b[0;32m~/GitHub/Quantum_Computing/jqc/mapper/fermionic_sort.py:46\u001b[0m, in \u001b[0;36m<listcomp>\u001b[0;34m(.0)\u001b[0m\n\u001b[1;32m     45\u001b[0m \u001b[38;5;28;01mdef\u001b[39;00m \u001b[38;5;21m_number_sort\u001b[39m(operator):\n\u001b[0;32m---> 46\u001b[0m     fermion \u001b[38;5;241m=\u001b[39m [Fermion(fermion) \u001b[38;5;28;01mfor\u001b[39;00m fermion \u001b[38;5;129;01min\u001b[39;00m operator]\n\u001b[1;32m     47\u001b[0m     \u001b[38;5;28;01mfor\u001b[39;00m i \u001b[38;5;129;01min\u001b[39;00m \u001b[38;5;28mrange\u001b[39m(\u001b[38;5;241m1\u001b[39m, \u001b[38;5;28mlen\u001b[39m(operator)\u001b[38;5;241m-\u001b[39m\u001b[38;5;241m1\u001b[39m):\n\u001b[1;32m     48\u001b[0m         \u001b[38;5;28;01mif\u001b[39;00m fermion[i]\u001b[38;5;241m.\u001b[39mtype \u001b[38;5;241m==\u001b[39m fermion[i\u001b[38;5;241m+\u001b[39m\u001b[38;5;241m1\u001b[39m]\u001b[38;5;241m.\u001b[39mtype:\n",
      "\u001b[0;31mRecursionError\u001b[0m: maximum recursion depth exceeded"
     ]
    }
   ],
   "source": [
    "from pyscf import gto\n",
    "from jqc import VQE\n",
    "from jqc.ansatz import UCCSD\n",
    "\n",
    "mol = gto.M(atom='H 0 0 0; H 0 0 1.60', basis='sto-3g')\n",
    "vqe = VQE(mol, UCCSD())\n",
    "\n",
    "vqe.run()"
   ]
  }
 ],
 "metadata": {
  "kernelspec": {
   "display_name": "base",
   "language": "python",
   "name": "python3"
  },
  "language_info": {
   "codemirror_mode": {
    "name": "ipython",
    "version": 3
   },
   "file_extension": ".py",
   "mimetype": "text/x-python",
   "name": "python",
   "nbconvert_exporter": "python",
   "pygments_lexer": "ipython3",
   "version": "3.11.7"
  }
 },
 "nbformat": 4,
 "nbformat_minor": 2
}
