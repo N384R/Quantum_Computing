{
 "cells": [
  {
   "cell_type": "markdown",
   "metadata": {},
   "source": [
    "1-1. UCCSD sto-3g"
   ]
  },
  {
   "cell_type": "code",
   "execution_count": 1,
   "metadata": {},
   "outputs": [
    {
     "name": "stdout",
     "output_type": "stream",
     "text": [
      "\n",
      "Starting VQE Calculation\n",
      "\n",
      "Ansatz: UCCSD\n",
      "Simulator: StateVector\n",
      "Optimizer: powell\n",
      "\n",
      "Iteration: 45, Converged!!         \n",
      "Total Energy: -1.136189454\n",
      "\n",
      "Elapsed time: 0:00:00\n"
     ]
    },
    {
     "data": {
      "text/plain": [
       "Singlet_0"
      ]
     },
     "execution_count": 1,
     "metadata": {},
     "output_type": "execute_result"
    }
   ],
   "source": [
    "from pyscf import gto\n",
    "from jqc import VQE\n",
    "from jqc.ansatz import UCCSD\n",
    "\n",
    "mol = gto.M(atom='H 0 0 0; H 0 0 0.70', basis='sto-3g')\n",
    "vqe = VQE(mol, UCCSD())\n",
    "vqe.parallel = False\n",
    "\n",
    "vqe.run()"
   ]
  },
  {
   "cell_type": "markdown",
   "metadata": {},
   "source": [
    "1-2. HEA sto-3g (depth 4 is optimal)"
   ]
  },
  {
   "cell_type": "code",
   "execution_count": 3,
   "metadata": {},
   "outputs": [
    {
     "name": "stdout",
     "output_type": "stream",
     "text": [
      "\n",
      "Starting VQE Calculation\n",
      "\n",
      "Ansatz: HEA\n",
      "Simulator: StateVector\n",
      "Optimizer: powell\n",
      "\n",
      "Iteration: 1058, Converged!!         \n",
      "Total Energy: -1.136189454\n",
      "\n",
      "Elapsed time: 0:00:49\n"
     ]
    },
    {
     "data": {
      "text/plain": [
       "Singlet_0"
      ]
     },
     "execution_count": 3,
     "metadata": {},
     "output_type": "execute_result"
    }
   ],
   "source": [
    "from pyscf import gto\n",
    "from jqc import VQE\n",
    "from jqc.ansatz import UCCSD, HEA\n",
    "\n",
    "mol = gto.M(atom='H 0 0 0; H 0 0 0.70', basis='sto-3g')\n",
    "vqe = VQE(mol, HEA(depth=4))\n",
    "vqe.parallel = True\n",
    "\n",
    "vqe.run()\n"
   ]
  },
  {
   "cell_type": "markdown",
   "metadata": {},
   "source": [
    "1-3. SP sto-3g"
   ]
  },
  {
   "cell_type": "code",
   "execution_count": 1,
   "metadata": {},
   "outputs": [
    {
     "name": "stdout",
     "output_type": "stream",
     "text": [
      "\n",
      "Starting VQE Calculation\n",
      "\n",
      "Ansatz: SP\n",
      "Simulator: StateVector\n",
      "Optimizer: powell\n",
      "\n",
      "Iteration: 222, Converged!!         \n",
      "Total Energy: -1.117349035\n",
      "\n",
      "Elapsed time: 0:00:10\n"
     ]
    },
    {
     "data": {
      "text/plain": [
       "Singlet_0"
      ]
     },
     "execution_count": 1,
     "metadata": {},
     "output_type": "execute_result"
    }
   ],
   "source": [
    "from pyscf import gto\n",
    "from jqc import VQE\n",
    "from jqc.ansatz import UCCSD, HEA, SP\n",
    "\n",
    "mol = gto.M(atom='H 0 0 0; H 0 0 0.70', basis='sto-3g')\n",
    "vqe = VQE(mol, SP(depth=3))\n",
    "vqe.parallel = True\n",
    "\n",
    "vqe.run()\n"
   ]
  },
  {
   "cell_type": "markdown",
   "metadata": {},
   "source": [
    "2-1-a. UCCSD 4-31g"
   ]
  },
  {
   "cell_type": "code",
   "execution_count": 4,
   "metadata": {},
   "outputs": [
    {
     "name": "stdout",
     "output_type": "stream",
     "text": [
      "\n",
      "Starting VQE Calculation\n",
      "\n",
      "Ansatz: UCCSD\n",
      "Simulator: StateVector\n",
      "Optimizer: powell\n",
      "\n",
      "Iteration: 219, Converged!!         \n",
      "Total Energy: -1.150156653\n",
      "\n",
      "Elapsed time: 0:00:24\n"
     ]
    },
    {
     "data": {
      "text/plain": [
       "Singlet_0"
      ]
     },
     "execution_count": 4,
     "metadata": {},
     "output_type": "execute_result"
    }
   ],
   "source": [
    "from pyscf import gto\n",
    "from jqc import VQE\n",
    "from jqc.ansatz import UCCSD\n",
    "\n",
    "mol = gto.M(atom='H 0 0 0; H 0 0 0.70', basis='4-31g')\n",
    "vqe = VQE(mol, UCCSD())\n",
    "vqe.parallel = False\n",
    "\n",
    "vqe.run()"
   ]
  },
  {
   "cell_type": "markdown",
   "metadata": {},
   "source": [
    "2-1-b. UCCGSD 4-31g"
   ]
  },
  {
   "cell_type": "code",
   "execution_count": 1,
   "metadata": {},
   "outputs": [
    {
     "name": "stdout",
     "output_type": "stream",
     "text": [
      "\n",
      "Starting VQE Calculation\n",
      "\n",
      "Ansatz: UCCGSD\n",
      "Simulator: StateVector\n",
      "Optimizer: powell\n",
      "\n",
      "Iteration: 1264, Converged!!         \n",
      "Total Energy: -1.150156798\n",
      "\n",
      "Elapsed time: 0:06:13\n"
     ]
    },
    {
     "data": {
      "text/plain": [
       "Singlet_0"
      ]
     },
     "execution_count": 1,
     "metadata": {},
     "output_type": "execute_result"
    }
   ],
   "source": [
    "'병렬 계산 있음'\n",
    "from pyscf import gto\n",
    "from jqc import VQE\n",
    "from jqc.ansatz import kUpCCGSD, UCCGSD\n",
    "\n",
    "mol = gto.M(atom='H 0 0 0; H 0 0 0.70', basis='4-31g')\n",
    "vqe = VQE(mol, UCCGSD())\n",
    "vqe.parallel = True\n",
    "\n",
    "vqe.run()"
   ]
  },
  {
   "cell_type": "code",
   "execution_count": 2,
   "metadata": {},
   "outputs": [
    {
     "name": "stdout",
     "output_type": "stream",
     "text": [
      "\n",
      "Starting VQE Calculation\n",
      "\n",
      "Ansatz: UCCGSD\n",
      "Simulator: StateVector\n",
      "Optimizer: powell\n",
      "\n",
      "Iteration: 1369, Converged!!         \n",
      "Total Energy: -1.150156798\n",
      "\n",
      "Elapsed time: 0:05:37\n"
     ]
    },
    {
     "data": {
      "text/plain": [
       "Singlet_0"
      ]
     },
     "execution_count": 2,
     "metadata": {},
     "output_type": "execute_result"
    }
   ],
   "source": [
    "'병렬 계산 없음'\n",
    "from pyscf import gto\n",
    "from jqc import VQE\n",
    "from jqc.ansatz import kUpCCGSD, UCCGSD\n",
    "\n",
    "mol = gto.M(atom='H 0 0 0; H 0 0 0.70', basis='4-31g')\n",
    "vqe = VQE(mol, UCCGSD())\n",
    "vqe.parallel = False\n",
    "\n",
    "vqe.run()"
   ]
  },
  {
   "cell_type": "markdown",
   "metadata": {},
   "source": [
    "3.1 UCCSD sto-3g, LiH"
   ]
  },
  {
   "cell_type": "code",
   "execution_count": 1,
   "metadata": {},
   "outputs": [
    {
     "name": "stdout",
     "output_type": "stream",
     "text": [
      "\n",
      "Starting VQE Calculation\n",
      "\n",
      "Ansatz: UCCSD\n",
      "Simulator: StateVector\n",
      "Optimizer: powell\n",
      "\n",
      "Iteration: 1134, Converged!!         \n",
      "Total Energy: -7.882266062\n",
      "\n",
      "Elapsed time: 16:17:07\n"
     ]
    },
    {
     "data": {
      "text/plain": [
       "Singlet_0"
      ]
     },
     "execution_count": 1,
     "metadata": {},
     "output_type": "execute_result"
    }
   ],
   "source": [
    "from pyscf import gto\n",
    "from jqc import VQE\n",
    "from jqc.ansatz import UCCSD\n",
    "\n",
    "mol = gto.M(atom='Li 0 0 0; H 0 0 1.60', basis='sto-3g')\n",
    "vqe = VQE(mol, UCCSD())\n",
    "\n",
    "vqe.run()"
   ]
  },
  {
   "cell_type": "code",
   "execution_count": 1,
   "metadata": {},
   "outputs": [
    {
     "name": "stdout",
     "output_type": "stream",
     "text": [
      "\n",
      "Starting VQE Calculation\n",
      "\n",
      "Ansatz: UCCSD\n",
      "Simulator: StateVector\n",
      "Optimizer: powell\n",
      "\n",
      "Iteration: 1134, Converged!!         \n",
      "Total Energy: -7.882266062\n",
      "\n",
      "Elapsed time: 11:13:17\n"
     ]
    },
    {
     "data": {
      "text/plain": [
       "Singlet_0"
      ]
     },
     "execution_count": 1,
     "metadata": {},
     "output_type": "execute_result"
    }
   ],
   "source": [
    "from pyscf import gto\n",
    "from jqc import VQE\n",
    "from jqc.ansatz import UCCSD\n",
    "\n",
    "mol = gto.M(atom='Li 0 0 0; H 0 0 1.60', basis='sto-3g')\n",
    "vqe = VQE(mol, UCCSD())\n",
    "vqe.parallel = True\n",
    "\n",
    "vqe.run()"
   ]
  },
  {
   "cell_type": "code",
   "execution_count": 1,
   "metadata": {},
   "outputs": [
    {
     "name": "stdout",
     "output_type": "stream",
     "text": [
      "=== GROUND STATE ENERGY ===\n",
      " \n",
      "* Electronic ground state energy (Hartree): -8.854072040266\n",
      "  - computed part:      -8.854072040266\n",
      "~ Nuclear repulsion energy (Hartree): 0.992207270475\n",
      "> Total ground state energy (Hartree): -7.861864769791\n",
      " \n",
      "=== MEASURED OBSERVABLES ===\n",
      " \n",
      "  0:  # Particles: 4.000 S: 0.000 S^2: 0.000 M: 0.000\n",
      " \n",
      "=== DIPOLE MOMENTS ===\n",
      " \n",
      "~ Nuclear dipole moment (a.u.): [0.0  0.0  3.0235618]\n",
      " \n",
      "  0: \n",
      "  * Electronic dipole moment (a.u.): [0.0  0.0  4.935141322031]\n",
      "    - computed part:      [0.0  0.0  4.935141322031]\n",
      "  > Dipole moment (a.u.): [0.0  0.0  -1.911579522031]  Total: 1.911579522031\n",
      "                 (debye): [0.0  0.0  -4.858750045484]  Total: 4.858750045484\n",
      " \n"
     ]
    }
   ],
   "source": [
    "from qiskit_nature.units import DistanceUnit\n",
    "from qiskit_nature.second_q.drivers import PySCFDriver\n",
    "from qiskit_nature.second_q.mappers import JordanWignerMapper\n",
    "from qiskit_algorithms import NumPyMinimumEigensolver, NumPyEigensolver\n",
    "\n",
    "from qiskit_algorithms import VQE\n",
    "from qiskit_algorithms.optimizers import POWELL\n",
    "from qiskit.primitives import Estimator\n",
    "from qiskit_nature.second_q.circuit.library import HartreeFock, UCCSD, PUCCSD \n",
    "\n",
    "from qiskit_nature.second_q.algorithms import GroundStateEigensolver\n",
    "\n",
    "driver = PySCFDriver(\n",
    "    atom = \"Li 0 0 0; H 0 0 1.60\",\n",
    "    basis = 'sto-3g',\n",
    "    charge = 0,\n",
    "    spin = 0,\n",
    "    unit = DistanceUnit.ANGSTROM,\n",
    ")\n",
    "\n",
    "problem_singlet = driver.run()\n",
    "second_q_op = problem_singlet.hamiltonian.second_q_op()\n",
    "mapper = JordanWignerMapper()\n",
    "numpy_solver = NumPyMinimumEigensolver()\n",
    "qubit_op = mapper.map(second_q_op)\n",
    "\n",
    "ansatz = UCCSD(\n",
    "    problem_singlet.num_spatial_orbitals,\n",
    "    problem_singlet.num_particles,\n",
    "    mapper,\n",
    "    initial_state=HartreeFock(\n",
    "        problem_singlet.num_spatial_orbitals,\n",
    "        problem_singlet.num_particles,\n",
    "        mapper\n",
    "    ),\n",
    "    generalized=True,\n",
    ")\n",
    "\n",
    "# ansatz.decompose().decompose().decompose().draw()\n",
    "\n",
    "vqe_solver = VQE(Estimator(), ansatz, POWELL())\n",
    "vqe_solver.initial_point = [0.0] * ansatz.num_parameters\n",
    "\n",
    "calc = GroundStateEigensolver(mapper, vqe_solver)\n",
    "res = calc.solve(problem_singlet)\n",
    "print(res)"
   ]
  },
  {
   "cell_type": "code",
   "execution_count": 27,
   "metadata": {},
   "outputs": [
    {
     "name": "stdout",
     "output_type": "stream",
     "text": [
      "+ 1.322808287195543 1^ 0 + 1.322808287195543 3^ 2 \n",
      "+ (0.330702071798886)i YXII + (0.330702071798886) XXII + (0.330702071798886) YYII - (0.330702071798886)i XYII + (0.330702071798886)i IIYX + (0.330702071798886) IIXX + (0.330702071798886) IIYY - (0.330702071798886)i IIXY \n"
     ]
    }
   ],
   "source": [
    "from itertools import combinations\n",
    "import numpy as np\n",
    "from pyscf import gto\n",
    "from jqc.mapper.jordan_wigner import JordanWignerMapper\n",
    "\n",
    "def dipole_moment(mol):\n",
    "    'Generate the dipole moment in the second quantization form.'\n",
    "    coords = mol.atom_coords()\n",
    "    no = 2\n",
    "    second_q = ''\n",
    "    for i, j in combinations(range(len(coords)), 2):\n",
    "        r = np.linalg.norm(coords[i] - coords[j])\n",
    "        second_q += f'+ {r} {j}^ {i} '\n",
    "        second_q += f'+ {r} {j + no}^ {i + no} '\n",
    "    print(second_q)\n",
    "    return JordanWignerMapper(second_q)\n",
    "\n",
    "mol = gto.M(atom='H 0 0 0; H 0 0 0.70', basis='sto-3g')\n",
    "\n",
    "second_q = dipole_moment(mol)\n",
    "\n",
    "print(second_q)"
   ]
  }
 ],
 "metadata": {
  "kernelspec": {
   "display_name": "base",
   "language": "python",
   "name": "python3"
  },
  "language_info": {
   "codemirror_mode": {
    "name": "ipython",
    "version": 3
   },
   "file_extension": ".py",
   "mimetype": "text/x-python",
   "name": "python",
   "nbconvert_exporter": "python",
   "pygments_lexer": "ipython3",
   "version": "3.11.7"
  }
 },
 "nbformat": 4,
 "nbformat_minor": 2
}
