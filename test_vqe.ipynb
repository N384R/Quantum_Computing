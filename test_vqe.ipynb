{
 "cells": [
  {
   "cell_type": "markdown",
   "metadata": {},
   "source": [
    "**1-1. UCCSD sto-3g**"
   ]
  },
  {
   "cell_type": "code",
   "execution_count": 5,
   "metadata": {},
   "outputs": [
    {
     "name": "stdout",
     "output_type": "stream",
     "text": [
      "\n",
      "Starting VQE Calculation\n",
      "\n",
      "Ansatz: UCCSD\n",
      "Simulator: StateVector\n",
      "Optimizer: powell\n",
      "\n",
      "Iteration: 45, Converged!!                \n",
      "Total Energy: -1.136189454\n",
      "\n",
      "Elapsed time: 0:00:00\n"
     ]
    },
    {
     "data": {
      "text/plain": [
       "{'dipole_moment': [0, 0, 1.3228082871955276],\n",
       " 'hamiltonian': -1.892156898236844}"
      ]
     },
     "execution_count": 5,
     "metadata": {},
     "output_type": "execute_result"
    }
   ],
   "source": [
    "from pyscf import gto\n",
    "from jqc import VQE\n",
    "from jqc.ansatz import UCCSD, UCCGSD, fUCCSD\n",
    "from jqc.measure import dipole_moment\n",
    "\n",
    "mol = gto.M(atom='H 0 0 0; H 0 0 0.70', basis='sto-3g')\n",
    "vqe = VQE(mol, UCCSD())\n",
    "\n",
    "vqe.run()\n",
    "\n",
    "vqe.solve(dipole_moment)"
   ]
  },
  {
   "cell_type": "code",
   "execution_count": 2,
   "metadata": {},
   "outputs": [
    {
     "data": {
      "text/plain": [
       "{'state': 0,\n",
       " 'spin': '0.00',\n",
       " 'num_orb': 2,\n",
       " 'num_elec': 2,\n",
       " 'coeff': array([ 2.22044605e-16, -2.88657986e-15, -2.44249065e-15, -6.66133815e-16,\n",
       "        -2.09735637e-01,  3.25121840e+00]),\n",
       " 'energy_total': -1.1361894540654163,\n",
       " 'circuit': <qiskit.circuit.quantumcircuit.QuantumCircuit at 0x7fb8c983e390>}"
      ]
     },
     "execution_count": 2,
     "metadata": {},
     "output_type": "execute_result"
    }
   ],
   "source": [
    "vqe.profile.show()"
   ]
  },
  {
   "cell_type": "markdown",
   "metadata": {},
   "source": [
    "**1-1 H2O calculation**"
   ]
  },
  {
   "cell_type": "code",
   "execution_count": 3,
   "metadata": {},
   "outputs": [
    {
     "name": "stdout",
     "output_type": "stream",
     "text": [
      "\n",
      "Starting VQE Calculation\n",
      "\n",
      "Ansatz: UCCSD\n",
      "Simulator: StateVector\n",
      "Optimizer: powell\n",
      "\n",
      "Iteration: 1668, Converged!!                \n",
      "Total Energy: -75.011332705\n",
      "\n",
      "Elapsed time: 0:36:30\n"
     ]
    },
    {
     "data": {
      "text/plain": [
       "<jqc.vqe.vqe.VQE at 0x7f5d84f6c090>"
      ]
     },
     "execution_count": 3,
     "metadata": {},
     "output_type": "execute_result"
    }
   ],
   "source": [
    "from pyscf import gto\n",
    "from jqc import VQE\n",
    "from jqc.ansatz import UCCSD\n",
    "\n",
    "mol = gto.M(atom='O; H 1 0.957; H 1 0.957 2 104.5', basis='sto-3g')\n",
    "vqe = VQE(mol, UCCSD())\n",
    "\n",
    "vqe.run()"
   ]
  },
  {
   "cell_type": "code",
   "execution_count": 6,
   "metadata": {},
   "outputs": [
    {
     "data": {
      "text/plain": [
       "[0.970195432828667, 0.0, 1.253024764652772]"
      ]
     },
     "execution_count": 6,
     "metadata": {},
     "output_type": "execute_result"
    }
   ],
   "source": [
    "from jqc.measure import dipole_moment\n",
    "\n",
    "vqe.solve(dipole_moment)\n"
   ]
  },
  {
   "cell_type": "markdown",
   "metadata": {},
   "source": [
    "**1-2. HEA sto-3g (depth 4 is optimal)**"
   ]
  },
  {
   "cell_type": "code",
   "execution_count": 9,
   "metadata": {},
   "outputs": [
    {
     "name": "stdout",
     "output_type": "stream",
     "text": [
      "\n",
      "Starting VQE Calculation\n",
      "\n",
      "Ansatz: HEA\n",
      "Simulator: StateVector\n",
      "Optimizer: powell\n",
      "\n",
      "Iteration: 1590, Converged!!                \n",
      "Total Energy: -1.136189452\n",
      "\n",
      "Elapsed time: 0:00:05\n"
     ]
    },
    {
     "data": {
      "text/plain": [
       "{'state': 0,\n",
       " 'spin': '0.00',\n",
       " 'num_orb': 2,\n",
       " 'num_elec': 2,\n",
       " 'coeff': array([ 3.14166528e+00,  1.70978925e+00,  6.77813360e-12, -4.44975372e+00,\n",
       "        -1.53733354e-05, -2.47090101e+00,  3.14153330e+00,  1.75444031e-01,\n",
       "        -6.90037120e-08, -5.25084860e-01,  1.69642002e-13,  4.19660924e-01,\n",
       "        -4.95399275e-08, -2.54088445e+00, -2.40056003e-05, -1.39738572e+00,\n",
       "         2.09735637e-01, -2.25259403e+00, -8.45472764e-07, -1.93095450e+00,\n",
       "        -1.56289271e-06,  1.48319518e+00, -1.11486411e-05, -2.02794212e+00,\n",
       "         3.14164291e+00,  1.48322891e+00,  1.03213404e-11,  1.47192400e+00,\n",
       "        -1.28361873e-07,  1.29765091e+00,  7.99476547e-06, -2.72157884e+00]),\n",
       " 'energy_total': -1.136189452193329,\n",
       " 'circuit': <qiskit.circuit.quantumcircuit.QuantumCircuit at 0x7fd49cb414d0>}"
      ]
     },
     "execution_count": 9,
     "metadata": {},
     "output_type": "execute_result"
    }
   ],
   "source": [
    "from pyscf import gto\n",
    "from jqc import VQE\n",
    "from jqc.ansatz import UCCSD, HEA\n",
    "\n",
    "mol = gto.M(atom='H 0 0 0; H 0 0 0.70', basis='sto-3g')\n",
    "vqe = VQE(mol, HEA(depth=3))\n",
    "\n",
    "vqe.run()\n",
    "vqe.profile.show()"
   ]
  },
  {
   "cell_type": "markdown",
   "metadata": {},
   "source": [
    "1-3. SP sto-3g"
   ]
  },
  {
   "cell_type": "code",
   "execution_count": 8,
   "metadata": {},
   "outputs": [
    {
     "name": "stdout",
     "output_type": "stream",
     "text": [
      "\n",
      "Starting VQE Calculation\n",
      "\n",
      "Ansatz: SP\n",
      "Simulator: StateVector\n",
      "Optimizer: L-BFGS-B\n",
      "\n",
      "Iteration: 62, Converged!!                \n",
      "Total Energy: -1.117349035\n",
      "\n",
      "Elapsed time: 0:00:00\n"
     ]
    },
    {
     "data": {
      "text/plain": [
       "{'state': 0,\n",
       " 'spin': '0.00',\n",
       " 'num_orb': 2,\n",
       " 'num_elec': 2,\n",
       " 'coeff': array([0., 0., 0., 0., 0., 0., 0., 0., 0., 0., 0., 0., 0., 0., 0., 0., 0.,\n",
       "        0., 0., 0., 0., 0., 0., 0., 0., 0., 0., 0., 0., 0., 0., 0., 0., 0.,\n",
       "        0., 0., 0., 0., 0., 0., 0., 0., 0., 0., 0., 0., 0., 0., 0., 0., 0.,\n",
       "        0., 0., 0., 0., 0., 0., 0., 0., 0.]),\n",
       " 'energy_total': -1.117349034990279,\n",
       " 'circuit': <qiskit.circuit.quantumcircuit.QuantumCircuit at 0x7fd497d8add0>}"
      ]
     },
     "execution_count": 8,
     "metadata": {},
     "output_type": "execute_result"
    }
   ],
   "source": [
    "from pyscf import gto\n",
    "from jqc import VQE\n",
    "from jqc.ansatz import UCCSD, HEA, SP\n",
    "\n",
    "mol = gto.M(atom='H 0 0 0; H 0 0 0.70', basis='sto-3g')\n",
    "vqe = VQE(mol, SP(depth=2))\n",
    "\n",
    "vqe.run()\n",
    "vqe.profile.show()"
   ]
  },
  {
   "cell_type": "markdown",
   "metadata": {},
   "source": [
    "**2-1-a. UCCSD 4-31g**"
   ]
  },
  {
   "cell_type": "code",
   "execution_count": 1,
   "metadata": {},
   "outputs": [
    {
     "name": "stdout",
     "output_type": "stream",
     "text": [
      "\n",
      "Starting VQE Calculation\n",
      "\n",
      "Ansatz: UCCSD\n",
      "Simulator: StateVector\n",
      "Optimizer: powell\n",
      "\n",
      "Iteration: 219, Converged!!                \n",
      "Total Energy: -1.150156653\n",
      "\n",
      "Elapsed time: 0:00:13\n"
     ]
    },
    {
     "data": {
      "text/plain": [
       "<jqc.vqe.vqe.VQE at 0x7f5d7d93e690>"
      ]
     },
     "execution_count": 1,
     "metadata": {},
     "output_type": "execute_result"
    }
   ],
   "source": [
    "from pyscf import gto\n",
    "from jqc import VQE\n",
    "from jqc.ansatz import UCCSD\n",
    "\n",
    "mol = gto.M(atom='H 0 0 0; H 0 0 0.70', basis='4-31g')\n",
    "vqe = VQE(mol, UCCSD())\n",
    "\n",
    "vqe.run()"
   ]
  },
  {
   "cell_type": "code",
   "execution_count": 2,
   "metadata": {},
   "outputs": [
    {
     "name": "stdout",
     "output_type": "stream",
     "text": [
      "\n",
      "Starting VQE Calculation\n",
      "\n",
      "Ansatz: UCCSD\n",
      "Simulator: StateVector\n",
      "Optimizer: BFGS\n",
      "\n",
      "Iteration: 97, Converged!!                \n",
      "Total Energy: -1.150156830\n",
      "\n",
      "Elapsed time: 0:00:09\n"
     ]
    },
    {
     "data": {
      "text/plain": [
       "Singlet_0"
      ]
     },
     "execution_count": 2,
     "metadata": {},
     "output_type": "execute_result"
    }
   ],
   "source": [
    "from pyscf import gto\n",
    "from jqc import VQE\n",
    "from jqc.ansatz import UCCSD\n",
    "\n",
    "mol = gto.M(atom='H 0 0 0; H 0 0 0.70', basis='4-31g')\n",
    "vqe = VQE(mol, UCCSD())\n",
    "vqe.optimizer = 'BFGS'\n",
    "\n",
    "vqe.run()"
   ]
  },
  {
   "cell_type": "markdown",
   "metadata": {},
   "source": [
    "**2-1-b. UCCGSD 4-31g**"
   ]
  },
  {
   "cell_type": "code",
   "execution_count": null,
   "metadata": {},
   "outputs": [],
   "source": [
    "'병렬 계산 있음'\n",
    "from pyscf import gto\n",
    "from jqc import VQE\n",
    "from jqc.ansatz import kUpCCGSD, UCCGSD\n",
    "\n",
    "mol = gto.M(atom='H 0 0 0; H 0 0 0.70', basis='4-31g')\n",
    "vqe = VQE(mol, UCCGSD())\n",
    "vqe.parallel = True\n",
    "\n",
    "vqe.run()"
   ]
  },
  {
   "cell_type": "code",
   "execution_count": 1,
   "metadata": {},
   "outputs": [
    {
     "name": "stdout",
     "output_type": "stream",
     "text": [
      "\n",
      "Starting VQE Calculation\n",
      "\n",
      "Ansatz: UCCGSD\n",
      "Simulator: StateVector\n",
      "Optimizer: powell\n",
      "\n",
      "Iteration: 1342, Converged!!                \n",
      "Total Energy: -1.150156798\n",
      "\n",
      "Elapsed time: 0:07:13\n"
     ]
    },
    {
     "data": {
      "text/plain": [
       "Singlet_0"
      ]
     },
     "execution_count": 1,
     "metadata": {},
     "output_type": "execute_result"
    }
   ],
   "source": [
    "'병렬 계산 없음'\n",
    "from pyscf import gto\n",
    "from jqc import VQE\n",
    "from jqc.ansatz import kUpCCGSD, UCCGSD\n",
    "\n",
    "mol = gto.M(atom='H 0 0 0; H 0 0 0.70', basis='4-31g')\n",
    "vqe = VQE(mol, UCCGSD())\n",
    "\n",
    "vqe.run()"
   ]
  },
  {
   "cell_type": "code",
   "execution_count": 15,
   "metadata": {},
   "outputs": [
    {
     "name": "stdout",
     "output_type": "stream",
     "text": [
      "\n",
      "Starting VQE Calculation\n",
      "\n",
      "Ansatz: UCCGSD\n",
      "Simulator: StateVector\n",
      "Optimizer: L-BFGS-B\n",
      "\n",
      "Iteration: 919, Converged!!                \n",
      "Total Energy: -1.150156829\n",
      "\n",
      "Elapsed time: 0:05:53\n"
     ]
    },
    {
     "data": {
      "text/plain": [
       "Singlet_0"
      ]
     },
     "execution_count": 15,
     "metadata": {},
     "output_type": "execute_result"
    }
   ],
   "source": [
    "'병렬 계산 없음'\n",
    "from pyscf import gto\n",
    "from jqc import VQE\n",
    "from jqc.ansatz import kUpCCGSD, UCCGSD\n",
    "\n",
    "mol = gto.M(atom='H 0 0 0; H 0 0 0.70', basis='4-31g')\n",
    "vqe = VQE(mol, UCCGSD())\n",
    "vqe.optimizer = 'L-BFGS-B'\n",
    "\n",
    "vqe.run()"
   ]
  },
  {
   "cell_type": "markdown",
   "metadata": {},
   "source": [
    "**2-2 HEA 4-31g**"
   ]
  },
  {
   "cell_type": "code",
   "execution_count": 8,
   "metadata": {},
   "outputs": [
    {
     "name": "stdout",
     "output_type": "stream",
     "text": [
      "\n",
      "Starting VQE Calculation\n",
      "\n",
      "Ansatz: HEA\n",
      "Simulator: StateVector\n",
      "Optimizer: powell\n",
      "\n",
      "Iteration: 14196, Converged!!                \n",
      "Total Energy: -1.139482444\n",
      "\n",
      "Elapsed time: 0:05:33\n"
     ]
    },
    {
     "data": {
      "text/plain": [
       "{'state': 0,\n",
       " 'spin': '0.00',\n",
       " 'num_orb': 4,\n",
       " 'num_elec': 2,\n",
       " 'coeff': array([-3.14767813e+00,  2.75273545e-01,  2.19329540e-02, -1.71866107e+00,\n",
       "         5.33346246e-05, -2.39744234e+00, -1.51603107e-05,  7.66334590e-01,\n",
       "        -6.44332029e-03,  6.47132316e-01, -1.60856792e-02, -1.61836252e+00,\n",
       "        -3.14104972e+00, -9.52706702e-01, -6.03552622e-05, -1.95922600e+00,\n",
       "        -1.74060623e-04, -2.66558204e+00,  8.36027690e-06, -1.51630547e+00,\n",
       "        -2.95605274e-03, -2.22384468e+00, -1.42943235e-05, -1.26369008e+00,\n",
       "        -4.14032656e-04,  2.12233315e-01, -3.95901325e-05, -1.18122619e+00,\n",
       "        -3.37253099e-05, -8.16437750e-01,  5.85557752e-07, -2.71727969e-01,\n",
       "         4.70887895e-06, -2.37656418e-01, -1.10153064e-06, -1.30441744e+00,\n",
       "        -2.52523784e-07, -1.63556831e+00,  1.97491420e-06, -9.80058420e-01,\n",
       "        -2.26954551e-06, -2.53853600e+00,  3.13843471e+00, -1.03616966e+00,\n",
       "         6.30997984e-06,  1.27279819e+00, -2.44171827e-05, -2.72679157e+00,\n",
       "         9.83044249e-02,  1.04562766e+00,  2.51785263e-04, -1.15786151e+00,\n",
       "        -8.61585241e-04,  1.06830194e+00,  4.75431955e-05, -5.62105229e-01,\n",
       "        -2.13983521e-05, -2.44643814e-02, -3.28779722e-06, -1.82973816e-02,\n",
       "        -5.67188367e-06,  7.47730453e-02, -2.33735022e-05, -1.12961167e+00,\n",
       "         4.48518977e-03,  4.52926987e-02, -1.24648303e-04, -4.45675661e-02,\n",
       "         4.55298319e-05,  2.16245965e-03,  4.15501989e-07, -1.48921706e+00,\n",
       "         1.88530795e-01,  1.61480873e-03, -2.96425743e-01,  7.36544773e-04,\n",
       "        -1.35944036e-04,  6.76195470e-01, -1.12638469e-04, -2.46076470e-05,\n",
       "         1.54192061e-05,  2.04790068e-02, -2.52314781e-05, -1.36273659e-02,\n",
       "         1.43099128e-06,  1.89254903e-02,  4.78105246e-07, -5.69704376e-04,\n",
       "         3.35660898e-03,  4.37396213e-04,  3.78590610e-05,  9.51114490e-04,\n",
       "         5.59816265e-06,  1.81919307e-04, -1.92706341e-04,  2.03215885e-04,\n",
       "         3.14085097e+00, -1.07507861e+00, -9.16718271e-08,  3.92979974e-04,\n",
       "         4.25679691e-06, -2.68832639e+00, -1.65549774e-06, -2.34718916e+00,\n",
       "        -2.79700417e-05,  3.13650276e+00, -3.13711899e+00, -9.71409805e-04,\n",
       "        -4.30045696e-04,  6.53032557e-04,  9.80020833e-05, -2.51762605e-05,\n",
       "         5.92095870e-06,  2.27076656e-03, -3.25746517e-07, -1.44870230e+00,\n",
       "        -3.85026522e-08, -2.35938377e+00, -6.61096313e-09,  9.57520118e-01,\n",
       "        -2.29714826e-05,  4.17419862e-04,  1.80523994e-06,  7.64226497e-04,\n",
       "        -2.84746234e-05, -6.91397947e-04,  2.76318456e-05, -2.11031306e+00,\n",
       "         1.44049376e-02, -3.36365273e-03, -2.40352416e-02,  6.33972886e-04,\n",
       "        -3.00385931e-05, -9.48938340e-04, -2.07765379e-05, -3.07617572e-05,\n",
       "        -1.73613663e-01,  4.00927341e-02,  2.98730168e-01,  2.84371722e-03,\n",
       "        -4.11600898e-04,  2.01592924e+00,  3.49642842e-06, -8.82995931e-01,\n",
       "         1.38685799e-04,  2.60050472e-03,  1.65167053e-05, -1.15262491e-02,\n",
       "        -3.21773548e-03,  8.54556194e-04,  5.60408690e-06, -7.93957399e-05,\n",
       "         6.21813886e-03, -1.64225013e-02, -1.07301098e-06, -1.42339216e-03,\n",
       "        -1.00508174e-05, -8.51532105e-06,  2.55590357e-05,  2.03727896e-05,\n",
       "        -6.34498054e-06,  3.50427885e-04,  3.49808168e-06, -8.17789808e-05,\n",
       "        -1.38134495e-06,  3.35523902e-01,  2.05406420e-06, -1.39190736e-02,\n",
       "        -4.73194957e-05, -3.29695990e-02, -3.17242005e-04,  2.27867719e-03,\n",
       "        -1.83051106e-04, -8.14603489e-05,  1.06298348e-05,  1.46627851e-05,\n",
       "         3.75133120e-02,  1.10980332e-03, -7.23923976e-03,  1.86523267e-03,\n",
       "        -1.05294088e-03, -7.47255473e-03, -2.82614035e-05, -8.43974638e-01,\n",
       "         7.60205499e-06, -3.26652599e-03,  1.39236649e-05,  1.79900703e-03,\n",
       "         3.33465484e-06, -2.66307239e-03,  3.42338989e-05,  3.13939159e-01,\n",
       "         1.15225449e-01, -2.05464700e-03, -9.17184583e-03, -2.67837402e-04,\n",
       "        -5.65113791e-05, -1.52190502e-04, -9.77792286e-07, -2.39212633e-05,\n",
       "         3.01300544e-02,  3.23955946e-04, -2.16129769e-02,  1.41911816e-03,\n",
       "         5.56683682e-05,  7.72080320e-04, -2.81410388e-05, -2.19195938e-05,\n",
       "        -1.48212625e-06, -4.81078914e-05, -8.89442645e-07, -2.42100189e-04,\n",
       "        -2.65034861e-06, -2.07165994e-04, -1.31219686e-06,  2.34178507e-04,\n",
       "         4.64987472e-03, -3.07315588e-05, -2.99740983e-05, -5.09049691e-04,\n",
       "         2.67560159e-05, -3.59965259e-04,  7.23366841e-05,  3.19017447e-04,\n",
       "        -8.08680581e-06,  2.34292305e-04, -1.66716252e-07,  3.72056778e-04,\n",
       "        -1.27291078e-05, -4.88593640e-04,  3.99196931e-06,  6.01102165e-03,\n",
       "         2.67797172e-05, -9.98066857e-05,  3.24142422e-04, -4.01519123e-04,\n",
       "         4.69819274e-05,  2.77951108e-04, -6.74136199e-06, -4.12648424e-03]),\n",
       " 'energy_total': -1.1394824437746198,\n",
       " 'circuit': <qiskit.circuit.quantumcircuit.QuantumCircuit at 0x7fa3819e2dd0>}"
      ]
     },
     "execution_count": 8,
     "metadata": {},
     "output_type": "execute_result"
    }
   ],
   "source": [
    "from pyscf import gto\n",
    "from jqc import VQE\n",
    "from jqc.ansatz import UCCSD, HEA\n",
    "\n",
    "mol = gto.M(atom='H 0 0 0; H 0 0 0.70', basis='4-31g')\n",
    "vqe = VQE(mol, HEA(depth=16))\n",
    "\n",
    "vqe.run()\n",
    "vqe.profile.show()"
   ]
  },
  {
   "cell_type": "markdown",
   "metadata": {},
   "source": [
    "**3.1 UCCSD sto-3g, LiH**"
   ]
  },
  {
   "cell_type": "code",
   "execution_count": 1,
   "metadata": {},
   "outputs": [
    {
     "name": "stdout",
     "output_type": "stream",
     "text": [
      "\n",
      "Starting VQE Calculation\n",
      "\n",
      "Ansatz: UCCSD\n",
      "Simulator: StateVector\n",
      "Optimizer: powell\n",
      "\n",
      "Iteration: 141, Energy: -7.861971205\r"
     ]
    }
   ],
   "source": [
    "'병렬 있음'\n",
    "\n",
    "from pyscf import gto\n",
    "from jqc import VQE\n",
    "from jqc.ansatz import UCCSD\n",
    "\n",
    "mol = gto.M(atom='Li 0 0 0; H 0 0 1.60', basis='sto-3g')\n",
    "vqe = VQE(mol, UCCSD())\n",
    "vqe.parallel = True\n",
    "\n",
    "vqe.run()"
   ]
  },
  {
   "cell_type": "code",
   "execution_count": 1,
   "metadata": {},
   "outputs": [
    {
     "name": "stdout",
     "output_type": "stream",
     "text": [
      "\n",
      "Starting VQE Calculation\n",
      "\n",
      "Ansatz: UCCSD\n",
      "Simulator: StateVector\n",
      "Optimizer: powell\n",
      "\n",
      "Iteration: 1130, Converged!!                \n",
      "Total Energy: -7.882266098\n",
      "\n",
      "Elapsed time: 0:07:34\n"
     ]
    },
    {
     "data": {
      "text/plain": [
       "Singlet_0"
      ]
     },
     "execution_count": 1,
     "metadata": {},
     "output_type": "execute_result"
    }
   ],
   "source": [
    "'병렬 없음'\n",
    "\n",
    "from pyscf import gto\n",
    "from jqc import VQE\n",
    "from jqc.ansatz import UCCSD\n",
    "\n",
    "mol = gto.M(atom='Li 0 0 0; H 0 0 1.60', basis='sto-3g')\n",
    "vqe = VQE(mol, UCCSD())\n",
    "\n",
    "vqe.run()"
   ]
  },
  {
   "cell_type": "code",
   "execution_count": 1,
   "metadata": {},
   "outputs": [
    {
     "name": "stdout",
     "output_type": "stream",
     "text": [
      "\n",
      "Starting VQE Calculation\n",
      "\n",
      "Ansatz: UCCSD\n",
      "Simulator: StateVector\n",
      "Optimizer: powell\n",
      "\n",
      "Iteration: 199, Energy: -6.743559674\r"
     ]
    }
   ],
   "source": [
    "'L-BFGS-B'\n",
    "\n",
    "from pyscf import gto\n",
    "from jqc import VQE\n",
    "from jqc.ansatz import UCCSD\n",
    "\n",
    "mol = gto.M(atom='Li 0 0 0; H 0 0 1.60', basis='sto-3g')\n",
    "vqe = VQE(mol, UCCSD())\n",
    "vqe.optimizer = 'L-BFGS-B'\n",
    "\n",
    "vqe.run()\n"
   ]
  },
  {
   "cell_type": "markdown",
   "metadata": {},
   "source": [
    "**4. BFGS 사용**"
   ]
  },
  {
   "cell_type": "code",
   "execution_count": null,
   "metadata": {},
   "outputs": [],
   "source": [
    "from pyscf import gto\n",
    "from scipy import optimize as opt\n",
    "from jqc import VQE\n",
    "from jqc.ansatz import UCCSD\n",
    "\n",
    "class UCCSD_bfgs(UCCSD):\n",
    "    @staticmethod\n",
    "    def call_optimizer(func, coeff, method) -> opt.OptimizeResult:\n",
    "        return opt.minimize(func, coeff, method='BFGS')\n",
    "    \n",
    "    def generate_coeff(self, profile, coeff=0):\n",
    "        return super().generate_coeff(profile, coeff=coeff)\n",
    "\n",
    "mol = gto.M(atom='H 0 0 0; H 0 0 0.70', basis='sto-3g')\n",
    "vqe = VQE(mol, UCCSD_bfgs())\n",
    "\n",
    "vqe.run()"
   ]
  },
  {
   "cell_type": "markdown",
   "metadata": {},
   "source": [
    "**5. LiH 4-31g**"
   ]
  },
  {
   "cell_type": "code",
   "execution_count": 1,
   "metadata": {},
   "outputs": [
    {
     "name": "stdout",
     "output_type": "stream",
     "text": [
      "\n",
      "Starting VQE Calculation\n",
      "\n",
      "Ansatz: UCCSD\n",
      "Simulator: StateVector\n",
      "Optimizer: powell\n",
      "\n",
      "2640/8758: 2, Energy: -6.971884517\r"
     ]
    }
   ],
   "source": [
    "from pyscf import gto\n",
    "from jqc import VQE\n",
    "from jqc.ansatz import UCCSD\n",
    "\n",
    "mol = gto.M(atom='Li 0 0 0; H 0 0 1.60', basis='4-31g')\n",
    "vqe = VQE(mol, UCCSD())\n",
    "# vqe.parallel = True\n",
    "\n",
    "vqe.run()"
   ]
  },
  {
   "cell_type": "markdown",
   "metadata": {},
   "source": [
    "**6. BeH2 sto-3g**"
   ]
  },
  {
   "cell_type": "code",
   "execution_count": 2,
   "metadata": {},
   "outputs": [
    {
     "name": "stdout",
     "output_type": "stream",
     "text": [
      "\n",
      "Starting VQE Calculation\n",
      "\n",
      "Ansatz: UCCSD\n",
      "Simulator: StateVector\n",
      "Optimizer: powell\n",
      "\n",
      "Iteration: 2212, Converged!!                \n",
      "Total Energy: -15.553561886\n",
      "\n",
      "Elapsed time: 1:21:01\n"
     ]
    },
    {
     "data": {
      "text/plain": [
       "Singlet_0"
      ]
     },
     "execution_count": 2,
     "metadata": {},
     "output_type": "execute_result"
    }
   ],
   "source": [
    "from pyscf import gto\n",
    "from jqc import VQE\n",
    "from jqc.ansatz import UCCSD\n",
    "\n",
    "mol = gto.M(atom='Be 0 0 0; H 0 0 1.60; H 0 0 -1.60', basis='sto-3g')\n",
    "vqe = VQE(mol, UCCSD())\n",
    "\n",
    "vqe.run()"
   ]
  },
  {
   "cell_type": "code",
   "execution_count": 1,
   "metadata": {},
   "outputs": [
    {
     "name": "stdout",
     "output_type": "stream",
     "text": [
      "\n",
      "Starting VQE Calculation\n",
      "\n",
      "Ansatz: UCCSD\n",
      "Simulator: StateVector\n",
      "Optimizer: powell\n",
      "\n",
      "Iteration: 744, Energy: -15.517629349\r"
     ]
    }
   ],
   "source": [
    "from pyscf import gto\n",
    "from jqc import VQE\n",
    "from jqc.ansatz import UCCSD\n",
    "\n",
    "mol = gto.M(atom='Be 0 0 0; H 0 0 1.60; H 0 0 -1.60', basis='sto-3g')\n",
    "vqe = VQE(mol, UCCSD())\n",
    "vqe.parallel = True\n",
    "\n",
    "vqe.run()"
   ]
  },
  {
   "cell_type": "code",
   "execution_count": null,
   "metadata": {},
   "outputs": [],
   "source": [
    "'L-BFGS-B 95분 넘게 안끝남'\n",
    "\n",
    "from pyscf import gto\n",
    "from jqc import VQE\n",
    "from jqc.ansatz import UCCSD\n",
    "\n",
    "mol = gto.M(atom='Be 0 0 0; H 0 0 1.60; H 0 0 -1.60', basis='sto-3g')\n",
    "vqe = VQE(mol, UCCSD())\n",
    "vqe.optimizer = 'L-BFGS-B'\n",
    "\n",
    "vqe.run()"
   ]
  }
 ],
 "metadata": {
  "kernelspec": {
   "display_name": "base",
   "language": "python",
   "name": "python3"
  },
  "language_info": {
   "codemirror_mode": {
    "name": "ipython",
    "version": 3
   },
   "file_extension": ".py",
   "mimetype": "text/x-python",
   "name": "python",
   "nbconvert_exporter": "python",
   "pygments_lexer": "ipython3",
   "version": "3.11.7"
  }
 },
 "nbformat": 4,
 "nbformat_minor": 2
}
