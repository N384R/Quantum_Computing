{
 "cells": [
  {
   "cell_type": "markdown",
   "metadata": {},
   "source": [
    "1-1. UCCSD sto-3g"
   ]
  },
  {
   "cell_type": "code",
   "execution_count": 1,
   "metadata": {},
   "outputs": [
    {
     "name": "stdout",
     "output_type": "stream",
     "text": [
      "\n",
      "Starting VQE Calculation\n",
      "\n",
      "Ansatz: UCCSD\n",
      "Simulator: StateVector\n",
      "Optimizer: powell\n",
      "\n",
      "Iteration: 45, Converged!!         \n",
      "Total Energy: -1.136189454\n",
      "\n",
      "Elapsed time: 0:00:00\n"
     ]
    },
    {
     "data": {
      "text/plain": [
       "Singlet_0"
      ]
     },
     "execution_count": 1,
     "metadata": {},
     "output_type": "execute_result"
    }
   ],
   "source": [
    "from pyscf import gto\n",
    "from jqc import VQE\n",
    "from jqc.ansatz import UCCSD\n",
    "\n",
    "mol = gto.M(atom='H 0 0 0; H 0 0 0.70', basis='sto-3g')\n",
    "vqe = VQE(mol, UCCSD())\n",
    "\n",
    "vqe.run()"
   ]
  },
  {
   "cell_type": "markdown",
   "metadata": {},
   "source": [
    "1-2. HEA sto-3g (depth 4 is optimal)"
   ]
  },
  {
   "cell_type": "code",
   "execution_count": 2,
   "metadata": {},
   "outputs": [
    {
     "name": "stdout",
     "output_type": "stream",
     "text": [
      "\n",
      "Starting VQE Calculation\n",
      "\n",
      "Ansatz: HEA\n",
      "Simulator: StateVector\n",
      "Optimizer: powell\n",
      "\n",
      "Iteration: 1630, Converged!!         \n",
      "Total Energy: -3.028346352\n",
      "\n",
      "Elapsed time: 0:00:08\n"
     ]
    },
    {
     "data": {
      "text/plain": [
       "Singlet_0"
      ]
     },
     "execution_count": 2,
     "metadata": {},
     "output_type": "execute_result"
    }
   ],
   "source": [
    "from pyscf import gto\n",
    "from jqc import VQE\n",
    "from jqc.ansatz import UCCSD, HEA\n",
    "\n",
    "mol = gto.M(atom='H 0 0 0; H 0 0 0.70', basis='sto-3g')\n",
    "vqe = VQE(mol, HEA(depth=3))\n",
    "\n",
    "vqe.run()"
   ]
  },
  {
   "cell_type": "markdown",
   "metadata": {},
   "source": [
    "1-3. SP sto-3g"
   ]
  },
  {
   "cell_type": "code",
   "execution_count": 3,
   "metadata": {},
   "outputs": [
    {
     "name": "stdout",
     "output_type": "stream",
     "text": [
      "\n",
      "Starting VQE Calculation\n",
      "\n",
      "Ansatz: SP\n",
      "Simulator: StateVector\n",
      "Optimizer: powell\n",
      "\n",
      "Iteration: 1993, Converged!!         \n",
      "Total Energy: -3.025639519\n",
      "\n",
      "Elapsed time: 0:01:10\n"
     ]
    },
    {
     "data": {
      "text/plain": [
       "Singlet_0"
      ]
     },
     "execution_count": 3,
     "metadata": {},
     "output_type": "execute_result"
    }
   ],
   "source": [
    "from pyscf import gto\n",
    "from jqc import VQE\n",
    "from jqc.ansatz import UCCSD, HEA, SP\n",
    "\n",
    "mol = gto.M(atom='H 0 0 0; H 0 0 0.70', basis='sto-3g')\n",
    "vqe = VQE(mol, SP(depth=5))\n",
    "vqe.parallel = True\n",
    "\n",
    "vqe.run()\n"
   ]
  },
  {
   "cell_type": "markdown",
   "metadata": {},
   "source": [
    "2-1-a. UCCSD 4-31g"
   ]
  },
  {
   "cell_type": "code",
   "execution_count": 4,
   "metadata": {},
   "outputs": [
    {
     "name": "stdout",
     "output_type": "stream",
     "text": [
      "\n",
      "Starting VQE Calculation\n",
      "\n",
      "Ansatz: UCCSD\n",
      "Simulator: StateVector\n",
      "Optimizer: powell\n",
      "\n",
      "Iteration: 219, Converged!!         \n",
      "Total Energy: -1.150156653\n",
      "\n",
      "Elapsed time: 0:00:19\n"
     ]
    },
    {
     "data": {
      "text/plain": [
       "Singlet_0"
      ]
     },
     "execution_count": 4,
     "metadata": {},
     "output_type": "execute_result"
    }
   ],
   "source": [
    "from pyscf import gto\n",
    "from jqc import VQE\n",
    "from jqc.ansatz import UCCSD\n",
    "\n",
    "mol = gto.M(atom='H 0 0 0; H 0 0 0.70', basis='4-31g')\n",
    "vqe = VQE(mol, UCCSD())\n",
    "\n",
    "vqe.run()"
   ]
  },
  {
   "cell_type": "markdown",
   "metadata": {},
   "source": [
    "2-1-b. UCCGSD 4-31g"
   ]
  },
  {
   "cell_type": "code",
   "execution_count": 1,
   "metadata": {},
   "outputs": [
    {
     "name": "stdout",
     "output_type": "stream",
     "text": [
      "\n",
      "Starting VQE Calculation\n",
      "\n",
      "Ansatz: UCCGSD\n",
      "Simulator: StateVector\n",
      "Optimizer: powell\n",
      "\n",
      "Iteration: 1274, Converged!!         \n",
      "Total Energy: -1.150156798\n",
      "\n",
      "Elapsed time: 0:04:59\n"
     ]
    },
    {
     "data": {
      "text/plain": [
       "Singlet_0"
      ]
     },
     "execution_count": 1,
     "metadata": {},
     "output_type": "execute_result"
    }
   ],
   "source": [
    "'병렬 계산 있음'\n",
    "from pyscf import gto\n",
    "from jqc import VQE\n",
    "from jqc.ansatz import kUpCCGSD, UCCGSD\n",
    "\n",
    "mol = gto.M(atom='H 0 0 0; H 0 0 0.70', basis='4-31g')\n",
    "vqe = VQE(mol, UCCGSD())\n",
    "vqe.parallel = True\n",
    "\n",
    "vqe.run()"
   ]
  },
  {
   "cell_type": "code",
   "execution_count": 4,
   "metadata": {},
   "outputs": [
    {
     "name": "stdout",
     "output_type": "stream",
     "text": [
      "\n",
      "Starting VQE Calculation\n",
      "\n",
      "Ansatz: UCCGSD\n",
      "Simulator: StateVector\n",
      "Optimizer: powell\n",
      "\n",
      "Iteration: 1251, Converged!!         \n",
      "Total Energy: -1.150156798\n",
      "\n",
      "Elapsed time: 0:03:58\n"
     ]
    },
    {
     "data": {
      "text/plain": [
       "Singlet_0"
      ]
     },
     "execution_count": 4,
     "metadata": {},
     "output_type": "execute_result"
    }
   ],
   "source": [
    "'병렬 계산 없음'\n",
    "from pyscf import gto\n",
    "from jqc import VQE\n",
    "from jqc.ansatz import kUpCCGSD, UCCGSD\n",
    "\n",
    "mol = gto.M(atom='H 0 0 0; H 0 0 0.70', basis='4-31g')\n",
    "vqe = VQE(mol, UCCGSD())\n",
    "vqe.parallel = False\n",
    "\n",
    "vqe.run()"
   ]
  },
  {
   "cell_type": "markdown",
   "metadata": {},
   "source": [
    "3.1 UCCSD sto-3g, LiH"
   ]
  },
  {
   "cell_type": "code",
   "execution_count": 1,
   "metadata": {},
   "outputs": [
    {
     "name": "stdout",
     "output_type": "stream",
     "text": [
      "\n",
      "Starting VQE Calculation\n",
      "\n",
      "Ansatz: UCCSD\n",
      "Simulator: StateVector\n",
      "Optimizer: powell\n",
      "\n",
      "Iteration: 1134, Converged!!         \n",
      "Total Energy: -7.882266062\n",
      "\n",
      "Elapsed time: 0:53:25\n"
     ]
    },
    {
     "data": {
      "text/plain": [
       "Singlet_0"
      ]
     },
     "execution_count": 1,
     "metadata": {},
     "output_type": "execute_result"
    }
   ],
   "source": [
    "'병렬 있음'\n",
    "\n",
    "from pyscf import gto\n",
    "from jqc import VQE\n",
    "from jqc.ansatz import UCCSD\n",
    "\n",
    "mol = gto.M(atom='Li 0 0 0; H 0 0 1.60', basis='sto-3g')\n",
    "vqe = VQE(mol, UCCSD())\n",
    "vqe.parallel = True\n",
    "\n",
    "vqe.run()"
   ]
  },
  {
   "cell_type": "code",
   "execution_count": 2,
   "metadata": {},
   "outputs": [
    {
     "name": "stdout",
     "output_type": "stream",
     "text": [
      "\n",
      "Starting VQE Calculation\n",
      "\n",
      "Ansatz: UCCSD\n",
      "Simulator: StateVector\n",
      "Optimizer: powell\n",
      "\n",
      "Iteration: 1134, Converged!!         \n",
      "Total Energy: -7.882266062\n",
      "\n",
      "Elapsed time: 0:58:57\n"
     ]
    },
    {
     "data": {
      "text/plain": [
       "Singlet_0"
      ]
     },
     "execution_count": 2,
     "metadata": {},
     "output_type": "execute_result"
    }
   ],
   "source": [
    "'병렬 없음'\n",
    "\n",
    "from pyscf import gto\n",
    "from jqc import VQE\n",
    "from jqc.ansatz import UCCSD\n",
    "\n",
    "mol = gto.M(atom='Li 0 0 0; H 0 0 1.60', basis='sto-3g')\n",
    "vqe = VQE(mol, UCCSD())\n",
    "\n",
    "vqe.run()"
   ]
  },
  {
   "cell_type": "code",
   "execution_count": null,
   "metadata": {},
   "outputs": [],
   "source": [
    "'COBYLA'\n",
    "\n",
    "from pyscf import gto\n",
    "from jqc import VQE\n",
    "from jqc.ansatz import UCCSD\n",
    "\n",
    "mol = gto.M(atom='Li 0 0 0; H 0 0 1.60', basis='sto-3g')\n",
    "vqe = VQE(mol, UCCSD())\n",
    "\n",
    "vqe.run()"
   ]
  },
  {
   "cell_type": "markdown",
   "metadata": {},
   "source": [
    "4. BFGS 사용"
   ]
  },
  {
   "cell_type": "code",
   "execution_count": 20,
   "metadata": {},
   "outputs": [
    {
     "name": "stdout",
     "output_type": "stream",
     "text": [
      "\n",
      "Starting VQE Calculation\n",
      "\n",
      "Ansatz: UCCSD_bfgs\n",
      "Simulator: StateVector\n",
      "Optimizer: powell\n",
      "\n",
      "Iteration: 58, Converged!!         \n",
      "Total Energy: -1.136189453\n",
      "\n",
      "Elapsed time: 0:00:00\n"
     ]
    },
    {
     "data": {
      "text/plain": [
       "Singlet_0"
      ]
     },
     "execution_count": 20,
     "metadata": {},
     "output_type": "execute_result"
    }
   ],
   "source": [
    "from pyscf import gto\n",
    "from scipy import optimize as opt\n",
    "from jqc import VQE\n",
    "from jqc.ansatz import UCCSD\n",
    "\n",
    "class UCCSD_bfgs(UCCSD):\n",
    "    @staticmethod\n",
    "    def call_optimizer(func, coeff, method) -> opt.OptimizeResult:\n",
    "        return opt.minimize(func, coeff, method='COBYLA')\n",
    "    \n",
    "    def generate_coeff(self, profile, coeff=0):\n",
    "        return super().generate_coeff(profile, coeff=coeff)\n",
    "\n",
    "mol = gto.M(atom='H 0 0 0; H 0 0 0.70', basis='sto-3g')\n",
    "vqe = VQE(mol, UCCSD_bfgs())\n",
    "\n",
    "vqe.run()"
   ]
  }
 ],
 "metadata": {
  "kernelspec": {
   "display_name": "base",
   "language": "python",
   "name": "python3"
  },
  "language_info": {
   "codemirror_mode": {
    "name": "ipython",
    "version": 3
   },
   "file_extension": ".py",
   "mimetype": "text/x-python",
   "name": "python",
   "nbconvert_exporter": "python",
   "pygments_lexer": "ipython3",
   "version": "3.11.7"
  }
 },
 "nbformat": 4,
 "nbformat_minor": 2
}
