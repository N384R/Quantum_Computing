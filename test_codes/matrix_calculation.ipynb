{
 "cells": [
  {
   "cell_type": "code",
   "execution_count": 6,
   "metadata": {},
   "outputs": [],
   "source": [
    "from typing import cast\n",
    "from itertools import combinations\n",
    "import numpy as np\n",
    "import scipy.optimize as opt\n",
    "from pyscf import gto\n",
    "from qiskit import QuantumCircuit\n",
    "from qiskit_aer import AerProvider"
   ]
  },
  {
   "cell_type": "code",
   "execution_count": 7,
   "metadata": {},
   "outputs": [
    {
     "data": {
      "text/latex": [
       "$\\displaystyle \\left[\\begin{matrix}\\sin^{2}{\\left(\\frac{\\theta}{2} \\right)} + \\cos^{2}{\\left(\\frac{\\theta}{2} \\right)} & 0 & 0 & 0\\\\0 & 2 \\sin{\\left(\\frac{\\theta}{2} \\right)} \\cos{\\left(\\frac{\\theta}{2} \\right)} & - e^{i \\phi} \\sin^{2}{\\left(\\frac{\\theta}{2} \\right)} + e^{i \\phi} \\cos^{2}{\\left(\\frac{\\theta}{2} \\right)} & 0\\\\0 & - e^{- i \\phi} \\sin^{2}{\\left(\\frac{\\theta}{2} \\right)} + e^{- i \\phi} \\cos^{2}{\\left(\\frac{\\theta}{2} \\right)} & - 2 \\sin{\\left(\\frac{\\theta}{2} \\right)} \\cos{\\left(\\frac{\\theta}{2} \\right)} & 0\\\\0 & 0 & 0 & \\sin^{2}{\\left(\\frac{\\theta}{2} \\right)} + \\cos^{2}{\\left(\\frac{\\theta}{2} \\right)}\\end{matrix}\\right]$"
      ],
      "text/plain": [
       "⎡   2⎛θ⎞      2⎛θ⎞                                                            \n",
       "⎢sin ⎜─⎟ + cos ⎜─⎟                 0                               0          \n",
       "⎢    ⎝2⎠       ⎝2⎠                                                            \n",
       "⎢                                                                             \n",
       "⎢                                ⎛θ⎞    ⎛θ⎞             ⅈ⋅φ    2⎛θ⎞    ⅈ⋅φ    \n",
       "⎢        0                  2⋅sin⎜─⎟⋅cos⎜─⎟          - ℯ   ⋅sin ⎜─⎟ + ℯ   ⋅cos\n",
       "⎢                                ⎝2⎠    ⎝2⎠                     ⎝2⎠           \n",
       "⎢                                                                             \n",
       "⎢                      -ⅈ⋅φ    2⎛θ⎞    -ⅈ⋅φ    2⎛θ⎞              ⎛θ⎞    ⎛θ⎞   \n",
       "⎢        0          - ℯ    ⋅sin ⎜─⎟ + ℯ    ⋅cos ⎜─⎟        -2⋅sin⎜─⎟⋅cos⎜─⎟   \n",
       "⎢                               ⎝2⎠             ⎝2⎠              ⎝2⎠    ⎝2⎠   \n",
       "⎢                                                                             \n",
       "⎢                                                                             \n",
       "⎢        0                         0                               0          \n",
       "⎣                                                                             \n",
       "\n",
       "                       ⎤\n",
       "              0        ⎥\n",
       "                       ⎥\n",
       "                       ⎥\n",
       "2⎛θ⎞                   ⎥\n",
       " ⎜─⎟          0        ⎥\n",
       " ⎝2⎠                   ⎥\n",
       "                       ⎥\n",
       "                       ⎥\n",
       "              0        ⎥\n",
       "                       ⎥\n",
       "                       ⎥\n",
       "         2⎛θ⎞      2⎛θ⎞⎥\n",
       "      sin ⎜─⎟ + cos ⎜─⎟⎥\n",
       "          ⎝2⎠       ⎝2⎠⎦"
      ]
     },
     "execution_count": 7,
     "metadata": {},
     "output_type": "execute_result"
    }
   ],
   "source": [
    "from networkx import identified_nodes\n",
    "from sympy import symbols, Matrix, cos, sin, init_printing, pi, exp, I\n",
    "from sympy.tensor.array import tensorproduct\n",
    "from sympy.physics.quantum import Dagger\n",
    "\n",
    "init_printing(use_unicode=True)\n",
    "\n",
    "theta, phi = symbols('theta phi')\n",
    "Z = Matrix([[1, 0], [0, -1]])\n",
    "Y = Matrix([[0, -1j], [1j, 0]])\n",
    "\n",
    "Ry = Matrix([\n",
    "    [cos(theta/2), -sin(theta/2)],\n",
    "    [sin(theta/2), cos(theta/2)]\n",
    "])\n",
    "\n",
    "Ry_dagger = Matrix([\n",
    "    [cos(theta/2), sin(theta/2)],\n",
    "    [-sin(theta/2), cos(theta/2)]\n",
    "])\n",
    "\n",
    "Rz = Matrix([\n",
    "    [exp(-I * phi / 2), 0],\n",
    "    [0, exp(I * phi / 2)]\n",
    "])\n",
    "\n",
    "Rz_dagger = Matrix([\n",
    "    [exp(I * phi / 2), 0],\n",
    "    [0, exp(-I * phi / 2)]\n",
    "])\n",
    "\n",
    "Identity = Matrix([\n",
    "    [1, 0],\n",
    "    [0, 1]\n",
    "])\n",
    "\n",
    "RzRy = Rz * Ry\n",
    "RzRy_dagger = Ry_dagger * Rz_dagger\n",
    "\n",
    "CNOT = Matrix([\n",
    "    [1, 0, 0, 0],\n",
    "    [0, 1, 0, 0],\n",
    "    [0, 0, 0, 1],\n",
    "    [0, 0, 1, 0]\n",
    "])\n",
    "\n",
    "CNOT2 = Matrix([\n",
    "    [1, 0, 0, 0],\n",
    "    [0, 0, 0, 1],\n",
    "    [0, 0, 1, 0],\n",
    "    [0, 1, 0, 0]\n",
    "])\n",
    "\n",
    "def tensor(A, B):\n",
    "    C = tensorproduct(A, B)\n",
    "\n",
    "    D = Matrix([\n",
    "        [C[0][0][0][0], C[0][0][0][1], C[0][1][0][0], C[0][1][0][1]],\n",
    "        [C[0][0][1][0], C[0][0][1][1], C[0][1][1][0], C[0][1][1][1]],\n",
    "        [C[1][0][0][0], C[1][0][0][1], C[1][1][0][0], C[1][1][0][1]],\n",
    "        [C[1][0][1][0], C[1][0][1][1], C[1][1][1][0], C[1][1][1][1]]\n",
    "    ])\n",
    "\n",
    "    return D\n",
    "\n",
    "Rgate = tensor(Identity, RzRy)\n",
    "Rgate_dagger = tensor(Identity, RzRy_dagger)\n",
    "\n",
    "\n",
    "M1 = Rgate_dagger  * CNOT2\n",
    "\n",
    "M2 = CNOT * M1\n",
    "\n",
    "M3 = Rgate * M2\n",
    "\n",
    "M4 = CNOT2 * M3\n",
    "\n",
    "M4\n",
    "\n"
   ]
  },
  {
   "cell_type": "code",
   "execution_count": 8,
   "metadata": {},
   "outputs": [
    {
     "data": {
      "text/latex": [
       "$\\displaystyle \\frac{1}{\\sqrt{2}}\\left[\\begin{matrix}1 & 1\\\\1 & -1\\end{matrix}\\right]\\left[\\begin{matrix}1\\\\0\\end{matrix}\\right] = \\frac{1}{\\sqrt{2}}\\left[\\begin{matrix}1\\\\0\\end{matrix}\\right] + \\frac{1}{\\sqrt{2}}\\left[\\begin{matrix}0\\\\1\\end{matrix}\\right]$"
      ],
      "text/plain": [
       "<IPython.core.display.Math object>"
      ]
     },
     "metadata": {},
     "output_type": "display_data"
    }
   ],
   "source": [
    "from networkx import identified_nodes\n",
    "from numpy import disp\n",
    "from sympy import symbols, Matrix, cos, sin, init_printing, pi, exp, I,  Rational, sqrt, symbols\n",
    "from sympy import UnevaluatedExpr, latex\n",
    "from IPython.display import Math\n",
    "from sympy.tensor.array import tensorproduct\n",
    "from sympy.physics.quantum import Dagger\n",
    "\n",
    "q1 = Matrix([\n",
    "    [1],\n",
    "    [0]\n",
    "])\n",
    "\n",
    "q2 = Matrix([\n",
    "    [0],\n",
    "    [1]\n",
    "])\n",
    "\n",
    "two = symbols('2')\n",
    "\n",
    "# 스칼라를 행렬 외부에 표시\n",
    "scalar = 1/sqrt(two)\n",
    "\n",
    "# 행렬 정의\n",
    "Hgate_matrix = Matrix([\n",
    "    [1, 1],\n",
    "    [1, -1]\n",
    "])\n",
    "\n",
    "latex_q1 = latex(q1)\n",
    "latex_q2 = latex(q2)\n",
    "latax_sc = latex(scalar)\n",
    "latax_H = latex(Hgate_matrix)\n",
    "\n",
    "display_latex = f'{latax_sc}{latax_H}{latex_q1} = {latax_sc}{latex_q1} + {latax_sc}{latex_q2}'\n",
    "display(Math(display_latex))"
   ]
  },
  {
   "cell_type": "code",
   "execution_count": 9,
   "metadata": {},
   "outputs": [
    {
     "name": "stdout",
     "output_type": "stream",
     "text": [
      "apple: red\n",
      "banana: yellow\n",
      "cherry: red\n",
      "\u001b[1A\u001b[1A\u001b[1Aapple: red\n",
      "banana: yellow\n",
      "cherry: red\n"
     ]
    }
   ],
   "source": [
    "import time\n",
    "\n",
    "# 딕셔너리 예시\n",
    "my_dict = {\n",
    "    'apple': 'red',\n",
    "    'banana': 'yellow',\n",
    "    'cherry': 'red'\n",
    "}\n",
    "\n",
    "# 각 원소를 개별적으로 출력\n",
    "for key, value in my_dict.items():\n",
    "    print(f\"{key}: {value}\")\n",
    "    time.sleep(1)  # 잠시 대기\n",
    "\n",
    "# 커서를 각 항목 수만큼 위로 이동\n",
    "for _ in my_dict:\n",
    "    print('\\x1b[1A', end='')  # 커서 한 줄 위로 이동\n",
    "\n",
    "# 같은 위치에서 다시 출력\n",
    "for key, value in my_dict.items():\n",
    "    print(f\"{key}: {value}\")\n"
   ]
  },
  {
   "cell_type": "code",
   "execution_count": 10,
   "metadata": {},
   "outputs": [
    {
     "data": {
      "text/latex": [
       "$\\displaystyle \\left[\\begin{matrix}e^{- i \\phi} \\sin^{2}{\\left(\\frac{\\theta}{2} \\right)} + e^{- i \\phi} \\cos^{2}{\\left(\\frac{\\theta}{2} \\right)} & 0 & 0 & 0\\\\0 & 2 \\sin{\\left(\\frac{\\theta}{2} \\right)} \\cos{\\left(\\frac{\\theta}{2} \\right)} & - \\sin^{2}{\\left(\\frac{\\theta}{2} \\right)} + \\cos^{2}{\\left(\\frac{\\theta}{2} \\right)} & 0\\\\0 & - \\sin^{2}{\\left(\\frac{\\theta}{2} \\right)} + \\cos^{2}{\\left(\\frac{\\theta}{2} \\right)} & - 2 \\sin{\\left(\\frac{\\theta}{2} \\right)} \\cos{\\left(\\frac{\\theta}{2} \\right)} & 0\\\\0 & 0 & 0 & e^{i \\phi} \\sin^{2}{\\left(\\frac{\\theta}{2} \\right)} + e^{i \\phi} \\cos^{2}{\\left(\\frac{\\theta}{2} \\right)}\\end{matrix}\\right]$"
      ],
      "text/plain": [
       "⎡ -ⅈ⋅φ    2⎛θ⎞    -ⅈ⋅φ    2⎛θ⎞                                                \n",
       "⎢ℯ    ⋅sin ⎜─⎟ + ℯ    ⋅cos ⎜─⎟           0                    0               \n",
       "⎢          ⎝2⎠             ⎝2⎠                                                \n",
       "⎢                                                                             \n",
       "⎢                                      ⎛θ⎞    ⎛θ⎞         2⎛θ⎞      2⎛θ⎞      \n",
       "⎢              0                  2⋅sin⎜─⎟⋅cos⎜─⎟    - sin ⎜─⎟ + cos ⎜─⎟      \n",
       "⎢                                      ⎝2⎠    ⎝2⎠          ⎝2⎠       ⎝2⎠      \n",
       "⎢                                                                             \n",
       "⎢                                    2⎛θ⎞      2⎛θ⎞         ⎛θ⎞    ⎛θ⎞        \n",
       "⎢              0                - sin ⎜─⎟ + cos ⎜─⎟   -2⋅sin⎜─⎟⋅cos⎜─⎟        \n",
       "⎢                                     ⎝2⎠       ⎝2⎠         ⎝2⎠    ⎝2⎠        \n",
       "⎢                                                                             \n",
       "⎢                                                                          ⅈ⋅φ\n",
       "⎢              0                         0                    0           ℯ   \n",
       "⎣                                                                             \n",
       "\n",
       "                       ⎤\n",
       "         0             ⎥\n",
       "                       ⎥\n",
       "                       ⎥\n",
       "                       ⎥\n",
       "         0             ⎥\n",
       "                       ⎥\n",
       "                       ⎥\n",
       "                       ⎥\n",
       "         0             ⎥\n",
       "                       ⎥\n",
       "                       ⎥\n",
       "    2⎛θ⎞    ⅈ⋅φ    2⎛θ⎞⎥\n",
       "⋅sin ⎜─⎟ + ℯ   ⋅cos ⎜─⎟⎥\n",
       "     ⎝2⎠            ⎝2⎠⎦"
      ]
     },
     "execution_count": 10,
     "metadata": {},
     "output_type": "execute_result"
    }
   ],
   "source": [
    "Z1 = tensor(Rz, Rz)\n",
    "\n",
    "Y1 = tensor(Identity, Ry_dagger)\n",
    "Y2 = tensor(Identity, Ry)\n",
    "\n",
    "N1 = Y1 * CNOT2 * Z1\n",
    "N2 = CNOT * N1\n",
    "N3 = Y2 * N2\n",
    "N4 = CNOT2 * N3\n",
    "N4\n"
   ]
  },
  {
   "cell_type": "code",
   "execution_count": 11,
   "metadata": {},
   "outputs": [
    {
     "data": {
      "text/latex": [
       "$\\displaystyle \\left[\\begin{matrix}1 & 0 & 0 & 0\\\\0 & \\cos{\\left(\\theta \\right)} & e^{- \\frac{i \\phi}{2}} \\sin{\\left(\\theta \\right)} & 0\\\\0 & e^{\\frac{i \\phi}{2}} \\sin{\\left(\\theta \\right)} & - \\cos{\\left(\\theta \\right)} & 0\\\\0 & 0 & 0 & 1\\end{matrix}\\right]$"
      ],
      "text/plain": [
       "⎡1       0             0        0⎤\n",
       "⎢                                ⎥\n",
       "⎢                 -ⅈ⋅φ           ⎥\n",
       "⎢                 ─────          ⎥\n",
       "⎢                   2            ⎥\n",
       "⎢0    cos(θ)     ℯ     ⋅sin(θ)  0⎥\n",
       "⎢                                ⎥\n",
       "⎢    ⅈ⋅φ                         ⎥\n",
       "⎢    ───                         ⎥\n",
       "⎢     2                          ⎥\n",
       "⎢0  ℯ   ⋅sin(θ)     -cos(θ)     0⎥\n",
       "⎢                                ⎥\n",
       "⎣0       0             0        1⎦"
      ]
     },
     "execution_count": 11,
     "metadata": {},
     "output_type": "execute_result"
    }
   ],
   "source": [
    "\n",
    "Ua = Matrix([\n",
    "    [1, 0, 0, 0],\n",
    "    [0, 1, 0, 0],\n",
    "    [0, 0, 0, exp(-I * phi / 2)],\n",
    "    [0, 0, exp(-I * phi / 2), 0]\n",
    "])\n",
    "\n",
    "Ub = Matrix([\n",
    "    [1, 0, 0, 0],\n",
    "    [0, cos(theta), 0, sin(theta)],\n",
    "    [0, 0, 1, 0],\n",
    "    [0, sin(theta), 0, -cos(theta)]\n",
    "])\n",
    "\n",
    "Uc = Matrix([\n",
    "    [1, 0, 0, 0],\n",
    "    [0, 1, 0, 0],\n",
    "    [0, 0, 0, exp(I * phi / 2)],\n",
    "    [0, 0, exp(I * phi / 2), 0]\n",
    "])\n",
    "\n",
    "U = Uc * Ub * Ua\n",
    "\n",
    "U"
   ]
  },
  {
   "cell_type": "code",
   "execution_count": 12,
   "metadata": {},
   "outputs": [
    {
     "data": {
      "text/latex": [
       "$\\displaystyle \\left[\\begin{matrix}1 & 0 & 0 & 0\\\\0 & \\cos{\\left(\\theta \\right)} & i \\sin{\\left(\\theta \\right)} & 0\\\\0 & - i \\sin{\\left(\\theta \\right)} & \\cos{\\left(\\theta \\right)} & 0\\\\0 & 0 & 0 & 1\\end{matrix}\\right]$"
      ],
      "text/plain": [
       "⎡1      0         0      0⎤\n",
       "⎢                         ⎥\n",
       "⎢0   cos(θ)    ⅈ⋅sin(θ)  0⎥\n",
       "⎢                         ⎥\n",
       "⎢0  -ⅈ⋅sin(θ)   cos(θ)   0⎥\n",
       "⎢                         ⎥\n",
       "⎣0      0         0      1⎦"
      ]
     },
     "execution_count": 12,
     "metadata": {},
     "output_type": "execute_result"
    }
   ],
   "source": [
    "\n",
    "Ua = Matrix([\n",
    "    [1, 0, 0, 0],\n",
    "    [0, 1, 0, 0],\n",
    "    [0, 0, 0, 1],\n",
    "    [0, 0, 1, 0]\n",
    "])\n",
    "\n",
    "Ub = Matrix([\n",
    "    [1, 0, 0, 0],\n",
    "    [0, cos(theta), 0, I * sin(theta)],\n",
    "    [0, 0, 1, 0],\n",
    "    [0, -I * sin(theta), 0, cos(theta)]\n",
    "])\n",
    "\n",
    "Uc = Ua\n",
    "\n",
    "U = Uc * Ub * Ua\n",
    "\n",
    "U"
   ]
  },
  {
   "cell_type": "code",
   "execution_count": 13,
   "metadata": {},
   "outputs": [
    {
     "data": {
      "text/latex": [
       "$\\displaystyle \\left[\\begin{matrix}2 \\sin{\\left(\\frac{\\theta}{2} \\right)} \\cos{\\left(\\frac{\\theta}{2} \\right)} & \\left(- \\sin^{2}{\\left(\\frac{\\theta}{2} \\right)} + \\cos^{2}{\\left(\\frac{\\theta}{2} \\right)}\\right) e^{- \\frac{i \\pi}{4}}\\\\- e^{- \\frac{i \\pi}{4}} \\sin^{2}{\\left(\\frac{\\theta}{2} \\right)} + e^{- \\frac{i \\pi}{4}} \\cos^{2}{\\left(\\frac{\\theta}{2} \\right)} & - 2 \\left(- i\\right) \\sin{\\left(\\frac{\\theta}{2} \\right)} \\cos{\\left(\\frac{\\theta}{2} \\right)}\\end{matrix}\\right]$"
      ],
      "text/plain": [
       "⎡                                                          -ⅈ⋅π ⎤\n",
       "⎢                                                          ─────⎥\n",
       "⎢              ⎛θ⎞    ⎛θ⎞           ⎛     2⎛θ⎞      2⎛θ⎞⎞    4  ⎥\n",
       "⎢         2⋅sin⎜─⎟⋅cos⎜─⎟           ⎜- sin ⎜─⎟ + cos ⎜─⎟⎟⋅ℯ     ⎥\n",
       "⎢              ⎝2⎠    ⎝2⎠           ⎝      ⎝2⎠       ⎝2⎠⎠       ⎥\n",
       "⎢                                                               ⎥\n",
       "⎢   -ⅈ⋅π             -ⅈ⋅π                                       ⎥\n",
       "⎢   ─────            ─────                                      ⎥\n",
       "⎢     4      2⎛θ⎞      4      2⎛θ⎞               ⎛θ⎞    ⎛θ⎞     ⎥\n",
       "⎢- ℯ     ⋅sin ⎜─⎟ + ℯ     ⋅cos ⎜─⎟      -2⋅-ⅈ⋅sin⎜─⎟⋅cos⎜─⎟     ⎥\n",
       "⎣             ⎝2⎠              ⎝2⎠               ⎝2⎠    ⎝2⎠     ⎦"
      ]
     },
     "execution_count": 13,
     "metadata": {},
     "output_type": "execute_result"
    }
   ],
   "source": [
    "from re import M\n",
    "\n",
    "\n",
    "P = Matrix([\n",
    "    [1, 0],\n",
    "    [0, exp(I * pi / 4)]\n",
    "])\n",
    "\n",
    "Ry = Matrix([\n",
    "    [cos(theta/2), -sin(theta/2)],\n",
    "    [sin(theta/2), cos(theta/2)]\n",
    "])\n",
    "\n",
    "Ry_m = Matrix([\n",
    "    [cos(theta/2), sin(theta/2)],\n",
    "    [-sin(theta/2), cos(theta/2)]\n",
    "])\n",
    "\n",
    "X = Matrix([\n",
    "    [0, 1],\n",
    "    [1, 0]\n",
    "])\n",
    "\n",
    "P_m = Matrix([\n",
    "    [1, 0],\n",
    "    [0, exp(-I * pi / 4)]\n",
    "])\n",
    "\n",
    "result = P_m * Ry_m * X * Ry * P_m\n",
    "\n",
    "result"
   ]
  }
 ],
 "metadata": {
  "kernelspec": {
   "display_name": "base",
   "language": "python",
   "name": "python3"
  },
  "language_info": {
   "codemirror_mode": {
    "name": "ipython",
    "version": 3
   },
   "file_extension": ".py",
   "mimetype": "text/x-python",
   "name": "python",
   "nbconvert_exporter": "python",
   "pygments_lexer": "ipython3",
   "version": "3.11.7"
  }
 },
 "nbformat": 4,
 "nbformat_minor": 2
}
