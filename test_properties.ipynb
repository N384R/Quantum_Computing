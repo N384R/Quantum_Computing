{
 "cells": [
  {
   "cell_type": "code",
   "execution_count": 1,
   "metadata": {},
   "outputs": [
    {
     "name": "stdout",
     "output_type": "stream",
     "text": [
      "+ 1.322808287195543 1^ 0 + 1.322808287195543 3^ 2 \n",
      "+ (0.330702071798886)i YXII + (0.330702071798886) XXII + (0.330702071798886) YYII - (0.330702071798886)i XYII + (0.330702071798886)i IIYX + (0.330702071798886) IIXX + (0.330702071798886) IIYY - (0.330702071798886)i IIXY \n"
     ]
    }
   ],
   "source": [
    "from itertools import combinations\n",
    "import numpy as np\n",
    "from pyscf import gto\n",
    "from jqc.mapper.jordan_wigner import JordanWignerMapper\n",
    "\n",
    "def dipole_moment(mol):\n",
    "    'Generate the dipole moment in the second quantization form.'\n",
    "    coords = mol.atom_coords()\n",
    "    no = 2\n",
    "    second_q = ''\n",
    "    for i, j in combinations(range(len(coords)), 2):\n",
    "        r = np.linalg.norm(coords[i] - coords[j])\n",
    "        second_q += f'+ {r} {j}^ {i} '\n",
    "        second_q += f'+ {r} {j + no}^ {i + no} '\n",
    "    print(second_q)\n",
    "    return JordanWignerMapper(second_q)\n",
    "\n",
    "mol = gto.M(atom='H 0 0 0; H 0 0 0.70', basis='sto-3g')\n",
    "\n",
    "second_q = dipole_moment(mol)\n",
    "\n",
    "print(second_q)"
   ]
  },
  {
   "cell_type": "code",
   "execution_count": null,
   "metadata": {},
   "outputs": [],
   "source": [
    "from pyscf import gto\n",
    "from jqc import VQE, VQD, SSVQE\n",
    "from jqc.ansatz import eUCCSD\n",
    "from jqc.simulator import QASM\n",
    "from jqc.measure.dipole_moment import dipole_moment\n",
    "\n",
    "from pyscf import gto\n",
    "from jqc import VQE, VQD, SSVQE\n",
    "from jqc.ansatz import eUCCSD\n",
    "\n",
    "mol = gto.M(atom='H 0 0 0; H 0 0 0.70', basis='sto-3g')\n",
    "ssvqe = SSVQE(mol, eUCCSD())\n",
    "ssvqe.verbose = False\n",
    "\n",
    "ssvqe.run()\n",
    "\n",
    "# ssvqe.simulator = QASM()\n",
    "dipole_moment = dipole_moment(ssvqe.profiles[0])\n",
    "ssvqe.transition_matrix(dipole_moment)\n"
   ]
  }
 ],
 "metadata": {
  "kernelspec": {
   "display_name": "base",
   "language": "python",
   "name": "python3"
  },
  "language_info": {
   "codemirror_mode": {
    "name": "ipython",
    "version": 3
   },
   "file_extension": ".py",
   "mimetype": "text/x-python",
   "name": "python",
   "nbconvert_exporter": "python",
   "pygments_lexer": "ipython3",
   "version": "3.11.7"
  }
 },
 "nbformat": 4,
 "nbformat_minor": 2
}
