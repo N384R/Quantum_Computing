{
 "cells": [
  {
   "cell_type": "markdown",
   "metadata": {},
   "source": [
    "**Dipole Moment**"
   ]
  },
  {
   "cell_type": "code",
   "execution_count": 1,
   "metadata": {},
   "outputs": [
    {
     "name": "stdout",
     "output_type": "stream",
     "text": [
      "+ 1.322808287195543 1^ 0 + 1.322808287195543 3^ 2 \n",
      "+ (0.330702071798886)i YXII + (0.330702071798886) XXII + (0.330702071798886) YYII - (0.330702071798886)i XYII + (0.330702071798886)i IIYX + (0.330702071798886) IIXX + (0.330702071798886) IIYY - (0.330702071798886)i IIXY \n"
     ]
    }
   ],
   "source": [
    "from itertools import combinations\n",
    "import numpy as np\n",
    "from pyscf import gto\n",
    "from jqc.mapper.jordan_wigner import JordanWignerMapper\n",
    "\n",
    "def dipole_moment(mol):\n",
    "    'Generate the dipole moment in the second quantization form.'\n",
    "    coords = mol.atom_coords()\n",
    "    no = 2\n",
    "    second_q = ''\n",
    "    for i, j in combinations(range(len(coords)), 2):\n",
    "        r = np.linalg.norm(coords[i] - coords[j])\n",
    "        second_q += f'+ {r} {j}^ {i} '\n",
    "        second_q += f'+ {r} {j + no}^ {i + no} '\n",
    "    print(second_q)\n",
    "    return JordanWignerMapper(second_q)\n",
    "\n",
    "mol = gto.M(atom='H 0 0 0; H 0 0 0.70', basis='sto-3g')\n",
    "\n",
    "second_q = dipole_moment(mol)\n",
    "\n",
    "print(second_q)"
   ]
  },
  {
   "cell_type": "markdown",
   "metadata": {},
   "source": [
    "**Transition Matrix element**"
   ]
  },
  {
   "cell_type": "code",
   "execution_count": 1,
   "metadata": {},
   "outputs": [
    {
     "name": "stdout",
     "output_type": "stream",
     "text": [
      "- (0.250000000000000)i YZXI + (0.250000000000000) YZYI + (0.250000000000000) XZXI + (0.250000000000000)i XZYI - (0.250000000000000)i IYZX + (0.250000000000000) IYZY + (0.250000000000000) IXZX + (0.250000000000000)i IXZY \n"
     ]
    },
    {
     "ename": "TypeError",
     "evalue": "attribute name must be string, not 'int'",
     "output_type": "error",
     "traceback": [
      "\u001b[0;31m---------------------------------------------------------------------------\u001b[0m",
      "\u001b[0;31mTypeError\u001b[0m                                 Traceback (most recent call last)",
      "Cell \u001b[0;32mIn[1], line 19\u001b[0m\n\u001b[1;32m     17\u001b[0m \u001b[38;5;66;03m# ssvqe.simulator = QASM()\u001b[39;00m\n\u001b[1;32m     18\u001b[0m dipole_moment \u001b[38;5;241m=\u001b[39m dipole_moment(ssvqe\u001b[38;5;241m.\u001b[39mprofiles[\u001b[38;5;241m0\u001b[39m])\n\u001b[0;32m---> 19\u001b[0m ssvqe\u001b[38;5;241m.\u001b[39mtransition_matrix(dipole_moment)\n",
      "File \u001b[0;32m~/GitHub/Quantum_Computing/jqc/vqe/ssvqe.py:164\u001b[0m, in \u001b[0;36mSSVQE.transition_matrix\u001b[0;34m(self, operator)\u001b[0m\n\u001b[1;32m    161\u001b[0m     imag \u001b[38;5;241m=\u001b[39m measure_value(\u001b[38;5;124m'\u001b[39m\u001b[38;5;124mimag\u001b[39m\u001b[38;5;124m'\u001b[39m)\n\u001b[1;32m    162\u001b[0m     \u001b[38;5;28;01mreturn\u001b[39;00m real \u001b[38;5;241m+\u001b[39m \u001b[38;5;241m1\u001b[39mj \u001b[38;5;241m*\u001b[39m imag\n\u001b[0;32m--> 164\u001b[0m matrix \u001b[38;5;241m=\u001b[39m [[transition_matrix_element(state1, state2)\n\u001b[1;32m    165\u001b[0m            \u001b[38;5;28;01mfor\u001b[39;00m state1 \u001b[38;5;129;01min\u001b[39;00m \u001b[38;5;28mself\u001b[39m\u001b[38;5;241m.\u001b[39mprofile]\n\u001b[1;32m    166\u001b[0m           \u001b[38;5;28;01mfor\u001b[39;00m state2 \u001b[38;5;129;01min\u001b[39;00m \u001b[38;5;28mself\u001b[39m\u001b[38;5;241m.\u001b[39mprofile]\n\u001b[1;32m    167\u001b[0m \u001b[38;5;28;01mreturn\u001b[39;00m matrix\n",
      "File \u001b[0;32m~/GitHub/Quantum_Computing/jqc/vqe/ssvqe.py:164\u001b[0m, in \u001b[0;36m<listcomp>\u001b[0;34m(.0)\u001b[0m\n\u001b[1;32m    161\u001b[0m     imag \u001b[38;5;241m=\u001b[39m measure_value(\u001b[38;5;124m'\u001b[39m\u001b[38;5;124mimag\u001b[39m\u001b[38;5;124m'\u001b[39m)\n\u001b[1;32m    162\u001b[0m     \u001b[38;5;28;01mreturn\u001b[39;00m real \u001b[38;5;241m+\u001b[39m \u001b[38;5;241m1\u001b[39mj \u001b[38;5;241m*\u001b[39m imag\n\u001b[0;32m--> 164\u001b[0m matrix \u001b[38;5;241m=\u001b[39m [[transition_matrix_element(state1, state2)\n\u001b[1;32m    165\u001b[0m            \u001b[38;5;28;01mfor\u001b[39;00m state1 \u001b[38;5;129;01min\u001b[39;00m \u001b[38;5;28mself\u001b[39m\u001b[38;5;241m.\u001b[39mprofile]\n\u001b[1;32m    166\u001b[0m           \u001b[38;5;28;01mfor\u001b[39;00m state2 \u001b[38;5;129;01min\u001b[39;00m \u001b[38;5;28mself\u001b[39m\u001b[38;5;241m.\u001b[39mprofile]\n\u001b[1;32m    167\u001b[0m \u001b[38;5;28;01mreturn\u001b[39;00m matrix\n",
      "File \u001b[0;32m~/GitHub/Quantum_Computing/jqc/vqe/profile.py:31\u001b[0m, in \u001b[0;36mProfile.__getitem__\u001b[0;34m(self, key)\u001b[0m\n\u001b[1;32m     30\u001b[0m \u001b[38;5;28;01mdef\u001b[39;00m \u001b[38;5;21m__getitem__\u001b[39m(\u001b[38;5;28mself\u001b[39m, key):\n\u001b[0;32m---> 31\u001b[0m     \u001b[38;5;28;01mreturn\u001b[39;00m \u001b[38;5;28mgetattr\u001b[39m(\u001b[38;5;28mself\u001b[39m, key)\n",
      "\u001b[0;31mTypeError\u001b[0m: attribute name must be string, not 'int'"
     ]
    }
   ],
   "source": [
    "from pyscf import gto\n",
    "from jqc import VQE, VQD, SSVQE\n",
    "from jqc.ansatz import eUCCSD\n",
    "from jqc.simulator import QASM\n",
    "from jqc.measure.dipole_moment import dipole_moment\n",
    "\n",
    "from pyscf import gto\n",
    "from jqc import VQE, VQD, SSVQE\n",
    "from jqc.ansatz import eUCCSD\n",
    "\n",
    "mol = gto.M(atom='H 0 0 0; H 0 0 0.70', basis='sto-3g')\n",
    "ssvqe = SSVQE(mol, eUCCSD())\n",
    "ssvqe.verbose = False\n",
    "\n",
    "ssvqe.run()\n",
    "\n",
    "# ssvqe.simulator = QASM()\n",
    "dipole_moment = dipole_moment(ssvqe.profiles[0])\n",
    "ssvqe.transition_matrix(dipole_moment)\n"
   ]
  },
  {
   "cell_type": "markdown",
   "metadata": {},
   "source": [
    "**Molecular Spin Measure**"
   ]
  },
  {
   "cell_type": "code",
   "execution_count": 1,
   "metadata": {},
   "outputs": [
    {
     "name": "stdout",
     "output_type": "stream",
     "text": [
      "\n",
      "Starting VQD Calculation\n",
      "\n",
      "Ansatz: eUCCSD\n",
      "Simulator: StateVector\n",
      "Optimizer: powell\n",
      "nstates: 3\n",
      "\n",
      "State 0:\n",
      "Iteration: 96, Energy: -1.136189454\r"
     ]
    },
    {
     "ename": "TypeError",
     "evalue": "unsupported operand type(s) for *: 'dict' and 'dict'",
     "output_type": "error",
     "traceback": [
      "\u001b[0;31m---------------------------------------------------------------------------\u001b[0m",
      "\u001b[0;31mTypeError\u001b[0m                                 Traceback (most recent call last)",
      "Cell \u001b[0;32mIn[1], line 9\u001b[0m\n\u001b[1;32m      6\u001b[0m vqd \u001b[38;5;241m=\u001b[39m VQD(mol, eUCCSD())\n\u001b[1;32m      7\u001b[0m vqd\u001b[38;5;241m.\u001b[39mnstates \u001b[38;5;241m=\u001b[39m \u001b[38;5;241m3\u001b[39m\n\u001b[0;32m----> 9\u001b[0m vqd\u001b[38;5;241m.\u001b[39mrun()\n",
      "File \u001b[0;32m~/GitHub/Quantum_Computing/jqc/vqe/vqe.py:110\u001b[0m, in \u001b[0;36mVQE.verbose_print.<locals>.wrapper.<locals>.inner_wrapper\u001b[0;34m(self, *args, **kwargs)\u001b[0m\n\u001b[1;32m    108\u001b[0m \u001b[38;5;28;01mdef\u001b[39;00m \u001b[38;5;21minner_wrapper\u001b[39m(\u001b[38;5;28mself\u001b[39m, \u001b[38;5;241m*\u001b[39margs, \u001b[38;5;241m*\u001b[39m\u001b[38;5;241m*\u001b[39mkwargs):\n\u001b[1;32m    109\u001b[0m     \u001b[38;5;28;01mif\u001b[39;00m \u001b[38;5;28mself\u001b[39m\u001b[38;5;241m.\u001b[39mverbose:\n\u001b[0;32m--> 110\u001b[0m         \u001b[38;5;28;01mreturn\u001b[39;00m decorator(func)(\u001b[38;5;28mself\u001b[39m, \u001b[38;5;241m*\u001b[39margs, \u001b[38;5;241m*\u001b[39m\u001b[38;5;241m*\u001b[39mkwargs)\n\u001b[1;32m    111\u001b[0m     \u001b[38;5;28;01mreturn\u001b[39;00m func(\u001b[38;5;28mself\u001b[39m, \u001b[38;5;241m*\u001b[39margs, \u001b[38;5;241m*\u001b[39m\u001b[38;5;241m*\u001b[39mkwargs)\n",
      "File \u001b[0;32m~/GitHub/Quantum_Computing/jqc/vqe/vqd.py:83\u001b[0m, in \u001b[0;36mVQD.general_output.<locals>.wrapper\u001b[0;34m(self, *args, **kwargs)\u001b[0m\n\u001b[1;32m     81\u001b[0m \u001b[38;5;28mprint\u001b[39m(\u001b[38;5;124mf\u001b[39m\u001b[38;5;124m'\u001b[39m\u001b[38;5;124mnstates: \u001b[39m\u001b[38;5;132;01m{\u001b[39;00m\u001b[38;5;28mself\u001b[39m\u001b[38;5;241m.\u001b[39mnstates\u001b[38;5;132;01m}\u001b[39;00m\u001b[38;5;130;01m\\n\u001b[39;00m\u001b[38;5;124m'\u001b[39m)\n\u001b[1;32m     82\u001b[0m start \u001b[38;5;241m=\u001b[39m datetime\u001b[38;5;241m.\u001b[39mdatetime\u001b[38;5;241m.\u001b[39mnow()\n\u001b[0;32m---> 83\u001b[0m result \u001b[38;5;241m=\u001b[39m func(\u001b[38;5;28mself\u001b[39m, \u001b[38;5;241m*\u001b[39margs, \u001b[38;5;241m*\u001b[39m\u001b[38;5;241m*\u001b[39mkwargs)\n\u001b[1;32m     84\u001b[0m elapsed \u001b[38;5;241m=\u001b[39m \u001b[38;5;28mstr\u001b[39m(datetime\u001b[38;5;241m.\u001b[39mdatetime\u001b[38;5;241m.\u001b[39mnow() \u001b[38;5;241m-\u001b[39m start)\n\u001b[1;32m     85\u001b[0m \u001b[38;5;28mprint\u001b[39m(\u001b[38;5;124m'\u001b[39m\u001b[38;5;124mFinal State Energies:\u001b[39m\u001b[38;5;124m'\u001b[39m)\n",
      "File \u001b[0;32m~/GitHub/Quantum_Computing/jqc/vqe/vqd.py:100\u001b[0m, in \u001b[0;36mVQD.run\u001b[0;34m(self)\u001b[0m\n\u001b[1;32m     98\u001b[0m     \u001b[38;5;28mself\u001b[39m\u001b[38;5;241m.\u001b[39mprofile\u001b[38;5;241m.\u001b[39mstate \u001b[38;5;241m=\u001b[39m i\n\u001b[1;32m     99\u001b[0m     \u001b[38;5;28mself\u001b[39m\u001b[38;5;241m.\u001b[39m_config[\u001b[38;5;124m'\u001b[39m\u001b[38;5;124miteration\u001b[39m\u001b[38;5;124m'\u001b[39m] \u001b[38;5;241m=\u001b[39m \u001b[38;5;241m0\u001b[39m\n\u001b[0;32m--> 100\u001b[0m     \u001b[38;5;28mself\u001b[39m\u001b[38;5;241m.\u001b[39m_run()\n\u001b[1;32m    101\u001b[0m     \u001b[38;5;28mself\u001b[39m\u001b[38;5;241m.\u001b[39mprofiles\u001b[38;5;241m.\u001b[39mupdate(\u001b[38;5;28mself\u001b[39m\u001b[38;5;241m.\u001b[39mprofile)\n\u001b[1;32m    102\u001b[0m \u001b[38;5;28;01mreturn\u001b[39;00m \u001b[38;5;28mself\u001b[39m\u001b[38;5;241m.\u001b[39mprofiles\n",
      "File \u001b[0;32m~/GitHub/Quantum_Computing/jqc/vqe/vqe.py:110\u001b[0m, in \u001b[0;36mVQE.verbose_print.<locals>.wrapper.<locals>.inner_wrapper\u001b[0;34m(self, *args, **kwargs)\u001b[0m\n\u001b[1;32m    108\u001b[0m \u001b[38;5;28;01mdef\u001b[39;00m \u001b[38;5;21minner_wrapper\u001b[39m(\u001b[38;5;28mself\u001b[39m, \u001b[38;5;241m*\u001b[39margs, \u001b[38;5;241m*\u001b[39m\u001b[38;5;241m*\u001b[39mkwargs):\n\u001b[1;32m    109\u001b[0m     \u001b[38;5;28;01mif\u001b[39;00m \u001b[38;5;28mself\u001b[39m\u001b[38;5;241m.\u001b[39mverbose:\n\u001b[0;32m--> 110\u001b[0m         \u001b[38;5;28;01mreturn\u001b[39;00m decorator(func)(\u001b[38;5;28mself\u001b[39m, \u001b[38;5;241m*\u001b[39margs, \u001b[38;5;241m*\u001b[39m\u001b[38;5;241m*\u001b[39mkwargs)\n\u001b[1;32m    111\u001b[0m     \u001b[38;5;28;01mreturn\u001b[39;00m func(\u001b[38;5;28mself\u001b[39m, \u001b[38;5;241m*\u001b[39margs, \u001b[38;5;241m*\u001b[39m\u001b[38;5;241m*\u001b[39mkwargs)\n",
      "File \u001b[0;32m~/GitHub/Quantum_Computing/jqc/vqe/vqd.py:63\u001b[0m, in \u001b[0;36mVQD.normal_output.<locals>.wrapper\u001b[0;34m(self, *args, **kwargs)\u001b[0m\n\u001b[1;32m     61\u001b[0m \u001b[38;5;28;01mdef\u001b[39;00m \u001b[38;5;21mwrapper\u001b[39m(\u001b[38;5;28mself\u001b[39m, \u001b[38;5;241m*\u001b[39margs, \u001b[38;5;241m*\u001b[39m\u001b[38;5;241m*\u001b[39mkwargs):\n\u001b[1;32m     62\u001b[0m     \u001b[38;5;28mprint\u001b[39m(\u001b[38;5;124mf\u001b[39m\u001b[38;5;124m'\u001b[39m\u001b[38;5;124mState \u001b[39m\u001b[38;5;132;01m{\u001b[39;00m\u001b[38;5;28mself\u001b[39m\u001b[38;5;241m.\u001b[39mprofile\u001b[38;5;241m.\u001b[39mstate\u001b[38;5;132;01m}\u001b[39;00m\u001b[38;5;124m:\u001b[39m\u001b[38;5;124m'\u001b[39m)\n\u001b[0;32m---> 63\u001b[0m     result \u001b[38;5;241m=\u001b[39m func(\u001b[38;5;28mself\u001b[39m, \u001b[38;5;241m*\u001b[39margs, \u001b[38;5;241m*\u001b[39m\u001b[38;5;241m*\u001b[39mkwargs)\n\u001b[1;32m     64\u001b[0m     \u001b[38;5;28mprint\u001b[39m(\u001b[38;5;124mf\u001b[39m\u001b[38;5;124m\"\u001b[39m\u001b[38;5;124mIteration: \u001b[39m\u001b[38;5;132;01m{\u001b[39;00m\u001b[38;5;28mself\u001b[39m\u001b[38;5;241m.\u001b[39miteration()\u001b[38;5;132;01m}\u001b[39;00m\u001b[38;5;124m, Converged!!         \u001b[39m\u001b[38;5;124m\"\u001b[39m)\n\u001b[1;32m     65\u001b[0m     \u001b[38;5;28mprint\u001b[39m(\u001b[38;5;124mf\u001b[39m\u001b[38;5;124m'\u001b[39m\u001b[38;5;124mTotal Energy: \u001b[39m\u001b[38;5;132;01m{\u001b[39;00mresult\u001b[38;5;241m.\u001b[39menergy_total()\u001b[38;5;132;01m:\u001b[39;00m\u001b[38;5;124m12.09f\u001b[39m\u001b[38;5;132;01m}\u001b[39;00m\u001b[38;5;130;01m\\n\u001b[39;00m\u001b[38;5;124m'\u001b[39m)\n",
      "File \u001b[0;32m~/GitHub/Quantum_Computing/jqc/vqe/vqd.py:71\u001b[0m, in \u001b[0;36mVQD._run\u001b[0;34m(self)\u001b[0m\n\u001b[1;32m     69\u001b[0m \u001b[38;5;129m@verbose_print\u001b[39m(normal_output)\n\u001b[1;32m     70\u001b[0m \u001b[38;5;28;01mdef\u001b[39;00m \u001b[38;5;21m_run\u001b[39m(\u001b[38;5;28mself\u001b[39m):\n\u001b[0;32m---> 71\u001b[0m     \u001b[38;5;28;01mreturn\u001b[39;00m \u001b[38;5;28msuper\u001b[39m()\u001b[38;5;241m.\u001b[39m_run()\n",
      "File \u001b[0;32m~/GitHub/Quantum_Computing/jqc/vqe/vqe.py:166\u001b[0m, in \u001b[0;36mVQE._run\u001b[0;34m(self)\u001b[0m\n\u001b[1;32m    164\u001b[0m \u001b[38;5;28mself\u001b[39m\u001b[38;5;241m.\u001b[39mprofile\u001b[38;5;241m.\u001b[39mcoeff \u001b[38;5;241m=\u001b[39m optimized\u001b[38;5;241m.\u001b[39mx\n\u001b[1;32m    165\u001b[0m \u001b[38;5;28mself\u001b[39m\u001b[38;5;241m.\u001b[39mprofile\u001b[38;5;241m.\u001b[39mcircuit \u001b[38;5;241m=\u001b[39m \u001b[38;5;28mself\u001b[39m\u001b[38;5;241m.\u001b[39mcircuit(optimized\u001b[38;5;241m.\u001b[39mx)\n\u001b[0;32m--> 166\u001b[0m \u001b[38;5;28mself\u001b[39m\u001b[38;5;241m.\u001b[39mprofile\u001b[38;5;241m.\u001b[39mspin \u001b[38;5;241m=\u001b[39m \u001b[38;5;28mself\u001b[39m\u001b[38;5;241m.\u001b[39msimulator\u001b[38;5;241m.\u001b[39mmeasure_spin(\u001b[38;5;28mself\u001b[39m\u001b[38;5;241m.\u001b[39mprofile)\n\u001b[1;32m    167\u001b[0m \u001b[38;5;28;01mreturn\u001b[39;00m \u001b[38;5;28mself\u001b[39m\u001b[38;5;241m.\u001b[39mprofile\n",
      "File \u001b[0;32m~/GitHub/Quantum_Computing/jqc/simulator/state_vector.py:61\u001b[0m, in \u001b[0;36mStateVector.measure_spin\u001b[0;34m(self, profile)\u001b[0m\n\u001b[1;32m     59\u001b[0m \u001b[38;5;28;01mdef\u001b[39;00m \u001b[38;5;21mmeasure_spin\u001b[39m(\u001b[38;5;28mself\u001b[39m, profile: Profile) \u001b[38;5;241m-\u001b[39m\u001b[38;5;241m>\u001b[39m \u001b[38;5;28mfloat\u001b[39m:\n\u001b[1;32m     60\u001b[0m     \u001b[38;5;124m'\u001b[39m\u001b[38;5;124mMeasure the spin of a quantum circuit.\u001b[39m\u001b[38;5;124m'\u001b[39m\n\u001b[0;32m---> 61\u001b[0m     s_x_and_s_y \u001b[38;5;241m=\u001b[39m s_plus(profile) \u001b[38;5;241m*\u001b[39m s_minus(profile) \u001b[38;5;241m+\u001b[39m s_minus(profile) \u001b[38;5;241m*\u001b[39m s_plus(profile)\n\u001b[1;32m     62\u001b[0m     s_x_and_s_y_val \u001b[38;5;241m=\u001b[39m \u001b[38;5;28mself\u001b[39m\u001b[38;5;241m.\u001b[39mmeasure(profile\u001b[38;5;241m.\u001b[39mcircuit, s_x_and_s_y, parallel\u001b[38;5;241m=\u001b[39m\u001b[38;5;28;01mFalse\u001b[39;00m)\n\u001b[1;32m     63\u001b[0m     s_z_val \u001b[38;5;241m=\u001b[39m \u001b[38;5;28mself\u001b[39m\u001b[38;5;241m.\u001b[39mmeasure(profile\u001b[38;5;241m.\u001b[39mcircuit, s_z(profile) \u001b[38;5;241m*\u001b[39m s_z(profile), parallel\u001b[38;5;241m=\u001b[39m\u001b[38;5;28;01mFalse\u001b[39;00m)\n",
      "File \u001b[0;32m~/GitHub/Quantum_Computing/jqc/mapper/jordan_wigner.py:156\u001b[0m, in \u001b[0;36mJordanWignerMapper.__mul__\u001b[0;34m(self, other)\u001b[0m\n\u001b[1;32m    155\u001b[0m \u001b[38;5;28;01mdef\u001b[39;00m \u001b[38;5;21m__mul__\u001b[39m(\u001b[38;5;28mself\u001b[39m, other):\n\u001b[0;32m--> 156\u001b[0m     \u001b[38;5;28;01mreturn\u001b[39;00m \u001b[38;5;28mself\u001b[39m\u001b[38;5;241m.\u001b[39mpauli_strings \u001b[38;5;241m*\u001b[39m other\u001b[38;5;241m.\u001b[39mpauli_strings\n",
      "\u001b[0;31mTypeError\u001b[0m: unsupported operand type(s) for *: 'dict' and 'dict'"
     ]
    }
   ],
   "source": [
    "from pyscf import gto\n",
    "from jqc import VQE, VQD\n",
    "from jqc.ansatz import eUCCSD, UCCSD\n",
    "\n",
    "mol = gto.M(atom='H 0 0 0; H 0 0 0.70', basis='sto-3g')\n",
    "vqd = VQD(mol, eUCCSD())\n",
    "vqd.nstates = 3\n",
    "\n",
    "vqd.run()"
   ]
  },
  {
   "cell_type": "code",
   "execution_count": 7,
   "metadata": {},
   "outputs": [
    {
     "name": "stdout",
     "output_type": "stream",
     "text": [
      "[[-0.99999496+0.j]]\n"
     ]
    }
   ],
   "source": [
    "import numpy as np\n",
    "from qiskit.quantum_info import Statevector\n",
    "from jqc.mapper.pauli_string import PauliString\n",
    "from jqc.mapper.pauli_operator import Pauli\n",
    "\n",
    "x = Pauli('X')\n",
    "y = Pauli('Y')\n",
    "z = Pauli('Z')\n",
    "i = Pauli('I')\n",
    "\n",
    "qc1 = vqd.profiles[1].circuit\n",
    "state_vector1 = Statevector.from_instruction(qc1).data.reshape(-1, 1)\n",
    "state_vector1 = np.round(state_vector1, 5)\n",
    "operator1 = PauliString([i, i, i, z])\n",
    "operator2 = PauliString([i, i, z, i])\n",
    "\n",
    "operator = operator1 * operator2\n",
    "\n",
    "value = state_vector1.conj().T @ operator.matrix @ state_vector1\n",
    "print(value)"
   ]
  },
  {
   "cell_type": "code",
   "execution_count": 5,
   "metadata": {},
   "outputs": [
    {
     "data": {
      "text/plain": [
       "{'state': 1,\n",
       " 'spin': '0.00',\n",
       " 'num_orb': 2,\n",
       " 'num_elec': 2,\n",
       " 'coeff': array([ 3.14159342e+00, -4.46085073e-08, -2.80649404e+00, -1.57078957e+00]),\n",
       " 'energy_elec': -1.234420500007531,\n",
       " 'energy_nucl': 0.7559674441714287,\n",
       " 'circuit': <qiskit.circuit.quantumcircuit.QuantumCircuit at 0x7f3ab8d9ba90>}"
      ]
     },
     "execution_count": 5,
     "metadata": {},
     "output_type": "execute_result"
    }
   ],
   "source": [
    "from jqc.measure.angular_momentum import s_z\n",
    "from jqc.simulator import StateVector\n",
    "\n",
    "profile = vqd.profiles[1]\n",
    "\n",
    "profile.show()"
   ]
  },
  {
   "cell_type": "code",
   "execution_count": 13,
   "metadata": {},
   "outputs": [
    {
     "name": "stdout",
     "output_type": "stream",
     "text": [
      "T1\n",
      "{'x': + XIII, 'y': + YIII, 'z': + ZIII}\n",
      "1.0\n",
      "\n",
      "S1\n",
      "{'x': + XIII, 'y': + YIII, 'z': + ZIII}\n",
      "-1.0\n",
      "\n",
      "S0\n",
      "{'x': + XIII, 'y': + YIII, 'z': + ZIII}\n",
      "-0.9781\n"
     ]
    }
   ],
   "source": [
    "import numpy as np\n",
    "import itertools\n",
    "from qiskit.quantum_info import Statevector\n",
    "from jqc.mapper.pauli_string import PauliString\n",
    "from jqc.mapper.pauli_operator import Pauli\n",
    "\n",
    "\n",
    "def measure_spin(state_vector):\n",
    "    # print(state_vector)\n",
    "    total_spin = 0.\n",
    "\n",
    "    x = Pauli('X')\n",
    "    y = Pauli('Y')\n",
    "    z = Pauli('Z')\n",
    "    i = Pauli('I')\n",
    "\n",
    "    qubits = [0, 1, 2, 3]\n",
    "    combinations = list(itertools.combinations(qubits, 2))\n",
    "    combinations = [(0, 1), (0, 2), (0, 3), (1, 2), (1, 3), (2, 3)]\n",
    "    combinations = [(0, 0)]\n",
    "    for idx in combinations:\n",
    "        operator = {'x': [], 'y': [], 'z': []}\n",
    "        for k in range(4):\n",
    "            if k == 0:\n",
    "                operator['x'].append(x)\n",
    "                operator['y'].append(y)\n",
    "                operator['z'].append(z)\n",
    "            else:\n",
    "                operator['x'].append(i)\n",
    "                operator['y'].append(i)\n",
    "                operator['z'].append(i)\n",
    "        pauli_string = {'x': PauliString(operator['x']),\n",
    "                        'y': PauliString(operator['y']),\n",
    "                        'z': PauliString(operator['z'])}\n",
    "        print(pauli_string)\n",
    "        for key, p_string in pauli_string.items():\n",
    "            spin = state_vector.conj().T @ p_string.matrix @ state_vector\n",
    "            total_spin += spin\n",
    "    return float(np.round(total_spin, 4).real)\n",
    "\n",
    "\n",
    "###\n",
    "print('T1')\n",
    "qc1 = vqd.profiles[1].circuit\n",
    "state_vector1 = Statevector.from_instruction(qc1).data.reshape(-1, 1)\n",
    "state_vector1 = np.round(state_vector1, 5)\n",
    "spin_measure1 = measure_spin(state_vector1)\n",
    "print(spin_measure1)\n",
    "\n",
    "# qc.draw('mpl')\n",
    "\n",
    "print('\\nS1')\n",
    "qc2 = vqd.profiles[2].circuit\n",
    "state_vector2 = Statevector.from_instruction(qc2).data.reshape(-1, 1)\n",
    "state_vector2 = np.round(state_vector2, 5)\n",
    "spin_measure2 = measure_spin(state_vector2)\n",
    "print(spin_measure2)\n",
    "\n",
    "print('\\nS0')\n",
    "qc0 = vqd.profiles[0].circuit\n",
    "state_vector0 = Statevector.from_instruction(qc0).data.reshape(-1, 1)\n",
    "state_vector0 = np.round(state_vector0, 5)\n",
    "spin_measure0 = measure_spin(state_vector0)\n",
    "print(spin_measure0)\n"
   ]
  },
  {
   "cell_type": "code",
   "execution_count": 49,
   "metadata": {},
   "outputs": [
    {
     "name": "stdout",
     "output_type": "stream",
     "text": [
      "[0.+0.j 0.+0.j 0.+0.j 0.+0.j 0.+0.j 0.+0.j 0.+0.j 0.+0.j 0.+0.j 0.+0.j\n",
      " 1.+0.j 0.+0.j 0.+0.j 0.+0.j 0.+0.j 0.+0.j]\n",
      "(-1+0j)\n"
     ]
    },
    {
     "data": {
      "image/png": "[encoded data removed]",
      "text/plain": [
       "<Figure size 287.496x367.889 with 1 Axes>"
      ]
     },
     "execution_count": 49,
     "metadata": {},
     "output_type": "execute_result"
    }
   ],
   "source": [
    "from qiskit import QuantumCircuit\n",
    "from qiskit.quantum_info import Statevector\n",
    "\n",
    "qc = QuantumCircuit(4)\n",
    "\n",
    "qc.x(1)\n",
    "qc.x(3)\n",
    "qc.barrier()\n",
    "\n",
    "# qc.h(0)\n",
    "# for i in range(3):\n",
    "#     qc.cx(i, i + 1)\n",
    "# qc.z(3)\n",
    "# for i in reversed(range(3)):\n",
    "#     qc.cx(i, i + 1)\n",
    "# qc.h(0)\n",
    "\n",
    "state_vector = Statevector.from_instruction(qc).data\n",
    "print(state_vector)\n",
    "\n",
    "\n",
    "pauli_x = np.array([[0, 1], [1, 0]])\n",
    "pauli_z = np.array([[1, 0], [0, -1]])\n",
    "pauli_y = np.array([[0, -1j], [1j, 0]])\n",
    "pauli_i = np.eye(2)\n",
    "\n",
    "operator_z = np.kron(pauli_z, np.kron(pauli_i, np.kron(pauli_z, pauli_i)))\n",
    "operator_x = np.kron(pauli_x, np.kron(pauli_i, np.kron(pauli_x, pauli_i)))\n",
    "operator_y = np.kron(pauli_y, np.kron(pauli_i, np.kron(pauli_y, pauli_i)))\n",
    "\n",
    "operator = operator_z + operator_x + operator_y\n",
    "\n",
    "spin_measure = state_vector.conj().T @ operator @ state_vector\n",
    "print(spin_measure)\n",
    "\n",
    "qc.draw('mpl')\n"
   ]
  }
 ],
 "metadata": {
  "kernelspec": {
   "display_name": "base",
   "language": "python",
   "name": "python3"
  },
  "language_info": {
   "codemirror_mode": {
    "name": "ipython",
    "version": 3
   },
   "file_extension": ".py",
   "mimetype": "text/x-python",
   "name": "python",
   "nbconvert_exporter": "python",
   "pygments_lexer": "ipython3",
   "version": "3.11.7"
  }
 },
 "nbformat": 4,
 "nbformat_minor": 2
}
