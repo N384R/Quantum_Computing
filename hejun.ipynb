{
 "cells": [
  {
   "cell_type": "code",
   "execution_count": 3,
   "metadata": {},
   "outputs": [
    {
     "name": "stdout",
     "output_type": "stream",
     "text": [
      "hello!\n"
     ]
    }
   ],
   "source": [
    "print('hello!')"
   ]
  },
  {
   "cell_type": "code",
   "execution_count": 4,
   "metadata": {},
   "outputs": [
    {
     "name": "stdout",
     "output_type": "stream",
     "text": [
      "bye!\n"
     ]
    }
   ],
   "source": [
    "print('bye!')"
   ]
  },
  {
   "cell_type": "code",
   "execution_count": 7,
   "metadata": {},
   "outputs": [
    {
     "name": "stdout",
     "output_type": "stream",
     "text": [
      "huijun fuxk\n"
     ]
    }
   ],
   "source": [
    "a = 'huijun fuxk'\n",
    "\n",
    "print(a)"
   ]
  },
  {
   "cell_type": "code",
   "execution_count": 9,
   "metadata": {},
   "outputs": [
    {
     "name": "stdout",
     "output_type": "stream",
     "text": [
      "4\n"
     ]
    }
   ],
   "source": [
    "a = 1\n",
    "\n",
    "b = 3\n",
    "\n",
    "c = a + b\n",
    "\n",
    "print(c)"
   ]
  },
  {
   "cell_type": "code",
   "execution_count": 10,
   "metadata": {},
   "outputs": [
    {
     "ename": "TypeError",
     "evalue": "unsupported operand type(s) for +: 'int' and 'str'",
     "output_type": "error",
     "traceback": [
      "\u001b[0;31m---------------------------------------------------------------------------\u001b[0m",
      "\u001b[0;31mTypeError\u001b[0m                                 Traceback (most recent call last)",
      "Cell \u001b[0;32mIn[10], line 5\u001b[0m\n\u001b[1;32m      1\u001b[0m a \u001b[38;5;241m=\u001b[39m \u001b[38;5;241m1\u001b[39m\n\u001b[1;32m      3\u001b[0m b \u001b[38;5;241m=\u001b[39m \u001b[38;5;124m'\u001b[39m\u001b[38;5;124m3\u001b[39m\u001b[38;5;124m'\u001b[39m\n\u001b[0;32m----> 5\u001b[0m c \u001b[38;5;241m=\u001b[39m a \u001b[38;5;241m+\u001b[39m b\n\u001b[1;32m      7\u001b[0m \u001b[38;5;28mprint\u001b[39m(c)\n",
      "\u001b[0;31mTypeError\u001b[0m: unsupported operand type(s) for +: 'int' and 'str'"
     ]
    }
   ],
   "source": [
    "a = 1\n",
    "\n",
    "b = '3'\n",
    "\n",
    "c = a + b\n",
    "\n",
    "print(c)"
   ]
  },
  {
   "cell_type": "code",
   "execution_count": 2,
   "metadata": {},
   "outputs": [
    {
     "name": "stdout",
     "output_type": "stream",
     "text": [
      "this is c 15\n",
      "this is z None\n"
     ]
    }
   ],
   "source": [
    "def jun(a, b):\n",
    "    c = a + b\n",
    "    print('this is c', c)\n",
    "\n",
    "x = 7\n",
    "\n",
    "y = 8\n",
    "\n",
    "z = jun(x, y)\n",
    "\n",
    "\n",
    "print('this is z', z)"
   ]
  },
  {
   "cell_type": "code",
   "execution_count": 19,
   "metadata": {},
   "outputs": [
    {
     "name": "stdout",
     "output_type": "stream",
     "text": [
      "jeyun\n"
     ]
    }
   ],
   "source": [
    "a = 2\n",
    "\n",
    "b = 2\n",
    "\n",
    "c = 2\n",
    "\n",
    "\n",
    "if (a == b) | (b != c):\n",
    "    print('jeyun')\n",
    "else:\n",
    "    print('huijun')"
   ]
  },
  {
   "cell_type": "code",
   "execution_count": 25,
   "metadata": {},
   "outputs": [
    {
     "name": "stdout",
     "output_type": "stream",
     "text": [
      "i is 0\n",
      "this is a 1\n",
      "i is 1\n",
      "this is a 2\n",
      "i is 2\n",
      "this is a 3\n",
      "i is 3\n",
      "this is a 4\n",
      "i is 4\n",
      "this is a 5\n",
      "i is 5\n",
      "this is a 6\n",
      "i is 6\n",
      "this is a 7\n",
      "i is 7\n",
      "this is a 8\n",
      "i is 8\n",
      "this is a 9\n",
      "i is 9\n",
      "this is a 10\n"
     ]
    }
   ],
   "source": [
    "a = 0\n",
    "\n",
    "for i in range(10):\n",
    "    a = a + 1\n",
    "    print('i is', i)\n",
    "    print('this is a', a)"
   ]
  },
  {
   "cell_type": "code",
   "execution_count": 27,
   "metadata": {},
   "outputs": [
    {
     "name": "stdout",
     "output_type": "stream",
     "text": [
      "\n",
      "Starting VQE Calculation\n",
      "\n",
      "Ansatz: UCCSD\n",
      "Simulator: StateVector\n",
      "Optimizer: powell\n",
      "\n",
      "Iteration: 1130, Converged!!                \n",
      "Total Energy: -7.882266098\n",
      "\n",
      "Elapsed time: 0:07:24\n"
     ]
    },
    {
     "data": {
      "text/plain": [
       "<jqc.vqe.vqe.VQE at 0x7f7f8ece3510>"
      ]
     },
     "execution_count": 27,
     "metadata": {},
     "output_type": "execute_result"
    }
   ],
   "source": [
    "from pyscf import gto\n",
    "from jqc import VQE\n",
    "from jqc.ansatz import UCCSD\n",
    "\n",
    "mol = gto.M(atom='Li 0 0 0; H 0 0 1.60', basis='sto-3g')\n",
    "vqe = VQE(mol, UCCSD())\n",
    "\n",
    "vqe.run()"
   ]
  },
  {
   "cell_type": "code",
   "execution_count": 28,
   "metadata": {},
   "outputs": [
    {
     "data": {
      "text/plain": [
       "{'state': 0,\n",
       " 'spin': '0.00',\n",
       " 'num_orb': 6,\n",
       " 'num_elec': 4,\n",
       " 'coeff': array([ 9.21741773e-04,  8.99368494e-04,  1.53210777e-14,  4.44089210e-14,\n",
       "        -1.82076576e-14,  1.13242749e-14, -9.44023790e-04, -9.46522237e-04,\n",
       "         6.16783979e-02,  4.78168585e-02,  1.73416836e-13, -1.96287431e-13,\n",
       "         7.61835039e-13, -1.52988733e-13,  6.06770579e-03,  5.49769741e-03,\n",
       "        -7.79861367e-03, -1.11022302e-14,  1.08801856e-14,  4.27541426e-04,\n",
       "         7.54951657e-15, -3.62883750e-03,  1.90958360e-14, -7.32747196e-15,\n",
       "         9.76996262e-15, -7.10542736e-15, -3.62726097e-03, -1.55431223e-15,\n",
       "         4.51841101e-04, -3.10862447e-15, -5.10702591e-15, -2.09327735e-03,\n",
       "        -5.34316758e-04, -8.88178420e-16, -2.62012634e-14, -5.69876273e-04,\n",
       "         2.02060590e-14, -5.92744149e-03, -3.99680289e-14, -3.15303339e-14,\n",
       "        -4.44089210e-16, -8.88178420e-16, -5.94796729e-03, -9.10382880e-15,\n",
       "        -1.82816895e-03, -5.32907052e-15,  4.06341627e-14, -4.29905982e-04,\n",
       "        -6.30225634e-04, -1.17683641e-14, -2.24265051e-14, -1.96722379e-03,\n",
       "         1.17683641e-14, -5.99494800e-03,  2.88657986e-15,  3.55271368e-15,\n",
       "        -3.39728246e-14, -1.68753900e-14, -6.01449455e-03,  7.54951657e-15,\n",
       "        -5.65094964e-04,  1.24344979e-14,  1.93178806e-14, -4.41429873e-04,\n",
       "        -6.00739525e-02,  2.95319325e-14,  3.70814490e-14,  1.15641727e-01,\n",
       "        -8.21565038e-15, -5.40517550e-02, -2.24265051e-14,  1.84297022e-14,\n",
       "        -3.84137167e-14,  3.68594044e-14, -5.43079232e-02, -2.62012634e-14,\n",
       "         1.12707572e-01, -2.22044605e-16,  3.19744231e-14, -2.31309760e-01]),\n",
       " 'energy_total': -7.882266097557392,\n",
       " 'circuit': <qiskit.circuit.quantumcircuit.QuantumCircuit at 0x7f7f63b12350>}"
      ]
     },
     "execution_count": 28,
     "metadata": {},
     "output_type": "execute_result"
    }
   ],
   "source": [
    "vqe.profile.show()"
   ]
  }
 ],
 "metadata": {
  "kernelspec": {
   "display_name": "base",
   "language": "python",
   "name": "python3"
  },
  "language_info": {
   "codemirror_mode": {
    "name": "ipython",
    "version": 3
   },
   "file_extension": ".py",
   "mimetype": "text/x-python",
   "name": "python",
   "nbconvert_exporter": "python",
   "pygments_lexer": "ipython3",
   "version": "3.11.7"
  }
 },
 "nbformat": 4,
 "nbformat_minor": 2
}
