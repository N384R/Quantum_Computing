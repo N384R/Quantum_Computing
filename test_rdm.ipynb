{
 "cells": [
  {
   "cell_type": "code",
   "execution_count": 1,
   "metadata": {},
   "outputs": [
    {
     "name": "stdout",
     "output_type": "stream",
     "text": [
      "전체 밀도 행렬:\n",
      "Statevector([0.3+0.j, 0.4+0.j, 0.5+0.j, 0.6+0.j],\n",
      "            dims=(2, 2))\n",
      "\n",
      "첫 번째 큐빗의 축소 밀도 행렬:\n",
      "DensityMatrix([[0.34+0.j, 0.42+0.j],\n",
      "               [0.42+0.j, 0.52+0.j]],\n",
      "              dims=(2,))\n",
      "\n",
      "두 번째 큐빗의 축소 밀도 행렬:\n",
      "DensityMatrix([[0.25+0.j, 0.39+0.j],\n",
      "               [0.39+0.j, 0.61+0.j]],\n",
      "              dims=(2,))\n"
     ]
    }
   ],
   "source": [
    "import numpy as np\n",
    "from qiskit.quantum_info import Statevector, partial_trace\n",
    "\n",
    "# 상태 벡터 정의\n",
    "state_vector = Statevector([0.3, 0.4, 0.5, 0.6])\n",
    "\n",
    "# 첫 번째 큐빗에 대한 축소 밀도 행렬 계산\n",
    "reduced_density_matrix_first = partial_trace(state_vector, [1])\n",
    "\n",
    "# 두 번째 큐빗에 대한 축소 밀도 행렬 계산\n",
    "reduced_density_matrix_second = partial_trace(state_vector, [0])\n",
    "\n",
    "# 결과 출력\n",
    "print(\"전체 밀도 행렬:\")\n",
    "print(state_vector)\n",
    "\n",
    "print(\"\\n첫 번째 큐빗의 축소 밀도 행렬:\")\n",
    "print(reduced_density_matrix_first)\n",
    "\n",
    "print(\"\\n두 번째 큐빗의 축소 밀도 행렬:\")\n",
    "print(reduced_density_matrix_second)\n"
   ]
  },
  {
   "cell_type": "code",
   "execution_count": 2,
   "metadata": {},
   "outputs": [
    {
     "name": "stdout",
     "output_type": "stream",
     "text": [
      "Statevector([0.3+0.j, 0.4+0.j, 0.5+0.j, 0.6+0.j, 0.2+0.j, 0.1+0.j, 0.3+0.j,\n",
      "             0.4+0.j],\n",
      "            dims=(2, 2, 2))\n",
      "첫 번째 큐빗에 대한 X 연산 결과: (0.98+0j)\n",
      "세 번째 큐빗에 대한 Y 연산 결과: 0j\n",
      "최종 결과 (기대값): 0j\n"
     ]
    }
   ],
   "source": [
    "import numpy as np\n",
    "from qiskit.quantum_info import Statevector, partial_trace, Operator\n",
    "\n",
    "# 상태 벡터 정의 및 정상화\n",
    "state_vector = Statevector([0.3, 0.4, 0.5, 0.6, 0.2, 0.1, 0.3, 0.4])\n",
    "print(state_vector)\n",
    "\n",
    "# Pauli 행렬 정의\n",
    "X = np.array([[0, 1], [1, 0]])\n",
    "Y = np.array([[0, -1j], [1j, 0]])\n",
    "I = np.eye(2)\n",
    "\n",
    "# 첫 번째 큐빗에 대한 축소 밀도 행렬 계산\n",
    "reduced_density_matrix_first = partial_trace(state_vector, [0, 2]).data\n",
    "\n",
    "# 세 번째 큐빗에 대한 축소 밀도 행렬 계산\n",
    "reduced_density_matrix_third = partial_trace(state_vector, [0, 1]).data\n",
    "\n",
    "# 첫 번째 큐빗에 X 연산 적용\n",
    "first_qubit_result = np.trace(reduced_density_matrix_first @ X)\n",
    "\n",
    "# 세 번째 큐빗에 Y 연산 적용\n",
    "third_qubit_result = np.trace(reduced_density_matrix_third @ Y)\n",
    "\n",
    "# 최종 결과 결합\n",
    "final_result = first_qubit_result * third_qubit_result\n",
    "\n",
    "# 결과 출력\n",
    "print(\"첫 번째 큐빗에 대한 X 연산 결과:\", first_qubit_result)\n",
    "print(\"세 번째 큐빗에 대한 Y 연산 결과:\", third_qubit_result)\n",
    "print(\"최종 결과 (기대값):\", final_result)\n"
   ]
  },
  {
   "cell_type": "code",
   "execution_count": 1,
   "metadata": {},
   "outputs": [
    {
     "name": "stdout",
     "output_type": "stream",
     "text": [
      "첫 번째와 네 번째 큐빗의 Z 연산자에 대한 기대값 (축소 밀도 행렬): -0.016615794593490153\n",
      "첫 번째와 네 번째 큐빗의 Z 연산자에 대한 기대값 (전체 행렬 계산): -0.0166157945934902046\n"
     ]
    }
   ],
   "source": [
    "import numpy as np\n",
    "from qiskit.quantum_info import Statevector, partial_trace\n",
    "\n",
    "# 임의의 12 큐빗 상태 벡터 생성\n",
    "np.random.seed(42)  # 랜덤 시드 설정\n",
    "state_vector = np.random.rand(2**12) + 1j * np.random.rand(2**12)\n",
    "state_vector = state_vector / np.linalg.norm(state_vector)  # 상태 벡터 정규화\n",
    "\n",
    "# 상태 벡터를 Qiskit Statevector 객체로 변환\n",
    "state_vector = Statevector(state_vector)\n",
    "\n",
    "# Pauli 행렬 정의\n",
    "Z = np.array([[1, 0], [0, -1]])\n",
    "Y = np.array([[0, -1j], [1j, 0]])\n",
    "I = np.eye(2)\n",
    "\n",
    "# 관심 있는 큐빗을 제외하고 추적\n",
    "rdm_indices = [i for i in range(12) if i not in [0, 3]]  # 추적할 큐빗 인덱스\n",
    "reduced_density_matrix = partial_trace(state_vector, rdm_indices).data\n",
    "\n",
    "# 축소 밀도 행렬과 Z 연산자의 기대값 계산\n",
    "operator_reduced = np.kron(Y, Z)\n",
    "expectation_value_reduced = np.trace(reduced_density_matrix @ operator_reduced)\n",
    "\n",
    "# 결과 출력\n",
    "print(\"첫 번째와 네 번째 큐빗의 Z 연산자에 대한 기대값 (축소 밀도 행렬):\", expectation_value_reduced.real)\n",
    "\n",
    "# 전체 행렬 계산\n",
    "state_vector_ndarray = state_vector.data.reshape(-1, 1)\n",
    "\n",
    "operator_full = Z\n",
    "for i in range(1, 12):\n",
    "    if i == 3:\n",
    "        operator_full = np.kron(Y, operator_full)  # 네 번째 큐빗에 Z 연산자\n",
    "    else:\n",
    "        operator_full = np.kron(I, operator_full)  # 나머지 큐빗에 I 연산자\n",
    "\n",
    "expectation_value_full = state_vector_ndarray.conj().T @ operator_full @ state_vector_ndarray\n",
    "\n",
    "# 결과 출력\n",
    "print(f\"첫 번째와 네 번째 큐빗의 Z 연산자에 대한 기대값 (전체 행렬 계산): {expectation_value_full[0, 0].real:.019f}\")"
   ]
  },
  {
   "cell_type": "code",
   "execution_count": 2,
   "metadata": {},
   "outputs": [
    {
     "ename": "",
     "evalue": "",
     "output_type": "error",
     "traceback": [
      "\u001b[1;31mThe Kernel crashed while executing code in the current cell or a previous cell. \n",
      "\u001b[1;31mPlease review the code in the cell(s) to identify a possible cause of the failure. \n",
      "\u001b[1;31mClick <a href='https://aka.ms/vscodeJupyterKernelCrash'>here</a> for more info. \n",
      "\u001b[1;31mView Jupyter <a href='command:jupyter.viewOutput'>log</a> for further details."
     ]
    }
   ],
   "source": [
    "from functools import reduce\n",
    "import numpy as np\n",
    "from qiskit import QuantumCircuit\n",
    "from qiskit.quantum_info import Statevector, partial_trace\n",
    "from jqc.mapper.pauli import Pauli\n",
    "\n",
    "def matrix(pauli):\n",
    "    return reduce(np.kron, [p.matrix for p in pauli])\n",
    "\n",
    "I = Pauli('I')\n",
    "X = Pauli('X')\n",
    "Y = Pauli('Y')\n",
    "Z = Pauli('Z')\n",
    "\n",
    "p_string = (Y, Z, Z, Z, Z, Z, Z, Z, Y, I, I, X, Z, Z, Z, Z, X, I, I, I, I, I)\n",
    "qc = QuantumCircuit(len(p_string))\n",
    "qc.x(0)\n",
    "qc.x(1)\n",
    "qc.x(len(p_string)//2)\n",
    "qc.x(len(p_string)//2 + 1)\n",
    "state_vector = Statevector.from_instruction(qc)\n",
    "reduce_idx = [idx for idx, p in enumerate(p_string) if p.symbol == 'I']\n",
    "left_pauli = [p for p in p_string if p.symbol != 'I']\n",
    "rdm = partial_trace(state_vector, reduce_idx).data\n",
    "\n",
    "op = matrix(left_pauli)\n",
    "\n",
    "# trace = np.trace(rdm @ op)\n",
    "# print(trace)"
   ]
  }
 ],
 "metadata": {
  "kernelspec": {
   "display_name": "base",
   "language": "python",
   "name": "python3"
  },
  "language_info": {
   "codemirror_mode": {
    "name": "ipython",
    "version": 3
   },
   "file_extension": ".py",
   "mimetype": "text/x-python",
   "name": "python",
   "nbconvert_exporter": "python",
   "pygments_lexer": "ipython3",
   "version": "3.11.7"
  }
 },
 "nbformat": 4,
 "nbformat_minor": 2
}
